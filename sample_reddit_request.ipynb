{
 "cells": [
  {
   "cell_type": "code",
   "execution_count": 1,
   "metadata": {},
   "outputs": [
    {
     "name": "stdout",
     "output_type": "stream",
     "text": [
      "Requirement already satisfied: pandas in /Users/rolando/opt/anaconda3/lib/python3.9/site-packages (1.3.5)\n",
      "Requirement already satisfied: praw in /Users/rolando/opt/anaconda3/lib/python3.9/site-packages (7.7.1)\n",
      "Requirement already satisfied: pytz>=2017.3 in /Users/rolando/opt/anaconda3/lib/python3.9/site-packages (from pandas) (2022.7.1)\n",
      "Requirement already satisfied: numpy>=1.17.3 in /Users/rolando/opt/anaconda3/lib/python3.9/site-packages (from pandas) (1.24.3)\n",
      "Requirement already satisfied: python-dateutil>=2.7.3 in /Users/rolando/opt/anaconda3/lib/python3.9/site-packages (from pandas) (2.8.1)\n",
      "Requirement already satisfied: prawcore<3,>=2.1 in /Users/rolando/opt/anaconda3/lib/python3.9/site-packages (from praw) (2.4.0)\n",
      "Requirement already satisfied: websocket-client>=0.54.0 in /Users/rolando/opt/anaconda3/lib/python3.9/site-packages (from praw) (0.58.0)\n",
      "Requirement already satisfied: update-checker>=0.18 in /Users/rolando/opt/anaconda3/lib/python3.9/site-packages (from praw) (0.18.0)\n",
      "Requirement already satisfied: requests<3.0,>=2.6.0 in /Users/rolando/opt/anaconda3/lib/python3.9/site-packages (from prawcore<3,>=2.1->praw) (2.27.1)\n",
      "Requirement already satisfied: six>=1.5 in /Users/rolando/opt/anaconda3/lib/python3.9/site-packages (from python-dateutil>=2.7.3->pandas) (1.16.0)\n",
      "Requirement already satisfied: certifi>=2017.4.17 in /Users/rolando/opt/anaconda3/lib/python3.9/site-packages (from requests<3.0,>=2.6.0->prawcore<3,>=2.1->praw) (2022.9.24)\n",
      "Requirement already satisfied: charset-normalizer~=2.0.0 in /Users/rolando/opt/anaconda3/lib/python3.9/site-packages (from requests<3.0,>=2.6.0->prawcore<3,>=2.1->praw) (2.0.4)\n",
      "Requirement already satisfied: urllib3<1.27,>=1.21.1 in /Users/rolando/opt/anaconda3/lib/python3.9/site-packages (from requests<3.0,>=2.6.0->prawcore<3,>=2.1->praw) (1.26.11)\n",
      "Requirement already satisfied: idna<4,>=2.5 in /Users/rolando/opt/anaconda3/lib/python3.9/site-packages (from requests<3.0,>=2.6.0->prawcore<3,>=2.1->praw) (3.3)\n",
      "\u001b[33mWARNING: Error parsing requirements for platformdirs: [Errno 2] No such file or directory: '/Users/rolando/opt/anaconda3/lib/python3.9/site-packages/platformdirs-2.5.2.dist-info/METADATA'\u001b[0m\u001b[33m\n",
      "\u001b[0m"
     ]
    }
   ],
   "source": [
    "# installs pandas and praw if not already installed\n",
    "! pip install pandas praw\n",
    "\n",
    "# import the necessary Python Libraries\n",
    "import pandas as pd\n",
    "import praw\n",
    "from datetime import datetime, timezone"
   ]
  },
  {
   "cell_type": "markdown",
   "metadata": {},
   "source": [
    "## Setting up praw Reddit api wrapper\n",
    "\n",
    "### Please note\n",
    "#### client_id and client_secret information can be found at https://www.reddit.com/prefs/apps once you have created an reddit app.\n",
    "\n",
    "    - client_id is the string of letters, numbers, and symbols located under below your app's title and script time(e.g. personal use script)\n",
    "    \n",
    "    - client_secret is the string of letters, numbers, and symbols the follows 'secret' when you click on 'edit'"
   ]
  },
  {
   "cell_type": "code",
   "execution_count": 30,
   "metadata": {},
   "outputs": [],
   "source": [
    "reddit = praw.Reddit(\n",
    "    client_id=\"*******************\", # replace with app's id\n",
    "    client_secret=\"*******************\", # replace with app's secret id\n",
    "    user_agent= \"Reddit data by u/<reddit_username>\", # replace <reddit_username> with your Reddit username\n",
    "    username=\"<reddit_username>\", # replace <reddit_username> with your reddit username (do not include u/)\n",
    "    password=\"*******************\",# replace with your reddit password\n",
    "    redirect_uri=\"https://localhost:8080\" # do not change\n",
    ")"
   ]
  },
  {
   "cell_type": "code",
   "execution_count": 31,
   "metadata": {},
   "outputs": [
    {
     "name": "stdout",
     "output_type": "stream",
     "text": [
      "kierkeggard\n"
     ]
    }
   ],
   "source": [
    "# you should see your reddit username when you run this code\n",
    "print(reddit.user.me())"
   ]
  },
  {
   "cell_type": "code",
   "execution_count": 92,
   "metadata": {},
   "outputs": [],
   "source": [
    "# creates a empty list to populate with reddit data\n",
    "reddit_data = []"
   ]
  },
  {
   "cell_type": "code",
   "execution_count": 93,
   "metadata": {},
   "outputs": [],
   "source": [
    "# loops through each post/submission and adds an object with the specified data\n",
    "# for additional information that can be extracted, see https://praw.readthedocs.io/en/stable/code_overview/models/submission.html\n",
    "for sub in reddit.subreddit(\"GPT3\").hot(limit=None): # you can replace GPT3 with the name of any subreddit\n",
    "    reddit_data.append({\n",
    "        'id': sub.id,\n",
    "        'author': sub.author,\n",
    "        'created': datetime.fromtimestamp(sub.created, timezone.utc), # converts unix time to timestamp\n",
    "        'title': sub.title,\n",
    "        'content': sub.selftext,\n",
    "        'subreddit': sub.subreddit,\n",
    "        'url': sub.url,\n",
    "        'num_comments': sub.num_comments,\n",
    "        'score': sub.score,\n",
    "        'upvote_ratio': sub.upvote_ratio,\n",
    "        'comments': sub.comments      \n",
    "    })"
   ]
  },
  {
   "cell_type": "code",
   "execution_count": 94,
   "metadata": {},
   "outputs": [
    {
     "data": {
      "text/html": [
       "<div>\n",
       "<style scoped>\n",
       "    .dataframe tbody tr th:only-of-type {\n",
       "        vertical-align: middle;\n",
       "    }\n",
       "\n",
       "    .dataframe tbody tr th {\n",
       "        vertical-align: top;\n",
       "    }\n",
       "\n",
       "    .dataframe thead th {\n",
       "        text-align: right;\n",
       "    }\n",
       "</style>\n",
       "<table border=\"1\" class=\"dataframe\">\n",
       "  <thead>\n",
       "    <tr style=\"text-align: right;\">\n",
       "      <th></th>\n",
       "      <th>id</th>\n",
       "      <th>author</th>\n",
       "      <th>created</th>\n",
       "      <th>title</th>\n",
       "      <th>content</th>\n",
       "      <th>subreddit</th>\n",
       "      <th>url</th>\n",
       "    </tr>\n",
       "  </thead>\n",
       "  <tbody>\n",
       "    <tr>\n",
       "      <th>0</th>\n",
       "      <td>17enxxw</td>\n",
       "      <td>luckrbox</td>\n",
       "      <td>1.698077e+09</td>\n",
       "      <td>Nvidia's new AI agent, Eureka, can teach robot...</td>\n",
       "      <td>Nvidia Research has introduced a groundbreakin...</td>\n",
       "      <td>GPT3</td>\n",
       "      <td>https://www.reddit.com/r/GPT3/comments/17enxxw...</td>\n",
       "    </tr>\n",
       "    <tr>\n",
       "      <th>1</th>\n",
       "      <td>17egbu4</td>\n",
       "      <td>BlueeWaater</td>\n",
       "      <td>1.698053e+09</td>\n",
       "      <td>Fine tuning 3.5 on specific libraries</td>\n",
       "      <td>Anyone ever tried fine tuning 3.5 in specific ...</td>\n",
       "      <td>GPT3</td>\n",
       "      <td>https://www.reddit.com/r/GPT3/comments/17egbu4...</td>\n",
       "    </tr>\n",
       "    <tr>\n",
       "      <th>2</th>\n",
       "      <td>17ds400</td>\n",
       "      <td>tykneeweener</td>\n",
       "      <td>1.697978e+09</td>\n",
       "      <td>Future of Ai</td>\n",
       "      <td>Hello friends; excuse my lack of intelligence ...</td>\n",
       "      <td>GPT3</td>\n",
       "      <td>https://www.reddit.com/r/GPT3/comments/17ds400...</td>\n",
       "    </tr>\n",
       "    <tr>\n",
       "      <th>3</th>\n",
       "      <td>17dtix2</td>\n",
       "      <td>Additional_Zebra_861</td>\n",
       "      <td>1.697982e+09</td>\n",
       "      <td>GPT-3.5 Turbo fine-tuning and API updates</td>\n",
       "      <td></td>\n",
       "      <td>GPT3</td>\n",
       "      <td>https://inboom.ai/gpt-3-5-turbo-fine-tuning-an...</td>\n",
       "    </tr>\n",
       "    <tr>\n",
       "      <th>4</th>\n",
       "      <td>17borr5</td>\n",
       "      <td>Additional_Zebra_861</td>\n",
       "      <td>1.697737e+09</td>\n",
       "      <td>Baidu claims its Ernie AI chatbot is now as go...</td>\n",
       "      <td></td>\n",
       "      <td>GPT3</td>\n",
       "      <td>https://inboom.ai/baidu-claims-its-ernie-ai-ch...</td>\n",
       "    </tr>\n",
       "    <tr>\n",
       "      <th>...</th>\n",
       "      <td>...</td>\n",
       "      <td>...</td>\n",
       "      <td>...</td>\n",
       "      <td>...</td>\n",
       "      <td>...</td>\n",
       "      <td>...</td>\n",
       "      <td>...</td>\n",
       "    </tr>\n",
       "    <tr>\n",
       "      <th>979</th>\n",
       "      <td>10y826x</td>\n",
       "      <td>Morning_Joey_6302</td>\n",
       "      <td>1.675981e+09</td>\n",
       "      <td>Really thoughtful essay by Ted Chiang on what ...</td>\n",
       "      <td>ChatGPT Is a Blurry JPEG of the Web https://ww...</td>\n",
       "      <td>GPT3</td>\n",
       "      <td>https://www.reddit.com/r/GPT3/comments/10y826x...</td>\n",
       "    </tr>\n",
       "    <tr>\n",
       "      <th>980</th>\n",
       "      <td>10b4jrz</td>\n",
       "      <td>kmtrp</td>\n",
       "      <td>1.673642e+09</td>\n",
       "      <td>Can I feed GPT an entire book and answer quest...</td>\n",
       "      <td>Title. I'd love this sort of format, asking qu...</td>\n",
       "      <td>GPT3</td>\n",
       "      <td>https://www.reddit.com/r/GPT3/comments/10b4jrz...</td>\n",
       "    </tr>\n",
       "    <tr>\n",
       "      <th>981</th>\n",
       "      <td>zpanti</td>\n",
       "      <td>SaxoBen_</td>\n",
       "      <td>1.671404e+09</td>\n",
       "      <td>GPT3 casually being racist and dunking on burn...</td>\n",
       "      <td></td>\n",
       "      <td>GPT3</td>\n",
       "      <td>https://i.redd.it/35k2leoviq6a1.png</td>\n",
       "    </tr>\n",
       "    <tr>\n",
       "      <th>982</th>\n",
       "      <td>zgjx1p</td>\n",
       "      <td>Grank314</td>\n",
       "      <td>1.670552e+09</td>\n",
       "      <td>Cringe measuring device</td>\n",
       "      <td></td>\n",
       "      <td>GPT3</td>\n",
       "      <td>https://i.redd.it/s4yu6pg67s4a1.png</td>\n",
       "    </tr>\n",
       "    <tr>\n",
       "      <th>983</th>\n",
       "      <td>vvip6r</td>\n",
       "      <td>simonw</td>\n",
       "      <td>1.657424e+09</td>\n",
       "      <td>Training GPT-3 on a set of documents so you ca...</td>\n",
       "      <td>Is it possible to train GPT-3 by feeding it in...</td>\n",
       "      <td>GPT3</td>\n",
       "      <td>https://www.reddit.com/r/GPT3/comments/vvip6r/...</td>\n",
       "    </tr>\n",
       "  </tbody>\n",
       "</table>\n",
       "<p>984 rows × 7 columns</p>\n",
       "</div>"
      ],
      "text/plain": [
       "          id                author       created  \\\n",
       "0    17enxxw              luckrbox  1.698077e+09   \n",
       "1    17egbu4           BlueeWaater  1.698053e+09   \n",
       "2    17ds400          tykneeweener  1.697978e+09   \n",
       "3    17dtix2  Additional_Zebra_861  1.697982e+09   \n",
       "4    17borr5  Additional_Zebra_861  1.697737e+09   \n",
       "..       ...                   ...           ...   \n",
       "979  10y826x     Morning_Joey_6302  1.675981e+09   \n",
       "980  10b4jrz                 kmtrp  1.673642e+09   \n",
       "981   zpanti              SaxoBen_  1.671404e+09   \n",
       "982   zgjx1p              Grank314  1.670552e+09   \n",
       "983   vvip6r                simonw  1.657424e+09   \n",
       "\n",
       "                                                 title  \\\n",
       "0    Nvidia's new AI agent, Eureka, can teach robot...   \n",
       "1                Fine tuning 3.5 on specific libraries   \n",
       "2                                         Future of Ai   \n",
       "3            GPT-3.5 Turbo fine-tuning and API updates   \n",
       "4    Baidu claims its Ernie AI chatbot is now as go...   \n",
       "..                                                 ...   \n",
       "979  Really thoughtful essay by Ted Chiang on what ...   \n",
       "980  Can I feed GPT an entire book and answer quest...   \n",
       "981  GPT3 casually being racist and dunking on burn...   \n",
       "982                            Cringe measuring device   \n",
       "983  Training GPT-3 on a set of documents so you ca...   \n",
       "\n",
       "                                               content subreddit  \\\n",
       "0    Nvidia Research has introduced a groundbreakin...      GPT3   \n",
       "1    Anyone ever tried fine tuning 3.5 in specific ...      GPT3   \n",
       "2    Hello friends; excuse my lack of intelligence ...      GPT3   \n",
       "3                                                           GPT3   \n",
       "4                                                           GPT3   \n",
       "..                                                 ...       ...   \n",
       "979  ChatGPT Is a Blurry JPEG of the Web https://ww...      GPT3   \n",
       "980  Title. I'd love this sort of format, asking qu...      GPT3   \n",
       "981                                                         GPT3   \n",
       "982                                                         GPT3   \n",
       "983  Is it possible to train GPT-3 by feeding it in...      GPT3   \n",
       "\n",
       "                                                   url  \n",
       "0    https://www.reddit.com/r/GPT3/comments/17enxxw...  \n",
       "1    https://www.reddit.com/r/GPT3/comments/17egbu4...  \n",
       "2    https://www.reddit.com/r/GPT3/comments/17ds400...  \n",
       "3    https://inboom.ai/gpt-3-5-turbo-fine-tuning-an...  \n",
       "4    https://inboom.ai/baidu-claims-its-ernie-ai-ch...  \n",
       "..                                                 ...  \n",
       "979  https://www.reddit.com/r/GPT3/comments/10y826x...  \n",
       "980  https://www.reddit.com/r/GPT3/comments/10b4jrz...  \n",
       "981                https://i.redd.it/35k2leoviq6a1.png  \n",
       "982                https://i.redd.it/s4yu6pg67s4a1.png  \n",
       "983  https://www.reddit.com/r/GPT3/comments/vvip6r/...  \n",
       "\n",
       "[984 rows x 7 columns]"
      ]
     },
     "execution_count": 94,
     "metadata": {},
     "output_type": "execute_result"
    }
   ],
   "source": [
    "df = pd.DataFrame(data=reddit_data)\n",
    "df"
   ]
  },
  {
   "cell_type": "code",
   "execution_count": 97,
   "metadata": {},
   "outputs": [
    {
     "data": {
      "text/plain": [
       "984"
      ]
     },
     "execution_count": 97,
     "metadata": {},
     "output_type": "execute_result"
    }
   ],
   "source": [
    "# number of posts in the dataset\n",
    "len(df)"
   ]
  },
  {
   "cell_type": "code",
   "execution_count": 98,
   "metadata": {},
   "outputs": [],
   "source": [
    "# saves dataset to same folder as the Jupyter Notebook\n",
    "# change name to reflect whichever subreddit you used\n",
    "df.to_csv(\"reddit_gpt3_data.csv\", index=False, encoding='UTF-8')"
   ]
  }
 ],
 "metadata": {
  "kernelspec": {
   "display_name": "Python 3",
   "language": "python",
   "name": "python3"
  },
  "language_info": {
   "codemirror_mode": {
    "name": "ipython",
    "version": 3
   },
   "file_extension": ".py",
   "mimetype": "text/x-python",
   "name": "python",
   "nbconvert_exporter": "python",
   "pygments_lexer": "ipython3",
   "version": "3.9.13"
  },
  "orig_nbformat": 4
 },
 "nbformat": 4,
 "nbformat_minor": 2
}
