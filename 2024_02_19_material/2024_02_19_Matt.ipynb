{
 "cells": [
  {
   "cell_type": "code",
   "execution_count": 4,
   "metadata": {},
   "outputs": [],
   "source": [
    "import pandas as pd\n",
    "import seaborn as sns\n",
    "from nltk.sentiment.vader import SentimentIntensityAnalyzer"
   ]
  },
  {
   "cell_type": "markdown",
   "metadata": {},
   "source": [
    "## Sentiment Analysis with VADER\n",
    "\n",
    "### Key Terms\n",
    "\n",
    "* Lexicon: A lexicon is a list of word mapped to a sentiment or emotion.  In the simplest case, positive vs. negative.\n",
    "    + Difficult and time consuming to create (usually by lots of human reviewers)\n",
    "    + Example: (LIWC (Linguistic Inquiry and Word Count))[https://www.liwc.app/]\n",
    "* Valence: A scoring of direction and intensity (e.g. \"wonderful\" vs \"alright\")"
   ]
  },
  {
   "cell_type": "markdown",
   "metadata": {},
   "source": [
    "### VADER\n",
    "\n",
    "[VADER paper](https://ojs.aaai.org/index.php/ICWSM/article/view/14550)\n",
    "\n",
    "VADER (Valence  Aware  Dictionary  for sEntiment Reasoning) uses a valence lexicon (derived from previous work with crowdsourced additions) with a few rule-based modifiers (see the paper for more details).  \n",
    "\n",
    "1. Punctuation, especially !\n",
    "2. Capitalization\n",
    "3. Degree modifiers (i.e. adverbs)\n",
    "4. \"But\"...\n",
    "5. Negation\n",
    "\n",
    "VADER was specifically created for social media posts and was tested against tweets, movie reviews, technical reviews, and opinion news articles.\n",
    "\n",
    "VADER is free and available as a module in NLTK."
   ]
  },
  {
   "cell_type": "code",
   "execution_count": 56,
   "metadata": {},
   "outputs": [],
   "source": [
    "#import nltk\n",
    "#nltk.download('vader_lexicon')\n",
    "sid = SentimentIntensityAnalyzer()"
   ]
  },
  {
   "cell_type": "markdown",
   "metadata": {},
   "source": [
    "#### VADER Lexicon\n",
    "\n",
    "Let's look at a few words in the VADER lexicon.\n",
    "\n",
    "Scores range from -4 (most negative) to +4 (most positive)."
   ]
  },
  {
   "cell_type": "code",
   "execution_count": 9,
   "metadata": {},
   "outputs": [
    {
     "data": {
      "text/plain": [
       "7502"
      ]
     },
     "execution_count": 9,
     "metadata": {},
     "output_type": "execute_result"
    }
   ],
   "source": [
    "len(sid.lexicon) #How many words does the lexicon cover?"
   ]
  },
  {
   "cell_type": "code",
   "execution_count": 3,
   "metadata": {},
   "outputs": [
    {
     "data": {
      "text/plain": [
       "-1.9"
      ]
     },
     "execution_count": 3,
     "metadata": {},
     "output_type": "execute_result"
    }
   ],
   "source": [
    "sid.lexicon[\":(\"]"
   ]
  },
  {
   "cell_type": "code",
   "execution_count": 4,
   "metadata": {},
   "outputs": [
    {
     "data": {
      "text/plain": [
       "2.0"
      ]
     },
     "execution_count": 4,
     "metadata": {},
     "output_type": "execute_result"
    }
   ],
   "source": [
    "sid.lexicon[\":)\"]"
   ]
  },
  {
   "cell_type": "markdown",
   "metadata": {},
   "source": [
    "#### Rule-based modifiers\n",
    "\n",
    "Here's a simple example of how the rule based modifiers can change the overall sentiment.  Let's look at the word \"good\" in the lexicon."
   ]
  },
  {
   "cell_type": "code",
   "execution_count": 51,
   "metadata": {},
   "outputs": [
    {
     "data": {
      "text/plain": [
       "1.9"
      ]
     },
     "execution_count": 51,
     "metadata": {},
     "output_type": "execute_result"
    }
   ],
   "source": [
    "sid.lexicon[\"good\"]"
   ]
  },
  {
   "cell_type": "markdown",
   "metadata": {},
   "source": [
    "The `polarity_scores` method provides four different values:\n",
    "* `neg` (negative), `neu` (neutral), and `pos` (positive) are standardized scores from 0 to 1 that add up to 1.\n",
    "* `compound` is a normalized score that places the entire text on a -1 to 1 negative to positive scale"
   ]
  },
  {
   "cell_type": "code",
   "execution_count": 54,
   "metadata": {},
   "outputs": [
    {
     "data": {
      "text/plain": [
       "{'neg': 0.0, 'neu': 0.0, 'pos': 1.0, 'compound': 0.4404}"
      ]
     },
     "execution_count": 54,
     "metadata": {},
     "output_type": "execute_result"
    }
   ],
   "source": [
    "sid.polarity_scores(\"good\")"
   ]
  },
  {
   "cell_type": "markdown",
   "metadata": {},
   "source": [
    "Adding \"that was\" increases the neutrality, but doesn't change the overall score."
   ]
  },
  {
   "cell_type": "code",
   "execution_count": 55,
   "metadata": {},
   "outputs": [
    {
     "data": {
      "text/plain": [
       "{'neg': 0.0, 'neu': 0.408, 'pos': 0.592, 'compound': 0.4404}"
      ]
     },
     "execution_count": 55,
     "metadata": {},
     "output_type": "execute_result"
    }
   ],
   "source": [
    "sid.polarity_scores(\"that was good\")"
   ]
  },
  {
   "cell_type": "markdown",
   "metadata": {},
   "source": [
    "Now let's explore the effects of some modifiers!"
   ]
  },
  {
   "cell_type": "code",
   "execution_count": 53,
   "metadata": {},
   "outputs": [
    {
     "data": {
      "text/plain": [
       "{'neg': 0.0, 'neu': 0.385, 'pos': 0.615, 'compound': 0.4926}"
      ]
     },
     "execution_count": 53,
     "metadata": {},
     "output_type": "execute_result"
    }
   ],
   "source": [
    "sid.polarity_scores(\"that was good!\")"
   ]
  },
  {
   "cell_type": "code",
   "execution_count": 47,
   "metadata": {},
   "outputs": [
    {
     "data": {
      "text/html": [
       "<div>\n",
       "<style scoped>\n",
       "    .dataframe tbody tr th:only-of-type {\n",
       "        vertical-align: middle;\n",
       "    }\n",
       "\n",
       "    .dataframe tbody tr th {\n",
       "        vertical-align: top;\n",
       "    }\n",
       "\n",
       "    .dataframe thead th {\n",
       "        text-align: right;\n",
       "    }\n",
       "</style>\n",
       "<table border=\"1\" class=\"dataframe\">\n",
       "  <thead>\n",
       "    <tr style=\"text-align: right;\">\n",
       "      <th></th>\n",
       "      <th>input</th>\n",
       "      <th>neg</th>\n",
       "      <th>neu</th>\n",
       "      <th>pos</th>\n",
       "      <th>compound</th>\n",
       "    </tr>\n",
       "  </thead>\n",
       "  <tbody>\n",
       "    <tr>\n",
       "      <th>0</th>\n",
       "      <td>that was good</td>\n",
       "      <td>0.000</td>\n",
       "      <td>0.408</td>\n",
       "      <td>0.592</td>\n",
       "      <td>0.4404</td>\n",
       "    </tr>\n",
       "    <tr>\n",
       "      <th>1</th>\n",
       "      <td>that was GOOD</td>\n",
       "      <td>0.000</td>\n",
       "      <td>0.355</td>\n",
       "      <td>0.645</td>\n",
       "      <td>0.5622</td>\n",
       "    </tr>\n",
       "    <tr>\n",
       "      <th>2</th>\n",
       "      <td>that was good!</td>\n",
       "      <td>0.000</td>\n",
       "      <td>0.385</td>\n",
       "      <td>0.615</td>\n",
       "      <td>0.4926</td>\n",
       "    </tr>\n",
       "    <tr>\n",
       "      <th>3</th>\n",
       "      <td>that was good!!</td>\n",
       "      <td>0.000</td>\n",
       "      <td>0.365</td>\n",
       "      <td>0.635</td>\n",
       "      <td>0.5399</td>\n",
       "    </tr>\n",
       "    <tr>\n",
       "      <th>4</th>\n",
       "      <td>that was good!!!</td>\n",
       "      <td>0.000</td>\n",
       "      <td>0.346</td>\n",
       "      <td>0.654</td>\n",
       "      <td>0.5826</td>\n",
       "    </tr>\n",
       "    <tr>\n",
       "      <th>5</th>\n",
       "      <td>that was extremely good</td>\n",
       "      <td>0.000</td>\n",
       "      <td>0.484</td>\n",
       "      <td>0.516</td>\n",
       "      <td>0.4927</td>\n",
       "    </tr>\n",
       "    <tr>\n",
       "      <th>6</th>\n",
       "      <td>that was good, but not great</td>\n",
       "      <td>0.427</td>\n",
       "      <td>0.385</td>\n",
       "      <td>0.188</td>\n",
       "      <td>-0.5409</td>\n",
       "    </tr>\n",
       "  </tbody>\n",
       "</table>\n",
       "</div>"
      ],
      "text/plain": [
       "                          input    neg    neu    pos  compound\n",
       "0                 that was good  0.000  0.408  0.592    0.4404\n",
       "1                 that was GOOD  0.000  0.355  0.645    0.5622\n",
       "2                that was good!  0.000  0.385  0.615    0.4926\n",
       "3               that was good!!  0.000  0.365  0.635    0.5399\n",
       "4              that was good!!!  0.000  0.346  0.654    0.5826\n",
       "5       that was extremely good  0.000  0.484  0.516    0.4927\n",
       "6  that was good, but not great  0.427  0.385  0.188   -0.5409"
      ]
     },
     "execution_count": 47,
     "metadata": {},
     "output_type": "execute_result"
    }
   ],
   "source": [
    "input_text = [\"that was good\", \"that was GOOD\" ,\"that was good!\", \"that was good!!\", \n",
    "              \"that was good!!!\", \"that was extremely good\", \"that was good, but not great\"]\n",
    "pd.DataFrame([{'input':text} | sid.polarity_scores(text) for text in input_text])"
   ]
  },
  {
   "cell_type": "markdown",
   "metadata": {},
   "source": [
    "### VADER Example: Reddit books data\n",
    "\n",
    "The following were the top 100 posts alongside their comments from the books subreddit on February 14, 2024.  These were pulled using the `praw` library, similarly to previous reddit data."
   ]
  },
  {
   "cell_type": "code",
   "execution_count": 65,
   "metadata": {},
   "outputs": [
    {
     "data": {
      "text/html": [
       "<div>\n",
       "<style scoped>\n",
       "    .dataframe tbody tr th:only-of-type {\n",
       "        vertical-align: middle;\n",
       "    }\n",
       "\n",
       "    .dataframe tbody tr th {\n",
       "        vertical-align: top;\n",
       "    }\n",
       "\n",
       "    .dataframe thead th {\n",
       "        text-align: right;\n",
       "    }\n",
       "</style>\n",
       "<table border=\"1\" class=\"dataframe\">\n",
       "  <thead>\n",
       "    <tr style=\"text-align: right;\">\n",
       "      <th></th>\n",
       "      <th>id</th>\n",
       "      <th>author</th>\n",
       "      <th>created</th>\n",
       "      <th>title</th>\n",
       "      <th>content</th>\n",
       "      <th>subreddit</th>\n",
       "      <th>url</th>\n",
       "      <th>num_comments</th>\n",
       "      <th>score</th>\n",
       "      <th>upvote_ratio</th>\n",
       "      <th>comments</th>\n",
       "      <th>comments_text</th>\n",
       "      <th>comment_blob</th>\n",
       "    </tr>\n",
       "  </thead>\n",
       "  <tbody>\n",
       "    <tr>\n",
       "      <th>39</th>\n",
       "      <td>1apfsnm</td>\n",
       "      <td>Nolls-97</td>\n",
       "      <td>2024-02-13 00:27:56+00:00</td>\n",
       "      <td>Favorite Thomas Harris novel? (Spoilers for th...</td>\n",
       "      <td>What is your favorite Thomas Harris novel and ...</td>\n",
       "      <td>books</td>\n",
       "      <td>https://www.reddit.com/r/books/comments/1apfsn...</td>\n",
       "      <td>32</td>\n",
       "      <td>26</td>\n",
       "      <td>0.85</td>\n",
       "      <td>&lt;praw.models.comment_forest.CommentForest obje...</td>\n",
       "      <td>['red dragon, hands down.', 'I still think abo...</td>\n",
       "      <td>red dragon, hands down. | I still think about ...</td>\n",
       "    </tr>\n",
       "    <tr>\n",
       "      <th>32</th>\n",
       "      <td>1apcggc</td>\n",
       "      <td>Dry_Lynx5282</td>\n",
       "      <td>2024-02-12 22:04:15+00:00</td>\n",
       "      <td>Little Women and Alcott's original intent</td>\n",
       "      <td>As someone who has read Little Women only two ...</td>\n",
       "      <td>books</td>\n",
       "      <td>https://www.reddit.com/r/books/comments/1apcgg...</td>\n",
       "      <td>60</td>\n",
       "      <td>113</td>\n",
       "      <td>0.82</td>\n",
       "      <td>&lt;praw.models.comment_forest.CommentForest obje...</td>\n",
       "      <td>['A direct quote from Alcott:  \"“[S]o many ent...</td>\n",
       "      <td>A direct quote from Alcott:  \"“[S]o many enthu...</td>\n",
       "    </tr>\n",
       "    <tr>\n",
       "      <th>27</th>\n",
       "      <td>1aqiclr</td>\n",
       "      <td>2_cute_2_poot</td>\n",
       "      <td>2024-02-14 08:43:34+00:00</td>\n",
       "      <td>How to break in a fancy hardcover?</td>\n",
       "      <td>Hi, I’m usually pretty chill with letting book...</td>\n",
       "      <td>books</td>\n",
       "      <td>https://www.reddit.com/r/books/comments/1aqicl...</td>\n",
       "      <td>9</td>\n",
       "      <td>0</td>\n",
       "      <td>0.40</td>\n",
       "      <td>&lt;praw.models.comment_forest.CommentForest obje...</td>\n",
       "      <td>[\"Tbh, I always take great care not to crease ...</td>\n",
       "      <td>Tbh, I always take great care not to crease th...</td>\n",
       "    </tr>\n",
       "  </tbody>\n",
       "</table>\n",
       "</div>"
      ],
      "text/plain": [
       "         id         author                    created  \\\n",
       "39  1apfsnm       Nolls-97  2024-02-13 00:27:56+00:00   \n",
       "32  1apcggc   Dry_Lynx5282  2024-02-12 22:04:15+00:00   \n",
       "27  1aqiclr  2_cute_2_poot  2024-02-14 08:43:34+00:00   \n",
       "\n",
       "                                                title  \\\n",
       "39  Favorite Thomas Harris novel? (Spoilers for th...   \n",
       "32          Little Women and Alcott's original intent   \n",
       "27                 How to break in a fancy hardcover?   \n",
       "\n",
       "                                              content subreddit  \\\n",
       "39  What is your favorite Thomas Harris novel and ...     books   \n",
       "32  As someone who has read Little Women only two ...     books   \n",
       "27  Hi, I’m usually pretty chill with letting book...     books   \n",
       "\n",
       "                                                  url  num_comments  score  \\\n",
       "39  https://www.reddit.com/r/books/comments/1apfsn...            32     26   \n",
       "32  https://www.reddit.com/r/books/comments/1apcgg...            60    113   \n",
       "27  https://www.reddit.com/r/books/comments/1aqicl...             9      0   \n",
       "\n",
       "    upvote_ratio                                           comments  \\\n",
       "39          0.85  <praw.models.comment_forest.CommentForest obje...   \n",
       "32          0.82  <praw.models.comment_forest.CommentForest obje...   \n",
       "27          0.40  <praw.models.comment_forest.CommentForest obje...   \n",
       "\n",
       "                                        comments_text  \\\n",
       "39  ['red dragon, hands down.', 'I still think abo...   \n",
       "32  ['A direct quote from Alcott:  \"“[S]o many ent...   \n",
       "27  [\"Tbh, I always take great care not to crease ...   \n",
       "\n",
       "                                         comment_blob  \n",
       "39  red dragon, hands down. | I still think about ...  \n",
       "32  A direct quote from Alcott:  \"“[S]o many enthu...  \n",
       "27  Tbh, I always take great care not to crease th...  "
      ]
     },
     "execution_count": 65,
     "metadata": {},
     "output_type": "execute_result"
    }
   ],
   "source": [
    "df = pd.read_csv(\"reddit_books.csv\", encoding='utf-8')\n",
    "df.sample(3)"
   ]
  },
  {
   "cell_type": "markdown",
   "metadata": {},
   "source": [
    "Let's pull polarity scores for both the post content and the comments (all together)."
   ]
  },
  {
   "cell_type": "code",
   "execution_count": 69,
   "metadata": {},
   "outputs": [],
   "source": [
    "def vader_scores(text):\n",
    "    try:\n",
    "        return sid.polarity_scores(text)\n",
    "    except:\n",
    "        return dict()\n",
    "\n",
    "comments_vader = df.comment_blob.apply(vader_scores).apply(pd.Series).add_prefix(\"comm_\")\n",
    "post_vader = df.content.apply(vader_scores).apply(pd.Series).add_prefix(\"post_\")\n",
    "scores = pd.concat([df, post_vader,comments_vader], axis = 1)"
   ]
  },
  {
   "cell_type": "code",
   "execution_count": 70,
   "metadata": {},
   "outputs": [
    {
     "data": {
      "text/html": [
       "<div>\n",
       "<style scoped>\n",
       "    .dataframe tbody tr th:only-of-type {\n",
       "        vertical-align: middle;\n",
       "    }\n",
       "\n",
       "    .dataframe tbody tr th {\n",
       "        vertical-align: top;\n",
       "    }\n",
       "\n",
       "    .dataframe thead th {\n",
       "        text-align: right;\n",
       "    }\n",
       "</style>\n",
       "<table border=\"1\" class=\"dataframe\">\n",
       "  <thead>\n",
       "    <tr style=\"text-align: right;\">\n",
       "      <th></th>\n",
       "      <th>id</th>\n",
       "      <th>author</th>\n",
       "      <th>created</th>\n",
       "      <th>title</th>\n",
       "      <th>content</th>\n",
       "      <th>subreddit</th>\n",
       "      <th>url</th>\n",
       "      <th>num_comments</th>\n",
       "      <th>score</th>\n",
       "      <th>upvote_ratio</th>\n",
       "      <th>...</th>\n",
       "      <th>comments_text</th>\n",
       "      <th>comment_blob</th>\n",
       "      <th>post_neg</th>\n",
       "      <th>post_neu</th>\n",
       "      <th>post_pos</th>\n",
       "      <th>post_compound</th>\n",
       "      <th>comm_neg</th>\n",
       "      <th>comm_neu</th>\n",
       "      <th>comm_pos</th>\n",
       "      <th>comm_compound</th>\n",
       "    </tr>\n",
       "  </thead>\n",
       "  <tbody>\n",
       "    <tr>\n",
       "      <th>96</th>\n",
       "      <td>1anqcyu</td>\n",
       "      <td>PunyParker826</td>\n",
       "      <td>2024-02-10 21:03:39+00:00</td>\n",
       "      <td>The Three-Body Problem is excellent… but know ...</td>\n",
       "      <td>Just finished Cixin Liu’s excellent sci-fi nov...</td>\n",
       "      <td>books</td>\n",
       "      <td>https://www.reddit.com/r/books/comments/1anqcy...</td>\n",
       "      <td>62</td>\n",
       "      <td>66</td>\n",
       "      <td>0.70</td>\n",
       "      <td>...</td>\n",
       "      <td>['Spoilers below:\\n\\nI actually liked that ang...</td>\n",
       "      <td>Spoilers below:\\n\\nI actually liked that angle...</td>\n",
       "      <td>0.043</td>\n",
       "      <td>0.815</td>\n",
       "      <td>0.142</td>\n",
       "      <td>0.9855</td>\n",
       "      <td>0.061</td>\n",
       "      <td>0.761</td>\n",
       "      <td>0.177</td>\n",
       "      <td>0.9999</td>\n",
       "    </tr>\n",
       "    <tr>\n",
       "      <th>76</th>\n",
       "      <td>1aoxgfr</td>\n",
       "      <td>Reddit_Books</td>\n",
       "      <td>2024-02-12 11:00:22+00:00</td>\n",
       "      <td>Weekly Calendar - February 12, 2024</td>\n",
       "      <td>Hello readers!\\n\\nEvery Monday, we will post a...</td>\n",
       "      <td>books</td>\n",
       "      <td>https://www.reddit.com/r/books/comments/1aoxgf...</td>\n",
       "      <td>1</td>\n",
       "      <td>0</td>\n",
       "      <td>0.50</td>\n",
       "      <td>...</td>\n",
       "      <td>['Could you suggest a book that aligns with my...</td>\n",
       "      <td>Could you suggest a book that aligns with my t...</td>\n",
       "      <td>0.000</td>\n",
       "      <td>1.000</td>\n",
       "      <td>0.000</td>\n",
       "      <td>0.0000</td>\n",
       "      <td>0.051</td>\n",
       "      <td>0.793</td>\n",
       "      <td>0.156</td>\n",
       "      <td>0.9318</td>\n",
       "    </tr>\n",
       "    <tr>\n",
       "      <th>98</th>\n",
       "      <td>1aosi9o</td>\n",
       "      <td>PrestigiousLet9244</td>\n",
       "      <td>2024-02-12 05:26:29+00:00</td>\n",
       "      <td>Shoe dog</td>\n",
       "      <td>People recommend shoe dog so I bought it and s...</td>\n",
       "      <td>books</td>\n",
       "      <td>https://www.reddit.com/r/books/comments/1aosi9...</td>\n",
       "      <td>11</td>\n",
       "      <td>0</td>\n",
       "      <td>0.22</td>\n",
       "      <td>...</td>\n",
       "      <td>['There are so many errors here; I don’t know ...</td>\n",
       "      <td>There are so many errors here; I don’t know wh...</td>\n",
       "      <td>0.197</td>\n",
       "      <td>0.741</td>\n",
       "      <td>0.062</td>\n",
       "      <td>-0.8706</td>\n",
       "      <td>0.124</td>\n",
       "      <td>0.742</td>\n",
       "      <td>0.134</td>\n",
       "      <td>0.2174</td>\n",
       "    </tr>\n",
       "    <tr>\n",
       "      <th>16</th>\n",
       "      <td>1appe10</td>\n",
       "      <td>eleven_paws</td>\n",
       "      <td>2024-02-13 09:18:19+00:00</td>\n",
       "      <td>Favorite and least favorite reads of the year ...</td>\n",
       "      <td>This can be anything you’ve finished in 2024 (...</td>\n",
       "      <td>books</td>\n",
       "      <td>https://www.reddit.com/r/books/comments/1appe1...</td>\n",
       "      <td>609</td>\n",
       "      <td>205</td>\n",
       "      <td>0.91</td>\n",
       "      <td>...</td>\n",
       "      <td>['Favorite: We Have Always Lived in the Castle...</td>\n",
       "      <td>Favorite: We Have Always Lived in the Castle b...</td>\n",
       "      <td>0.022</td>\n",
       "      <td>0.837</td>\n",
       "      <td>0.142</td>\n",
       "      <td>0.8715</td>\n",
       "      <td>0.112</td>\n",
       "      <td>0.670</td>\n",
       "      <td>0.217</td>\n",
       "      <td>1.0000</td>\n",
       "    </tr>\n",
       "    <tr>\n",
       "      <th>39</th>\n",
       "      <td>1apfsnm</td>\n",
       "      <td>Nolls-97</td>\n",
       "      <td>2024-02-13 00:27:56+00:00</td>\n",
       "      <td>Favorite Thomas Harris novel? (Spoilers for th...</td>\n",
       "      <td>What is your favorite Thomas Harris novel and ...</td>\n",
       "      <td>books</td>\n",
       "      <td>https://www.reddit.com/r/books/comments/1apfsn...</td>\n",
       "      <td>32</td>\n",
       "      <td>26</td>\n",
       "      <td>0.85</td>\n",
       "      <td>...</td>\n",
       "      <td>['red dragon, hands down.', 'I still think abo...</td>\n",
       "      <td>red dragon, hands down. | I still think about ...</td>\n",
       "      <td>0.020</td>\n",
       "      <td>0.686</td>\n",
       "      <td>0.294</td>\n",
       "      <td>0.9760</td>\n",
       "      <td>0.111</td>\n",
       "      <td>0.702</td>\n",
       "      <td>0.187</td>\n",
       "      <td>0.9985</td>\n",
       "    </tr>\n",
       "  </tbody>\n",
       "</table>\n",
       "<p>5 rows × 21 columns</p>\n",
       "</div>"
      ],
      "text/plain": [
       "         id              author                    created  \\\n",
       "96  1anqcyu       PunyParker826  2024-02-10 21:03:39+00:00   \n",
       "76  1aoxgfr        Reddit_Books  2024-02-12 11:00:22+00:00   \n",
       "98  1aosi9o  PrestigiousLet9244  2024-02-12 05:26:29+00:00   \n",
       "16  1appe10         eleven_paws  2024-02-13 09:18:19+00:00   \n",
       "39  1apfsnm            Nolls-97  2024-02-13 00:27:56+00:00   \n",
       "\n",
       "                                                title  \\\n",
       "96  The Three-Body Problem is excellent… but know ...   \n",
       "76                Weekly Calendar - February 12, 2024   \n",
       "98                                           Shoe dog   \n",
       "16  Favorite and least favorite reads of the year ...   \n",
       "39  Favorite Thomas Harris novel? (Spoilers for th...   \n",
       "\n",
       "                                              content subreddit  \\\n",
       "96  Just finished Cixin Liu’s excellent sci-fi nov...     books   \n",
       "76  Hello readers!\\n\\nEvery Monday, we will post a...     books   \n",
       "98  People recommend shoe dog so I bought it and s...     books   \n",
       "16  This can be anything you’ve finished in 2024 (...     books   \n",
       "39  What is your favorite Thomas Harris novel and ...     books   \n",
       "\n",
       "                                                  url  num_comments  score  \\\n",
       "96  https://www.reddit.com/r/books/comments/1anqcy...            62     66   \n",
       "76  https://www.reddit.com/r/books/comments/1aoxgf...             1      0   \n",
       "98  https://www.reddit.com/r/books/comments/1aosi9...            11      0   \n",
       "16  https://www.reddit.com/r/books/comments/1appe1...           609    205   \n",
       "39  https://www.reddit.com/r/books/comments/1apfsn...            32     26   \n",
       "\n",
       "    upvote_ratio  ...                                      comments_text  \\\n",
       "96          0.70  ...  ['Spoilers below:\\n\\nI actually liked that ang...   \n",
       "76          0.50  ...  ['Could you suggest a book that aligns with my...   \n",
       "98          0.22  ...  ['There are so many errors here; I don’t know ...   \n",
       "16          0.91  ...  ['Favorite: We Have Always Lived in the Castle...   \n",
       "39          0.85  ...  ['red dragon, hands down.', 'I still think abo...   \n",
       "\n",
       "                                         comment_blob post_neg  post_neu  \\\n",
       "96  Spoilers below:\\n\\nI actually liked that angle...    0.043     0.815   \n",
       "76  Could you suggest a book that aligns with my t...    0.000     1.000   \n",
       "98  There are so many errors here; I don’t know wh...    0.197     0.741   \n",
       "16  Favorite: We Have Always Lived in the Castle b...    0.022     0.837   \n",
       "39  red dragon, hands down. | I still think about ...    0.020     0.686   \n",
       "\n",
       "    post_pos  post_compound  comm_neg  comm_neu  comm_pos  comm_compound  \n",
       "96     0.142         0.9855     0.061     0.761     0.177         0.9999  \n",
       "76     0.000         0.0000     0.051     0.793     0.156         0.9318  \n",
       "98     0.062        -0.8706     0.124     0.742     0.134         0.2174  \n",
       "16     0.142         0.8715     0.112     0.670     0.217         1.0000  \n",
       "39     0.294         0.9760     0.111     0.702     0.187         0.9985  \n",
       "\n",
       "[5 rows x 21 columns]"
      ]
     },
     "execution_count": 70,
     "metadata": {},
     "output_type": "execute_result"
    }
   ],
   "source": [
    "scores.sample(5)"
   ]
  },
  {
   "cell_type": "code",
   "execution_count": 82,
   "metadata": {},
   "outputs": [
    {
     "data": {
      "text/plain": [
       "'https://www.reddit.com/r/books/comments/1aqhuga/tw_sexual_assault_talk_my_rant_to_people_who_hate/'"
      ]
     },
     "execution_count": 82,
     "metadata": {},
     "output_type": "execute_result"
    }
   ],
   "source": [
    "scores.sort_values(\"post_compound\", ascending=True).url.tolist()[0]"
   ]
  },
  {
   "cell_type": "markdown",
   "metadata": {},
   "source": [
    "What post has the most positive content (via the `pos` score)?"
   ]
  },
  {
   "cell_type": "code",
   "execution_count": 74,
   "metadata": {},
   "outputs": [
    {
     "data": {
      "text/plain": [
       "'Im currently reading Gormenghast trilogy, and i feel warm, i feel interested, devoted to book, it feels soft, yet punchy when it desires to, and leaves with no choice but to think. It awakes certain sense of caring for the characters, where everything that Peake wrote fights against simple knowing what will happen, but living in the moment with characters and daring to think what will be. Peake-s writing is something special and truly a gem, he literally writes as he paints a painting, sweet and sour :) Interesting thing is last book i read before starting Gormenghast was Clockwork Orange, Anthony Burgess and Michael Moorcock (aside from Elric, Hawkmoon would be my favorite ever) were pretty vocal of Gormenghast and Peake as an outstanding work of pure lovely genious, and writing that screams word amazement. Well i guess this is appreciation post :) Cheers Gormenghasters!'"
      ]
     },
     "execution_count": 74,
     "metadata": {},
     "output_type": "execute_result"
    }
   ],
   "source": [
    "scores.sort_values(\"post_pos\", ascending=False, ignore_index=True).content[0]"
   ]
  },
  {
   "cell_type": "markdown",
   "metadata": {},
   "source": [
    "The most negative?"
   ]
  },
  {
   "cell_type": "code",
   "execution_count": 73,
   "metadata": {},
   "outputs": [
    {
     "data": {
      "text/plain": [
       "'For context, I am a 23 year old woman who was raped a few years ago after a man took me to his home while I was in an drunken unconscious state. I awoke just towards the end and immediately left and walked home, trying to comprehend if that had really just happened. It did and I have since recovered mentally and emotionally so please, your heartfelt sorry\\'s, while appreciated, are not necessary :)  \\nSo, I\\'m sick of people labelling books as bad only because it includes sexual assault in the narrative. Especially when said people go on a rant about why they think the book is bad because of it. They say how it doesn\\'t describe the act of assault accurately to real life. They say it shouldn\\'t be included at all because media is supposed to be escapism. They say it\\'s overdone.  \\nRape is different for every single victim. There are SO MANY variables and types. Some victims black out. Some are hyper aware. And some even orgasm. The only commonality to occur is, by the end, we are riddled with disgust. Hell, not even that. Some victims don\\'t realize what it was until months later. But to say a book did a rape scene \"inaccurately\" because the woman didn\\'t resist/did resist, didn\\'t cry/did cry, did orgasm/didn\\'t orgasm etc. drives me mad because it perpetuates the notion that rape is so black and white. It\\'s not.  \\nThe aftermath. This is another grey area that is constantly made out to be black and white. Not every victim has the same road to recovery. Some will, sadly, carry it for their whole lives. Some really do move on from it after a couple of months. And to echo that one comment from before, some might not even know it happened for a long time and as such don\\'t start their recovery for a long time. Both me and someone I know were victims and we had different roads to recovery. I recovered a lot faster than she did. Yet, if my story were to be put into a book, it\\'d be labelled \"inaccurate\".\\n\\nPeople say rape towards characters in a story needs to become a constant reflection on them to \"at least service their character\". Again, it is different for every victim. Some do remain skittish, such as refusing to ever be alone with a man again, whereas others are the opposite. Within a year of my assault, I was comfortable to go for a drive with a man at night, so long as he wasn\\'t a total stranger (but I\\'d rarely do the same with a female stranger either). Something we women have to constantly shout from the rooftops is how common sexual assault and that most men would be shocked to learn the woman next to them is potentially among the 1 in 4. Yet so many people pretend that a female character in a novel must be physically, noticeably, effected to the point everyone can see what has happened. That is not the reality for many victims. I have met women, and even one man, who I knew for years. I wouldn\\'t have ever thought they had been assaulted until they told me. They remained so unchanged that some of their own family didn\\'t even know. Stop demanding for an \"accurate\" portrayal to look like a lone survivor soldier having just returned from WW2  \\nOne complaint I can understand, though not fully agree with, is that too often female characters are raped and the trauma is passed onto the male lead. This is definitely done a lot BUT isn\\'t an inherent problem in itself. To me, it sounds like we are denying men the acknowledgement of their emotions to something truly upsetting to learn about a person they love. Yes, I agree we need more of the female victims perspective but can we stop making it out that books, especially ones that are 50+ years old, are bad just because it showed the male leads story over the victims? \\n\\nThat paragraph leads into this one. Why is murder, torture, war, genocide, child murders/deaths etc. rarely criticized as motivators for the protagonist (male or female) but rape is? All of them are horribly sad and evil things. Why should only one get a layer of cultural censorship? Especially seeing as rape is probably less commonly written about than most of those equally horrible things and when it is, it\\'s in less detail.  \\nEscapism. If you consume media for escapism, then that is fair enough. But that\\'s on YOU to pick out said escapist material. Storytelling media has been around since ancient times and has always dealt with horrible situations that plague human society. I don\\'t think Homer wrote the Iliad and the Odyssey as escapism for his fellow Greeks to chill out to. He wrote them as direct reflections of the evil that came with war. Media today has the right to continue writing stories as direct reflections upon our society, which means writing about very dark topics. P.S. I am all for trigger warnings in the backs of books just as we put age ratings on the front of movie covers so people know what to look for/what they\\'re getting into  \\nLastly, I hate when people say that, despite all these reasons, it should still not be written about unless super sensitively and specifically (and only by women) because it may be traumatizing for victims to read. While this is true for some, it is not true for all. I, a victim, can enjoy books that feature it. Again, people, some of which probably aren\\'t even victims themselves but trying to be white knights, are putting every victim into one tiny general box, which is almost as harmful in its ignorance as the men who deny rape cultures existence.\\n\\nAnd one small side note. I do not even agree that it is overdone. Out all of the tragic backstories I see a character be given, rape is among the very few that I see depicted. Either I\\'m dodging bullets or people are just picking up trash books from indie published authors (no hate on them but they are more likely to be badly written). And for those I have come across, it was set in a time/place where I\\'d expect such a traumatic moment to be apart of the characters life. But that ties into me not reading books for escapism.   \\nSo PLEASE, can we stop with painting this subject with such broad black and white strokes and admonishing writers for including it? The only criticism I see worth giving is if it happens to be glorified or made a joke of. And I have never once in my life of reading come across a book that did such a thing and if it \"did\" it was through the eyes of a first person psychotic narrator like in Clockwork Orange, which is as much a form of commentary as providing the same story in third person.   \\nOdds are, the book is not bad. It\\'s just not for you. Put it down and move on. I don\\'t like high fantasy so when I read a book that reveals a talking dragon lives in the cave to grant wishes, I don\\'t review bomb it or hate on it online. I put it down cos I don\\'t care for books with wish granting talking dragons. \\n\\nP.S. I am 100% all for books having trigger warnings to help the more sensitive people avoid books with upsetting material. I\\'d rather that then they waste their money on a book they won\\'t want to read and proceed to review bomb it or hate on it in online forums'"
      ]
     },
     "execution_count": 73,
     "metadata": {},
     "output_type": "execute_result"
    }
   ],
   "source": [
    "scores.sort_values(\"post_compound\", ascending=True, ignore_index=True).content[0]"
   ]
  },
  {
   "cell_type": "markdown",
   "metadata": {},
   "source": [
    "The most neutral?"
   ]
  },
  {
   "cell_type": "code",
   "execution_count": 14,
   "metadata": {},
   "outputs": [
    {
     "data": {
      "text/plain": [
       "\"Hello readers!\\n\\nEvery Monday, we will post a calendar with the date and topic of that week's threads and we will update it to include links as those threads go live.  All times are Eastern US.\\n\\n---\\n\\nDay|Date|Time(ET)|Topic|\\n-|-|-|-\\n^Monday|^(February 12)||[^(What are you Reading?)](https://redd.it/1aoxg9o)\\n^Tuesday|^(February 13)||[^(Simple Questions)](https://redd.it/1appyam)\\n^Wednesday|^(February 14)||^(LOTW)\\n^Thursday|^(February 15)||^(Favorite Books)\\n^Friday|^(February 16)||^(Weekly Recommendation Thread)\\n^Saturday|^(February 17)||^(Simple Questions)\\n^Sunday|^(February 18)||^(Weekly FAQ: What do you use as a bookmark?)\""
      ]
     },
     "execution_count": 14,
     "metadata": {},
     "output_type": "execute_result"
    }
   ],
   "source": [
    "scores.sort_values(\"post_neu\", ascending=False, ignore_index=True).content[0]"
   ]
  },
  {
   "cell_type": "code",
   "execution_count": 89,
   "metadata": {},
   "outputs": [
    {
     "data": {
      "text/plain": [
       "<Axes: xlabel='post_pos', ylabel='comm_pos'>"
      ]
     },
     "execution_count": 89,
     "metadata": {},
     "output_type": "execute_result"
    },
    {
     "data": {
      "image/png": "[encoded data removed]",
      "text/plain": [
       "<Figure size 640x480 with 1 Axes>"
      ]
     },
     "metadata": {},
     "output_type": "display_data"
    }
   ],
   "source": [
    "sns.regplot(data = scores, x=\"post_pos\", y = \"comm_pos\", scatter_kws = {\"alpha\":0.5})"
   ]
  },
  {
   "cell_type": "code",
   "execution_count": 16,
   "metadata": {},
   "outputs": [
    {
     "data": {
      "text/plain": [
       "<Axes: xlabel='post_neu', ylabel='num_comments'>"
      ]
     },
     "execution_count": 16,
     "metadata": {},
     "output_type": "execute_result"
    },
    {
     "data": {
      "image/png": "[encoded data removed]",
      "text/plain": [
       "<Figure size 640x480 with 1 Axes>"
      ]
     },
     "metadata": {},
     "output_type": "display_data"
    }
   ],
   "source": [
    "sns.regplot(data = scores, x=\"post_neu\", y = \"num_comments\", scatter_kws = {\"alpha\":0.5})"
   ]
  },
  {
   "cell_type": "code",
   "execution_count": 17,
   "metadata": {},
   "outputs": [
    {
     "data": {
      "text/plain": [
       "<Axes: xlabel='post_neu', ylabel='upvote_ratio'>"
      ]
     },
     "execution_count": 17,
     "metadata": {},
     "output_type": "execute_result"
    },
    {
     "data": {
      "image/png": "[encoded data removed]",
      "text/plain": [
       "<Figure size 640x480 with 1 Axes>"
      ]
     },
     "metadata": {},
     "output_type": "display_data"
    }
   ],
   "source": [
    "sns.regplot(data = scores, x=\"post_neu\", y = \"upvote_ratio\", scatter_kws = {\"alpha\":0.5})"
   ]
  },
  {
   "cell_type": "code",
   "execution_count": 18,
   "metadata": {},
   "outputs": [
    {
     "data": {
      "text/plain": [
       "<Axes: xlabel='post_pos', ylabel='comm_pos'>"
      ]
     },
     "execution_count": 18,
     "metadata": {},
     "output_type": "execute_result"
    },
    {
     "data": {
      "image/png": "[encoded data removed]",
      "text/plain": [
       "<Figure size 640x480 with 1 Axes>"
      ]
     },
     "metadata": {},
     "output_type": "display_data"
    }
   ],
   "source": [
    "sns.regplot(data = scores, x=\"post_pos\", y = \"comm_pos\", scatter_kws = {\"alpha\":0.5})"
   ]
  },
  {
   "cell_type": "markdown",
   "metadata": {},
   "source": [
    "## Topic Modeling\n",
    "\n",
    "Basic topics\n",
    "Adjusting k\n",
    "Custom stop words\n",
    "Correlation between topics, relating topics to reddit data"
   ]
  },
  {
   "cell_type": "code",
   "execution_count": 21,
   "metadata": {},
   "outputs": [],
   "source": [
    "from sklearn.decomposition import LatentDirichletAllocation\n",
    "from sklearn.feature_extraction.text import CountVectorizer"
   ]
  },
  {
   "cell_type": "markdown",
   "metadata": {},
   "source": [
    "First, we'll create a dataframe of all of our text, both posts and comments, together to get a bigger universe for our models."
   ]
  },
  {
   "cell_type": "code",
   "execution_count": 22,
   "metadata": {},
   "outputs": [],
   "source": [
    "import ast\n",
    "df[\"comments_list\"] = df.comments_text.apply(ast.literal_eval)\n",
    "exploded = df[[\"comments_list\"]].explode(\"comments_list\", ignore_index=True)\n",
    "exploded[\"type\"] = \"comment\"\n",
    "exploded.rename(columns = {\"comments_list\":\"text\"}, inplace=True)\n",
    "posts_df = df[[\"content\"]].copy()\n",
    "posts_df[\"type\"] = \"post\"\n",
    "posts_df.rename(columns = {\"content\":\"text\"}, inplace=True)\n",
    "main = pd.concat([posts_df, exploded], axis = 0).reset_index()\n",
    "main = main.loc[main.text.notnull(),:]"
   ]
  },
  {
   "cell_type": "markdown",
   "metadata": {},
   "source": [
    "Just like in previous weeks, we'll use a vectorizer from scikit-learn to split our text into tokens, remove stopwords and very frequent / infrequent terms.  We'll start with a simple CountVectorizer."
   ]
  },
  {
   "cell_type": "code",
   "execution_count": 44,
   "metadata": {},
   "outputs": [],
   "source": [
    "vectorizer = CountVectorizer(min_df = 0.01, max_df = 0.5, stop_words = 'english')\n",
    "\n",
    "vectors = vectorizer.fit_transform(main.text)"
   ]
  },
  {
   "cell_type": "code",
   "execution_count": 80,
   "metadata": {},
   "outputs": [],
   "source": [
    "num_topics = 8\n",
    "\n",
    "lda = LatentDirichletAllocation(\n",
    "    n_components=num_topics,\n",
    "    learning_method = \"online\",\n",
    "    random_state = 2342,\n",
    "    n_jobs = 4\n",
    ")\n",
    "lda_results = lda.fit_transform(vectors) "
   ]
  },
  {
   "cell_type": "code",
   "execution_count": 81,
   "metadata": {},
   "outputs": [
    {
     "name": "stdout",
     "output_type": "stream",
     "text": [
      "Topic 1:  ['read', 'time', 'don', 'years', 'know', 'want', 'ago', 'kids', 'old', 'pages']\n",
      "Topic 2:  ['read', 'book', 'just', 've', 'reading', 'finished', 'really', 'lol', 'started', 'story']\n",
      "Topic 3:  ['loved', 'good', 'absolutely', 'novels', 'stories', 'kid', 'oh', 'right', 'list', 'recommend']\n",
      "Topic 4:  ['books', 'book', 'read', 'like', 'work', 'reading', 've', 'used', 'new', 'just']\n",
      "Topic 5:  ['great', 'did', 'man', 'book', 'way', 'couldn', 'written', 'left', 'beautiful', 'writer']\n",
      "Topic 6:  ['book', 'favorite', 'series', 'love', 'read', 'king', 'ending', 'really', 'haven', 'liked']\n",
      "Topic 7:  ['books', 'book', 'school', 'think', 'read', 'help', 'self', 'fiction', 'literature', 'high']\n",
      "Topic 8:  ['like', 'people', 'just', 'think', 'don', 'book', 'way', 'really', 'things', 'didn']\n"
     ]
    }
   ],
   "source": [
    "terms = vectorizer.get_feature_names_out()\n",
    "\n",
    "for index, component in enumerate(lda.components_):\n",
    "    zipped = zip(terms, component)\n",
    "    top_terms_key=sorted(zipped, key = lambda t: t[1], reverse=True)[:10]\n",
    "    top_terms_list=list(dict(top_terms_key).keys())\n",
    "    print(\"Topic \"+str(index+1)+\": \",top_terms_list)"
   ]
  },
  {
   "cell_type": "code",
   "execution_count": 82,
   "metadata": {},
   "outputs": [],
   "source": [
    "lda_res_df = pd.DataFrame(lda_results, columns = [\"Topic_\"+str(k) for k in range(1,(num_topics+1))])\n",
    "lda_res_df[\"MainTopic\"] = lda_res_df.idxmax(axis = 1)"
   ]
  },
  {
   "cell_type": "code",
   "execution_count": 83,
   "metadata": {},
   "outputs": [],
   "source": [
    "lda_df = pd.concat([main, lda_res_df], axis = 1)"
   ]
  },
  {
   "cell_type": "code",
   "execution_count": 84,
   "metadata": {},
   "outputs": [
    {
     "data": {
      "text/html": [
       "<div>\n",
       "<style scoped>\n",
       "    .dataframe tbody tr th:only-of-type {\n",
       "        vertical-align: middle;\n",
       "    }\n",
       "\n",
       "    .dataframe tbody tr th {\n",
       "        vertical-align: top;\n",
       "    }\n",
       "\n",
       "    .dataframe thead th {\n",
       "        text-align: right;\n",
       "    }\n",
       "</style>\n",
       "<table border=\"1\" class=\"dataframe\">\n",
       "  <thead>\n",
       "    <tr style=\"text-align: right;\">\n",
       "      <th>MainTopic</th>\n",
       "      <th>Topic_1</th>\n",
       "      <th>Topic_2</th>\n",
       "      <th>Topic_3</th>\n",
       "      <th>Topic_4</th>\n",
       "      <th>Topic_5</th>\n",
       "      <th>Topic_6</th>\n",
       "      <th>Topic_7</th>\n",
       "      <th>Topic_8</th>\n",
       "    </tr>\n",
       "    <tr>\n",
       "      <th>type</th>\n",
       "      <th></th>\n",
       "      <th></th>\n",
       "      <th></th>\n",
       "      <th></th>\n",
       "      <th></th>\n",
       "      <th></th>\n",
       "      <th></th>\n",
       "      <th></th>\n",
       "    </tr>\n",
       "  </thead>\n",
       "  <tbody>\n",
       "    <tr>\n",
       "      <th>comment</th>\n",
       "      <td>0.122716</td>\n",
       "      <td>0.148971</td>\n",
       "      <td>0.026949</td>\n",
       "      <td>0.154985</td>\n",
       "      <td>0.034698</td>\n",
       "      <td>0.12607</td>\n",
       "      <td>0.111381</td>\n",
       "      <td>0.274231</td>\n",
       "    </tr>\n",
       "    <tr>\n",
       "      <th>post</th>\n",
       "      <td>0.042553</td>\n",
       "      <td>0.159574</td>\n",
       "      <td>0.000000</td>\n",
       "      <td>0.191489</td>\n",
       "      <td>0.021277</td>\n",
       "      <td>0.06383</td>\n",
       "      <td>0.117021</td>\n",
       "      <td>0.404255</td>\n",
       "    </tr>\n",
       "  </tbody>\n",
       "</table>\n",
       "</div>"
      ],
      "text/plain": [
       "MainTopic   Topic_1   Topic_2   Topic_3   Topic_4   Topic_5  Topic_6  \\\n",
       "type                                                                   \n",
       "comment    0.122716  0.148971  0.026949  0.154985  0.034698  0.12607   \n",
       "post       0.042553  0.159574  0.000000  0.191489  0.021277  0.06383   \n",
       "\n",
       "MainTopic   Topic_7   Topic_8  \n",
       "type                           \n",
       "comment    0.111381  0.274231  \n",
       "post       0.117021  0.404255  "
      ]
     },
     "execution_count": 84,
     "metadata": {},
     "output_type": "execute_result"
    }
   ],
   "source": [
    "pd.crosstab(lda_df.type, lda_df.MainTopic, normalize = \"index\")"
   ]
  },
  {
   "cell_type": "markdown",
   "metadata": {},
   "source": [
    "#### Visualizing Topics with pyLDAvis"
   ]
  },
  {
   "cell_type": "code",
   "execution_count": 85,
   "metadata": {},
   "outputs": [
    {
     "data": {
      "text/html": [
       "\n",
       "<link rel=\"stylesheet\" type=\"text/css\" href=\"https://cdn.jsdelivr.net/gh/bmabey/pyLDAvis@3.4.0/pyLDAvis/js/ldavis.v1.0.0.css\">\n",
       "\n",
       "\n",
       "<div id=\"ldavis_el2885618589774000803309719895\" style=\"background-color:white;\"></div>\n",
       "<script type=\"text/javascript\">\n",
       "\n",
       "var ldavis_el2885618589774000803309719895_data = {\"mdsDat\": {\"x\": [-0.10071344559042851, -0.11057792358267346, -0.10410052152741847, -0.08217086379692014, -0.04020153802665918, -0.09724266256434481, 0.10770056622377733, 0.42730638886466743], \"y\": [0.019080464669507805, -0.04385942906882821, 0.01711753472468605, -0.008645914720980096, 0.004960161237525679, -0.2094195415830076, 0.3640636516554279, -0.1432969269143312], \"topics\": [1, 2, 3, 4, 5, 6, 7, 8], \"cluster\": [1, 1, 1, 1, 1, 1, 1, 1], \"Freq\": [29.796952783688297, 15.741435818157646, 13.865544019969478, 13.466856665988974, 10.23696357018142, 6.918450873251608, 5.19467168509927, 4.779124583663305]}, \"tinfo\": {\"Term\": [\"read\", \"time\", \"don\", \"books\", \"book\", \"great\", \"years\", \"good\", \"did\", \"know\", \"favorite\", \"loved\", \"way\", \"series\", \"people\", \"want\", \"work\", \"man\", \"stories\", \"love\", \"written\", \"absolutely\", \"used\", \"reading\", \"right\", \"ve\", \"novels\", \"think\", \"king\", \"new\", \"wrong\", \"sex\", \"saying\", \"sense\", \"agree\", \"makes\", \"mean\", \"women\", \"feels\", \"opinion\", \"basically\", \"person\", \"people\", \"kind\", \"able\", \"cool\", \"thank\", \"doesn\", \"bad\", \"feel\", \"totally\", \"things\", \"sure\", \"clancy\", \"does\", \"guy\", \"idea\", \"say\", \"live\", \"takes\", \"make\", \"think\", \"thing\", \"like\", \"just\", \"didn\", \"don\", \"way\", \"world\", \"point\", \"actually\", \"know\", \"really\", \"lot\", \"life\", \"book\", \"good\", \"story\", \"used\", \"yeah\", \"half\", \"copy\", \"10\", \"library\", \"work\", \"goodreads\", \"physical\", \"30\", \"use\", \"free\", \"new\", \"home\", \"reviews\", \"try\", \"usually\", \"looking\", \"day\", \"care\", \"ll\", \"look\", \"books\", \"start\", \"night\", \"instead\", \"similar\", \"media\", \"stuff\", \"ones\", \"ve\", \"reading\", \"read\", \"book\", \"like\", \"good\", \"just\", \"got\", \"really\", \"way\", \"self\", \"school\", \"authors\", \"fantasy\", \"literary\", \"high\", \"genre\", \"page\", \"american\", \"english\", \"prince\", \"depressing\", \"popular\", \"help\", \"comment\", \"literature\", \"fiction\", \"human\", \"children\", \"readers\", \"middle\", \"yes\", \"war\", \"modern\", \"actual\", \"reader\", \"post\", \"adult\", \"history\", \"example\", \"believe\", \"written\", \"books\", \"think\", \"book\", \"author\", \"lot\", \"read\", \"reading\", \"don\", \"people\", \"like\", \"finished\", \"enjoyed\", \"movie\", \"red\", \"game\", \"games\", \"lol\", \"started\", \"heart\", \"finish\", \"dark\", \"house\", \"fun\", \"pick\", \"little\", \"honestly\", \"year\", \"gave\", \"couple\", \"later\", \"seen\", \"sad\", \"fine\", \"wanted\", \"story\", \"short\", \"thinking\", \"family\", \"quite\", \"young\", \"ve\", \"felt\", \"life\", \"reading\", \"just\", \"loved\", \"read\", \"series\", \"book\", \"really\", \"got\", \"lot\", \"end\", \"books\", \"time\", \"think\", \"like\", \"favorite\", \"king\", \"haven\", \"liked\", \"buy\", \"favourite\", \"reread\", \"stephen\", \"hours\", \"ending\", \"boring\", \"amazing\", \"main\", \"series\", \"stand\", \"second\", \"far\", \"heard\", \"entire\", \"character\", \"love\", \"hate\", \"characters\", \"worth\", \"wasn\", \"times\", \"lost\", \"hated\", \"funny\", \"plot\", \"book\", \"felt\", \"really\", \"world\", \"read\", \"ve\", \"time\", \"good\", \"pretty\", \"just\", \"books\", \"years\", \"ago\", \"nice\", \"called\", \"kids\", \"old\", \"recently\", \"pages\", \"time\", \"want\", \"know\", \"don\", \"read\", \"based\", \"literally\", \"mind\", \"need\", \"got\", \"thing\", \"experience\", \"true\", \"hope\", \"pretty\", \"going\", \"real\", \"doing\", \"really\", \"like\", \"just\", \"books\", \"book\", \"man\", \"couldn\", \"left\", \"beautiful\", \"writer\", \"bed\", \"woman\", \"took\", \"great\", \"did\", \"hope\", \"friends\", \"hard\", \"written\", \"away\", \"came\", \"said\", \"reason\", \"long\", \"feeling\", \"let\", \"stop\", \"completely\", \"definitely\", \"way\", \"thought\", \"wanted\", \"course\", \"novel\", \"right\", \"book\", \"read\", \"writing\", \"life\", \"novels\", \"kid\", \"list\", \"recommend\", \"tried\", \"days\", \"god\", \"reads\", \"oh\", \"absolutely\", \"works\", \"romance\", \"stories\", \"style\", \"hated\", \"loved\", \"short\", \"right\", \"early\", \"using\", \"good\", \"wrote\", \"plot\", \"isn\", \"guy\", \"enjoy\", \"guess\", \"love\", \"reading\", \"dark\", \"didn\", \"read\"], \"Freq\": [3241.0, 1185.0, 1258.0, 2535.0, 3368.0, 576.0, 481.0, 953.0, 517.0, 643.0, 497.0, 436.0, 761.0, 597.0, 1183.0, 505.0, 449.0, 258.0, 281.0, 743.0, 353.0, 249.0, 389.0, 1202.0, 322.0, 1048.0, 221.0, 1302.0, 284.0, 393.0, 129.05073050672848, 110.14639996825078, 141.95712660979228, 159.32556078772208, 199.99494010799347, 216.56547674705644, 195.9393185807072, 137.33614859474255, 91.44580348556416, 97.95809458346773, 116.50578197428462, 215.58916345805775, 1031.6923255044849, 222.1080914537996, 130.26483662200405, 82.00263610568031, 93.35129246598494, 238.9760229270447, 305.3236381480465, 338.3117152120425, 82.27048016448161, 376.18071433472255, 222.1993575843161, 131.45553876415428, 193.73637515115865, 93.59815294898225, 155.57957600710225, 312.1687152054369, 104.07966297844384, 70.99978271800238, 314.22489211867577, 884.9068935516167, 269.3873091204577, 1242.8788695262083, 1015.9122295185093, 350.07650927615305, 606.0309727819803, 413.2000519983918, 261.0828495279718, 219.47444680194613, 230.34919010019064, 297.6677845480122, 385.0890675353629, 291.41646709069124, 238.42578285957697, 470.24087096517223, 246.67257994427237, 214.63280658526423, 388.0838338837628, 231.6493386312936, 170.4486625657855, 130.35020089713709, 126.10898491733248, 213.67757945120675, 446.17179942216933, 123.30923786856076, 94.4693872256958, 93.0446210475417, 184.41797084777693, 123.29018072838913, 362.33188997107203, 87.86126696908013, 107.48348782321571, 146.2277640155677, 134.33120862666493, 132.60582713873842, 203.38072371660834, 76.49578735361864, 235.77101823758693, 119.88445601154167, 1455.714507308931, 82.32552266777978, 55.37821280625068, 62.788297519186585, 68.61098508600801, 55.320445843793976, 107.10711958722226, 65.81696760486604, 395.289002918474, 437.3984501601009, 657.7279309304025, 669.9717180828612, 463.9873592928054, 222.60105606010853, 268.9952188388268, 111.21837498513634, 126.0639222082056, 116.58357984835469, 220.25742697194974, 303.6161720487863, 180.99655146592437, 173.2633052138243, 149.36077572815987, 199.2030846572329, 138.75443185829255, 139.0083638606066, 129.2373309924013, 122.80557809767272, 149.66461365153333, 113.38885447765233, 103.48616575472184, 221.62848453324278, 96.88283338960454, 207.56502054056565, 207.87478593532666, 138.94662932426152, 133.61075659882192, 101.44399377438825, 75.94760824566877, 149.42496102399718, 132.810552338649, 87.6560725512715, 71.04163488919666, 127.04831374894776, 112.99789280606961, 85.66210151893827, 92.79001595215172, 63.80900921957295, 76.46631421345856, 174.73625651569378, 643.9422982961728, 257.4401247416788, 403.7911909425791, 135.46774198416725, 154.7962566508353, 230.68708120377914, 155.81190075884584, 148.12304536134292, 143.82361106121286, 128.5648852321766, 298.29575706887084, 192.81333754657777, 229.8431967010115, 137.63635685876858, 126.63073201455997, 113.94895881484582, 259.95182010768383, 257.0887462061451, 111.7510462601447, 146.84945203549634, 156.83557254495142, 144.42735436283894, 133.15915987406547, 66.01410071305658, 214.32806884179905, 78.30107675398402, 205.415332215393, 76.19446117968081, 77.68636370184711, 76.39436980209292, 66.37276465708703, 54.4429819141779, 39.95178194342901, 80.81250903938177, 233.5344914069778, 58.49500064332407, 62.017963757467044, 49.2860867554959, 66.26102962077198, 47.47913267070505, 394.2699641731414, 112.92085093973547, 193.18742624340726, 366.40091259941886, 547.1688764633609, 149.7522737357259, 658.7377997213711, 186.39566567353452, 637.7911439209273, 283.2141871246302, 141.84127528462605, 155.99491873307235, 110.21826559628511, 218.5119877966636, 161.0319991921987, 147.67444187440012, 115.53975071944801, 496.5820493214746, 283.66148115874796, 190.52081330892267, 190.17123032408253, 178.04895940766218, 164.64849915082996, 111.03357000863022, 110.74920031602133, 99.46684018670518, 213.70329730328274, 101.4066696219257, 106.7895680087256, 98.35748396125541, 410.03378756811827, 64.77637784563734, 117.27414490325027, 162.39527098961338, 60.337562065541576, 59.1873066185619, 154.15347683876587, 332.149614985546, 61.249496488458746, 154.16593402998802, 46.46394304799999, 67.01524985531783, 91.88134521479465, 32.53877870038948, 36.31812948644762, 40.353359264929146, 57.18407543554184, 946.8006562652215, 80.65553817610162, 195.61723530303297, 99.49776930002395, 307.4692588858628, 126.99231553550763, 128.5464565659038, 109.58783212906818, 77.97390568770399, 105.20802516024942, 91.84013121805508, 480.860540835275, 199.611849770296, 114.38164177271592, 107.36250668923567, 192.41944997665865, 163.53080483401337, 73.41772865753805, 146.808792755164, 724.0906115975678, 269.0268105591858, 323.0438578556729, 496.54136001814305, 1275.830366832847, 42.6653543883088, 45.62032286171016, 56.17030492130407, 80.51075302860954, 117.75171932499109, 91.38848142833335, 46.85200271275746, 29.839528574274066, 22.069432159995497, 65.23356269262464, 58.18118347513691, 28.68860016486246, 8.423371093404585, 35.57578245359649, 55.54843818232391, 43.789891286374555, 18.557309327646404, 12.207924612987071, 257.3352930026137, 184.26884381030672, 152.82859471649257, 131.86007905154204, 128.9740419527914, 123.17973016164497, 118.41050737245507, 113.91166380661238, 553.2312572504676, 312.5504352066488, 64.79509218609846, 59.29485829244098, 123.7638297187012, 176.1785972144136, 75.31447232470548, 80.82408275586829, 112.16013927289183, 59.892541557827585, 111.01801678838098, 36.704015815097904, 43.058631256050035, 32.204920789292196, 44.65345106470296, 73.56711469550184, 191.6582400011039, 74.99232631402084, 40.62754097639069, 20.68913673590956, 42.59991100939398, 43.71179202314009, 226.06493139019634, 81.49587824522294, 45.47266148479304, 46.24386887185938, 220.17251735808284, 178.81314463149786, 162.28074826250392, 148.24403368623734, 143.83513642954287, 123.90268919822944, 120.09620535646248, 110.37157076182521, 165.73190389198047, 234.021355792367, 146.14468461009736, 145.06480496789, 219.70812738581307, 89.35753396518254, 77.29310860089292, 285.5273702913764, 82.24591043308176, 163.9029221623103, 49.90736944379431, 48.83591893738602, 283.0655383029621, 37.02527574463119, 46.49501756914445, 62.29308570282497, 26.44589479004593, 33.28422973551738, 20.28171085842303, 102.90356959431845, 106.07818076826698, 12.892219827253365, 29.124131923877822, 28.315920635511784], \"Total\": [3241.0, 1185.0, 1258.0, 2535.0, 3368.0, 576.0, 481.0, 953.0, 517.0, 643.0, 497.0, 436.0, 761.0, 597.0, 1183.0, 505.0, 449.0, 258.0, 281.0, 743.0, 353.0, 249.0, 389.0, 1202.0, 322.0, 1048.0, 221.0, 1302.0, 284.0, 393.0, 129.99020502926194, 111.12541908893989, 143.47832893991074, 161.4800738247946, 208.63305998568163, 226.7900976051838, 208.17196580458466, 150.4633322108318, 100.27127951395133, 107.96832790246373, 128.77346642954015, 243.88437550589921, 1183.9932319343397, 255.80010306355052, 153.69355713344652, 97.2398919942849, 111.04588505107748, 284.7878036534166, 365.2188384528448, 407.8125335350951, 99.20511608278133, 457.9415796758297, 274.8495941159934, 163.33118445623177, 245.72555052380312, 120.84343284334432, 200.99853154200568, 412.7485837832013, 138.19528793953833, 94.47029675494525, 428.5309567244325, 1302.7668830240605, 383.16725051439744, 2088.1301135132367, 2068.078384842483, 565.3105523511899, 1258.7798846527612, 761.8270250927017, 436.10164903577845, 342.6922924037344, 388.8750012111966, 643.4382645628447, 1081.5648953653244, 734.6575014220558, 544.0772893789999, 3368.0660025730563, 953.7601258004627, 544.5030249780406, 389.05697863115273, 232.587092097382, 171.45764055402273, 131.29981198414575, 127.04706415776882, 215.32518019162072, 449.83746952252534, 124.33626660179665, 95.4067140890604, 93.98207472479693, 191.865399712679, 131.59701943341258, 393.3532766018003, 106.49091605938828, 130.7046429309481, 193.83674604949894, 183.46435079846876, 182.80701608512896, 308.8283061420041, 123.30791516344372, 385.9260936346175, 196.6444271420079, 2535.164006982025, 143.71345666846366, 99.59882574987462, 116.53840652115632, 128.38790882028977, 106.11732560781611, 209.64170327633073, 133.06986317190857, 1048.8995281818309, 1202.9697367087806, 3241.7736430291566, 3368.0660025730563, 2088.1301135132367, 953.7601258004627, 2068.078384842483, 432.8228926735544, 1081.5648953653244, 761.8270250927017, 221.18858483185818, 305.172471464323, 181.9278675481655, 174.2164752406502, 150.29244125294045, 200.53927384495367, 139.6858390547819, 139.94163262776829, 130.17252390192553, 123.7367266665398, 150.86828921060984, 114.32003323404695, 104.41900069507672, 223.68573007040678, 97.81420833840261, 209.82519144572848, 214.41516697039873, 164.77972035222433, 163.84509373131715, 131.06009430980154, 100.93366255011416, 200.36424274239627, 185.16600054452, 122.94997306434063, 102.8619435033099, 189.450974971822, 171.4748731302245, 132.00770392620447, 149.53996509954976, 103.45459051762661, 128.21138813911946, 353.6582108362833, 2535.164006982025, 1302.7668830240605, 3368.0660025730563, 353.49082705517276, 734.6575014220558, 3241.7736430291566, 1202.9697367087806, 1258.7798846527612, 1183.9932319343397, 2088.1301135132367, 299.22920145626335, 193.75592766990215, 231.28369413545957, 138.57722599992368, 127.59778951653531, 114.89345398703536, 266.084544864985, 275.3846548955444, 123.43247162327069, 165.76020969839175, 216.3884567894474, 203.24673439993327, 201.44024602871644, 101.38639309302737, 336.4746341072068, 123.86500851786533, 332.425726510972, 124.48066643861168, 130.24827343717976, 137.1502290456676, 127.28867308832264, 111.73121023042411, 90.21732118183581, 188.27650888603148, 544.5030249780406, 141.52896011392988, 151.19403675048858, 122.1949025856683, 171.76367077459153, 125.54518261886517, 1048.8995281818309, 304.07745235969105, 544.0772893789999, 1202.9697367087806, 2068.078384842483, 436.07229706440927, 3241.7736430291566, 597.2345020687791, 3368.0660025730563, 1081.5648953653244, 432.8228926735544, 734.6575014220558, 318.7835184651924, 2535.164006982025, 1185.7752763399965, 1302.7668830240605, 2088.1301135132367, 497.51662104514827, 284.5942049622599, 191.45409604787582, 191.1045487092136, 178.9824788351543, 165.5812164565887, 111.96645150203409, 111.6817767192222, 110.90050497922655, 242.80853050471205, 122.71536806847553, 130.63484723216607, 134.22359095846699, 597.2345020687791, 98.29053890890799, 191.64795638258622, 279.82934913967995, 106.23933527380098, 107.48717051700403, 332.78410824717815, 743.8211492194736, 153.56482569448542, 394.8120875663879, 139.39149332397724, 201.89202020243573, 278.67638101900866, 98.70719060328356, 114.39998238524123, 127.18144857550215, 180.55164633528221, 3368.0660025730563, 304.07745235969105, 1081.5648953653244, 436.10164903577845, 3241.7736430291566, 1048.8995281818309, 1185.7752763399965, 953.7601258004627, 360.2742768875008, 2068.078384842483, 2535.164006982025, 481.95788776017827, 200.53530646692786, 115.30549155466906, 108.28657386390198, 196.99362643919198, 222.49867468821063, 102.18267045675948, 226.4587471073533, 1185.7752763399965, 505.1238507637554, 643.4382645628447, 1258.7798846527612, 3241.7736430291566, 125.01494280194183, 135.4170121912287, 180.1289332387165, 269.33845239996805, 432.8228926735544, 383.16725051439744, 210.14796779565944, 145.1461975119502, 108.68806430928683, 360.2742768875008, 413.3681801363485, 211.93403950441456, 160.02936241775944, 1081.5648953653244, 2088.1301135132367, 2068.078384842483, 2535.164006982025, 3368.0660025730563, 258.25584670168746, 185.18624910673915, 153.74598721444795, 132.77820274263922, 129.89158877577339, 124.09709428611596, 119.32786961853614, 114.8491085567991, 576.055001594076, 517.4658419377997, 108.68806430928683, 102.83098628045968, 245.0201272222754, 353.6582108362833, 158.94905787111887, 186.75256708089594, 261.9793621721137, 141.10583212115606, 319.7934655393115, 107.88189467118887, 138.22088114079912, 106.55026525427421, 152.54895737864067, 264.76857230642054, 761.8270250927017, 328.8466009088145, 188.27650888603148, 108.93693690143886, 238.64358690064194, 322.2640728531009, 3368.0660025730563, 3241.7736430291566, 382.09918204967556, 544.0772893789999, 221.09315062988793, 179.73127744712596, 163.21513836162868, 149.16435284726506, 144.7520615175779, 124.81962383417199, 121.01349194322063, 111.28839864955788, 167.27393865152357, 249.98163565070232, 167.44097113946538, 169.90001752136644, 281.6919782945197, 121.19415775835594, 114.39998238524123, 436.07229706440927, 141.52896011392988, 322.2640728531009, 101.77124459895711, 109.85062765729936, 953.7601258004627, 138.54384901210028, 180.55164633528221, 277.07752151905635, 120.84343284334432, 186.62535101077458, 125.60533248107721, 743.8211492194736, 1202.9697367087806, 216.3884567894474, 565.3105523511899, 3241.7736430291566], \"Category\": [\"Default\", \"Default\", \"Default\", \"Default\", \"Default\", \"Default\", \"Default\", \"Default\", \"Default\", \"Default\", \"Default\", \"Default\", \"Default\", \"Default\", \"Default\", \"Default\", \"Default\", \"Default\", \"Default\", \"Default\", \"Default\", \"Default\", \"Default\", \"Default\", \"Default\", \"Default\", \"Default\", \"Default\", \"Default\", \"Default\", \"Topic1\", \"Topic1\", \"Topic1\", \"Topic1\", \"Topic1\", \"Topic1\", \"Topic1\", \"Topic1\", \"Topic1\", \"Topic1\", \"Topic1\", \"Topic1\", \"Topic1\", \"Topic1\", \"Topic1\", \"Topic1\", \"Topic1\", \"Topic1\", \"Topic1\", \"Topic1\", \"Topic1\", \"Topic1\", \"Topic1\", \"Topic1\", \"Topic1\", \"Topic1\", \"Topic1\", \"Topic1\", \"Topic1\", \"Topic1\", \"Topic1\", \"Topic1\", \"Topic1\", \"Topic1\", \"Topic1\", \"Topic1\", \"Topic1\", \"Topic1\", \"Topic1\", \"Topic1\", \"Topic1\", \"Topic1\", \"Topic1\", \"Topic1\", \"Topic1\", \"Topic1\", \"Topic1\", \"Topic1\", \"Topic2\", \"Topic2\", \"Topic2\", \"Topic2\", \"Topic2\", \"Topic2\", \"Topic2\", \"Topic2\", \"Topic2\", \"Topic2\", \"Topic2\", \"Topic2\", \"Topic2\", \"Topic2\", \"Topic2\", \"Topic2\", \"Topic2\", \"Topic2\", \"Topic2\", \"Topic2\", \"Topic2\", \"Topic2\", \"Topic2\", \"Topic2\", \"Topic2\", \"Topic2\", \"Topic2\", \"Topic2\", \"Topic2\", \"Topic2\", \"Topic2\", \"Topic2\", \"Topic2\", \"Topic2\", \"Topic2\", \"Topic2\", \"Topic2\", \"Topic2\", \"Topic2\", \"Topic2\", \"Topic3\", \"Topic3\", \"Topic3\", \"Topic3\", \"Topic3\", \"Topic3\", \"Topic3\", \"Topic3\", \"Topic3\", \"Topic3\", \"Topic3\", \"Topic3\", \"Topic3\", \"Topic3\", \"Topic3\", \"Topic3\", \"Topic3\", \"Topic3\", \"Topic3\", \"Topic3\", \"Topic3\", \"Topic3\", \"Topic3\", \"Topic3\", \"Topic3\", \"Topic3\", \"Topic3\", \"Topic3\", \"Topic3\", \"Topic3\", \"Topic3\", \"Topic3\", \"Topic3\", \"Topic3\", \"Topic3\", \"Topic3\", \"Topic3\", \"Topic3\", \"Topic3\", \"Topic3\", \"Topic3\", \"Topic3\", \"Topic4\", \"Topic4\", \"Topic4\", \"Topic4\", \"Topic4\", \"Topic4\", \"Topic4\", \"Topic4\", \"Topic4\", \"Topic4\", \"Topic4\", \"Topic4\", \"Topic4\", \"Topic4\", \"Topic4\", \"Topic4\", \"Topic4\", \"Topic4\", \"Topic4\", \"Topic4\", \"Topic4\", \"Topic4\", \"Topic4\", \"Topic4\", \"Topic4\", \"Topic4\", \"Topic4\", \"Topic4\", \"Topic4\", \"Topic4\", \"Topic4\", \"Topic4\", \"Topic4\", \"Topic4\", \"Topic4\", \"Topic4\", \"Topic4\", \"Topic4\", \"Topic4\", \"Topic4\", \"Topic4\", \"Topic4\", \"Topic4\", \"Topic4\", \"Topic4\", \"Topic4\", \"Topic4\", \"Topic5\", \"Topic5\", \"Topic5\", \"Topic5\", \"Topic5\", \"Topic5\", \"Topic5\", \"Topic5\", \"Topic5\", \"Topic5\", \"Topic5\", \"Topic5\", \"Topic5\", \"Topic5\", \"Topic5\", \"Topic5\", \"Topic5\", \"Topic5\", \"Topic5\", \"Topic5\", \"Topic5\", \"Topic5\", \"Topic5\", \"Topic5\", \"Topic5\", \"Topic5\", \"Topic5\", \"Topic5\", \"Topic5\", \"Topic5\", \"Topic5\", \"Topic5\", \"Topic5\", \"Topic5\", \"Topic5\", \"Topic5\", \"Topic5\", \"Topic5\", \"Topic5\", \"Topic5\", \"Topic5\", \"Topic6\", \"Topic6\", \"Topic6\", \"Topic6\", \"Topic6\", \"Topic6\", \"Topic6\", \"Topic6\", \"Topic6\", \"Topic6\", \"Topic6\", \"Topic6\", \"Topic6\", \"Topic6\", \"Topic6\", \"Topic6\", \"Topic6\", \"Topic6\", \"Topic6\", \"Topic6\", \"Topic6\", \"Topic6\", \"Topic6\", \"Topic6\", \"Topic6\", \"Topic6\", \"Topic6\", \"Topic6\", \"Topic6\", \"Topic6\", \"Topic6\", \"Topic7\", \"Topic7\", \"Topic7\", \"Topic7\", \"Topic7\", \"Topic7\", \"Topic7\", \"Topic7\", \"Topic7\", \"Topic7\", \"Topic7\", \"Topic7\", \"Topic7\", \"Topic7\", \"Topic7\", \"Topic7\", \"Topic7\", \"Topic7\", \"Topic7\", \"Topic7\", \"Topic7\", \"Topic7\", \"Topic7\", \"Topic7\", \"Topic7\", \"Topic7\", \"Topic7\", \"Topic7\", \"Topic7\", \"Topic7\", \"Topic7\", \"Topic7\", \"Topic7\", \"Topic7\", \"Topic8\", \"Topic8\", \"Topic8\", \"Topic8\", \"Topic8\", \"Topic8\", \"Topic8\", \"Topic8\", \"Topic8\", \"Topic8\", \"Topic8\", \"Topic8\", \"Topic8\", \"Topic8\", \"Topic8\", \"Topic8\", \"Topic8\", \"Topic8\", \"Topic8\", \"Topic8\", \"Topic8\", \"Topic8\", \"Topic8\", \"Topic8\", \"Topic8\", \"Topic8\", \"Topic8\", \"Topic8\", \"Topic8\", \"Topic8\", \"Topic8\", \"Topic8\"], \"logprob\": [30.0, 29.0, 28.0, 27.0, 26.0, 25.0, 24.0, 23.0, 22.0, 21.0, 20.0, 19.0, 18.0, 17.0, 16.0, 15.0, 14.0, 13.0, 12.0, 11.0, 10.0, 9.0, 8.0, 7.0, 6.0, 5.0, 4.0, 3.0, 2.0, 1.0, -5.2063, -5.3647, -5.111, -4.9956, -4.7682, -4.6886, -4.7887, -5.1441, -5.5508, -5.482, -5.3086, -4.6931, -3.1276, -4.6634, -5.1969, -5.6598, -5.5301, -4.5902, -4.3451, -4.2425, -5.6565, -4.1364, -4.6629, -5.1878, -4.8, -5.5275, -5.0194, -4.323, -5.4214, -5.8038, -4.3164, -3.281, -4.4704, -2.9413, -3.143, -4.2084, -3.6596, -4.0426, -4.5017, -4.6753, -4.6269, -4.3705, -4.113, -4.3918, -4.5925, -3.9133, -4.5585, -4.6976, -3.4672, -3.9832, -4.29, -4.5582, -4.5913, -4.0639, -3.3277, -4.6137, -4.8801, -4.8953, -4.2112, -4.6139, -3.5358, -4.9526, -4.7511, -4.4432, -4.5281, -4.541, -4.1133, -5.0912, -3.9655, -4.6419, -2.1452, -5.0177, -5.4142, -5.2886, -5.2, -5.4153, -4.7546, -5.2415, -3.4488, -3.3476, -2.9396, -2.9212, -3.2885, -4.023, -3.8337, -4.7169, -4.5916, -4.6698, -3.9067, -3.5858, -4.103, -4.1467, -4.2952, -4.0072, -4.3688, -4.367, -4.4399, -4.4909, -4.2931, -4.5707, -4.6621, -3.9005, -4.728, -3.9661, -3.9646, -4.3674, -4.4066, -4.682, -4.9715, -4.2947, -4.4126, -4.8281, -5.0382, -4.4569, -4.5741, -4.8511, -4.7712, -5.1456, -4.9647, -4.1382, -2.8339, -3.7507, -3.3006, -4.3928, -4.2594, -3.8605, -4.2529, -4.3035, -4.3329, -4.4451, -3.5743, -4.0106, -3.8349, -4.3477, -4.4311, -4.5366, -3.7118, -3.7229, -4.5561, -4.2829, -4.2171, -4.2996, -4.3808, -5.0825, -3.9048, -4.9118, -3.9473, -4.9391, -4.9197, -4.9364, -5.0771, -5.2752, -5.5847, -4.8802, -3.819, -5.2034, -5.1449, -5.3747, -5.0787, -5.4121, -3.2953, -4.5457, -4.0087, -3.3686, -2.9676, -4.2634, -2.782, -4.0445, -2.8143, -3.6261, -4.3176, -4.2225, -4.5699, -3.8855, -4.1907, -4.2773, -4.5227, -2.7904, -3.3503, -3.7484, -3.7502, -3.8161, -3.8943, -4.2883, -4.2908, -4.3983, -3.6335, -4.379, -4.3273, -4.4095, -2.9819, -4.8272, -4.2336, -3.9081, -4.8982, -4.9174, -3.9602, -3.1925, -4.8832, -3.9601, -5.1594, -4.7932, -4.4776, -5.5157, -5.4058, -5.3004, -4.9518, -2.145, -4.6079, -3.722, -4.398, -3.2697, -4.154, -4.1418, -4.3014, -4.6417, -4.3422, -4.4781, -2.4307, -3.3099, -3.8668, -3.9301, -3.3466, -3.5093, -4.3101, -3.6172, -2.0214, -3.0115, -2.8285, -2.3986, -1.4549, -4.8529, -4.7859, -4.5779, -4.2179, -3.8377, -4.0912, -4.7593, -5.2105, -5.5121, -4.4283, -4.5427, -5.2498, -6.4753, -5.0346, -4.589, -4.8269, -5.6854, -6.1042, -2.7694, -3.1033, -3.2904, -3.438, -3.4601, -3.5061, -3.5456, -3.5843, -2.004, -2.575, -4.1485, -4.2372, -3.5014, -3.1482, -3.9981, -3.9275, -3.5998, -4.2272, -3.61, -4.7169, -4.5572, -4.8476, -4.5208, -4.0215, -3.064, -4.0024, -4.6153, -5.2901, -4.5679, -4.5421, -2.8989, -3.9192, -4.5026, -4.4858, -2.842, -3.05, -3.147, -3.2375, -3.2677, -3.4169, -3.4481, -3.5325, -3.126, -2.781, -3.2518, -3.2592, -2.8441, -3.7437, -3.8888, -2.582, -3.8267, -3.1371, -4.3262, -4.3479, -2.5907, -4.6248, -4.397, -4.1045, -4.9613, -4.7313, -5.2266, -3.6026, -3.5722, -5.6797, -4.8648, -4.8929], \"loglift\": [30.0, 29.0, 28.0, 27.0, 26.0, 25.0, 24.0, 23.0, 22.0, 21.0, 20.0, 19.0, 18.0, 17.0, 16.0, 15.0, 14.0, 13.0, 12.0, 11.0, 10.0, 9.0, 8.0, 7.0, 6.0, 5.0, 4.0, 3.0, 2.0, 1.0, 1.2035, 1.2019, 1.2001, 1.1973, 1.1685, 1.1646, 1.1502, 1.1195, 1.1186, 1.1135, 1.1107, 1.0874, 1.0731, 1.0695, 1.0454, 1.0403, 1.0372, 1.0354, 1.0316, 1.0239, 1.0236, 1.0141, 0.9981, 0.9937, 0.973, 0.9553, 0.9546, 0.9315, 0.9273, 0.9252, 0.9005, 0.824, 0.8584, 0.6919, 0.4999, 0.7315, 0.4798, 0.599, 0.6977, 0.7652, 0.6871, 0.4399, 0.1781, 0.2861, 0.3857, -0.7581, -0.1416, 0.2798, 1.8464, 1.8448, 1.843, 1.8416, 1.8415, 1.8412, 1.8407, 1.8406, 1.839, 1.8388, 1.8093, 1.7837, 1.7667, 1.6566, 1.6533, 1.567, 1.5372, 1.5278, 1.4312, 1.3714, 1.3561, 1.354, 1.2941, 1.2917, 1.2619, 1.2304, 1.2223, 1.1975, 1.1773, 1.1449, 0.873, 0.8372, 0.2538, 0.234, 0.3447, 0.3938, -0.1908, 0.49, -0.3005, -0.0282, 1.9715, 1.9707, 1.9706, 1.9703, 1.9695, 1.9691, 1.9691, 1.9691, 1.9686, 1.9682, 1.9678, 1.9676, 1.9668, 1.9665, 1.9662, 1.9649, 1.9448, 1.8052, 1.7718, 1.7196, 1.6913, 1.6824, 1.6434, 1.6374, 1.6056, 1.5762, 1.5587, 1.5433, 1.4985, 1.4925, 1.4589, 1.2707, 0.6054, 0.3543, -0.1454, 1.0166, 0.4185, -0.6671, -0.0681, -0.1641, -0.1323, -0.8118, 2.0018, 2.0001, 1.9987, 1.9981, 1.9973, 1.9967, 1.9816, 1.9362, 1.9055, 1.8838, 1.6831, 1.6633, 1.591, 1.5759, 1.5539, 1.5463, 1.5236, 1.5141, 1.4882, 1.4198, 1.3538, 1.286, 1.1904, 1.1592, 1.1584, 1.1214, 1.1138, 1.097, 1.0524, 1.0326, 1.0265, 1.0143, 0.9695, 0.8161, 0.6753, 0.9361, 0.4114, 0.8405, 0.3409, 0.665, 0.8893, 0.4554, 0.9429, -0.4462, 0.0084, -0.1723, -0.8895, 2.2773, 2.2759, 2.2743, 2.2743, 2.2739, 2.2735, 2.2708, 2.2708, 2.1704, 2.1515, 2.0884, 2.0776, 1.9683, 1.9031, 1.8622, 1.788, 1.735, 1.7134, 1.6825, 1.5096, 1.473, 1.36, 1.3388, 1.1806, 1.1764, 1.1696, 1.1694, 1.1318, 1.1312, 1.1294, 1.0102, 0.9521, 0.5692, 0.8014, -0.0763, 0.1678, 0.0573, 0.1155, 0.7487, -0.6993, -1.0388, 2.6687, 2.6664, 2.6629, 2.6624, 2.6475, 2.3631, 2.3404, 2.2375, 2.1777, 2.041, 1.9819, 1.7407, 1.7385, 1.5959, 1.583, 1.5057, 1.4634, 1.3692, 1.2376, 1.1702, 1.0891, 1.0767, 0.9621, 0.7102, 0.6712, -0.2734, -0.7435, -0.9558, -1.184, -2.2462, -2.949, 2.954, 2.9526, 2.9516, 2.9506, 2.9504, 2.9501, 2.9498, 2.9493, 2.9171, 2.4534, 2.4403, 2.407, 2.2746, 2.2607, 2.2106, 2.12, 2.1092, 2.1006, 1.8996, 1.8794, 1.7912, 1.761, 1.729, 1.6769, 1.5775, 1.4793, 1.4241, 1.2964, 1.2344, 0.9598, 0.2563, -0.7258, 0.829, 0.4924, 3.0367, 3.0358, 3.0352, 3.0347, 3.0346, 3.0335, 3.0333, 3.0326, 3.0317, 2.9749, 2.9049, 2.8829, 2.7924, 2.7362, 2.6488, 2.6174, 2.4981, 2.3648, 2.3284, 2.2303, 1.8262, 1.7213, 1.6842, 1.5485, 1.5215, 1.3169, 1.2175, 1.0629, 0.6125, 0.2205, 0.0751, -1.6995]}, \"token.table\": {\"Topic\": [2, 2, 1, 3, 5, 8, 2, 3, 1, 2, 3, 4, 5, 1, 3, 4, 6, 1, 3, 4, 5, 3, 1, 2, 3, 4, 5, 3, 1, 3, 7, 1, 5, 1, 2, 3, 6, 1, 3, 7, 7, 1, 3, 1, 2, 3, 4, 5, 6, 7, 8, 1, 2, 3, 4, 5, 6, 2, 5, 5, 6, 1, 2, 5, 7, 2, 3, 1, 3, 5, 1, 3, 4, 5, 1, 3, 1, 2, 3, 5, 3, 1, 3, 7, 1, 4, 2, 7, 2, 4, 1, 3, 7, 3, 4, 8, 2, 3, 4, 8, 2, 3, 4, 5, 7, 3, 1, 2, 3, 4, 7, 1, 2, 4, 5, 8, 1, 3, 7, 1, 2, 3, 6, 1, 2, 4, 6, 1, 2, 3, 4, 6, 1, 2, 8, 1, 2, 3, 4, 5, 1, 5, 3, 1, 2, 3, 5, 8, 4, 3, 5, 1, 3, 1, 2, 3, 6, 1, 3, 4, 3, 1, 2, 3, 4, 5, 5, 5, 1, 2, 3, 4, 1, 2, 3, 4, 5, 7, 1, 4, 1, 4, 5, 2, 3, 4, 1, 4, 4, 5, 4, 1, 2, 1, 7, 1, 2, 4, 1, 3, 5, 4, 4, 1, 2, 4, 5, 3, 8, 1, 2, 3, 4, 5, 6, 1, 2, 3, 4, 5, 7, 8, 2, 1, 2, 3, 4, 5, 6, 3, 4, 5, 7, 1, 3, 8, 1, 8, 2, 1, 2, 7, 1, 2, 5, 5, 8, 5, 1, 5, 3, 4, 5, 1, 3, 2, 3, 1, 2, 3, 4, 2, 4, 7, 1, 4, 3, 6, 7, 1, 5, 2, 4, 1, 3, 1, 3, 4, 1, 2, 3, 1, 3, 8, 1, 2, 3, 4, 5, 6, 7, 8, 8, 1, 6, 1, 3, 4, 5, 1, 2, 3, 4, 6, 1, 2, 3, 4, 7, 1, 7, 2, 4, 1, 3, 4, 5, 7, 1, 2, 3, 4, 5, 6, 7, 5, 8, 1, 2, 4, 6, 3, 1, 3, 1, 3, 4, 1, 3, 5, 1, 2, 3, 4, 5, 8, 3, 4, 1, 3, 4, 5, 7, 1, 2, 3, 2, 3, 8, 2, 4, 5, 1, 2, 3, 4, 5, 7, 1, 2, 3, 4, 5, 8, 4, 8, 3, 5, 1, 2, 3, 1, 3, 7, 1, 3, 1, 2, 3, 1, 3, 5, 1, 3, 4, 6, 1, 3, 4, 1, 4, 1, 2, 3, 4, 6, 1, 2, 3, 5, 6, 1, 2, 4, 1, 3, 4, 5, 7, 8, 1, 8, 1, 2, 3, 4, 6, 8, 1, 2, 3, 5, 1, 3, 3, 2, 4, 6, 7, 1, 2, 3, 1, 3, 2, 3, 4, 1, 5, 8, 1, 2, 3, 7, 3, 1, 3, 1, 2, 3, 4, 5, 6, 3, 1, 2, 3, 4, 5, 1, 2, 3, 4, 5, 6, 7, 8, 2, 3, 2, 3, 1, 2, 3, 4, 5, 7, 8, 8, 1, 3, 6, 1, 2, 3, 4, 5, 6, 1, 3, 7, 4, 6, 8, 4, 5, 2, 3, 5, 1, 7, 8, 3, 8, 1, 3, 4, 1, 2, 3, 7, 1, 3, 4, 5, 1, 2, 3, 6, 2, 5, 1, 3, 4, 3, 1, 3, 4, 5, 1, 4, 8, 1, 2, 3, 3, 4, 5, 1, 2, 3, 4, 2, 4, 5, 1, 2, 3, 5, 7, 1, 3, 4, 8, 1, 3, 4, 5, 7, 8, 1, 2, 3, 3, 8, 1, 3, 5, 1, 2, 1, 3, 1, 3, 6, 1, 2, 3, 4, 1, 3, 4, 5, 1, 3, 4, 1, 3, 4, 5, 7, 8, 1, 2, 3, 4, 5, 6, 8, 1, 2, 3, 4, 5, 7, 7, 1, 4, 8, 1, 3, 6, 1, 2, 3, 8, 2, 3, 2, 1, 4, 8, 1, 2, 3, 1, 2, 3, 4, 5, 1, 2, 3, 6, 1, 4, 7, 1, 3, 4, 5, 1, 2, 5, 1, 2, 3, 5, 7, 7, 1, 4, 1, 2, 3, 3, 8, 1, 3, 5, 1, 2, 5, 7, 1, 3, 4, 5, 7, 3, 6, 7, 1, 1, 3, 5, 8, 2, 2, 3, 4, 5, 6, 1, 3, 1, 2, 3, 4], \"Freq\": [0.9917584545167565, 0.9895504038650701, 0.8458389696005651, 0.1496484330831769, 0.06000440776761458, 0.9360687611747874, 0.3013748228371991, 0.6902455619819721, 0.591449692789812, 0.023143683630905687, 0.09771777533049068, 0.1980070710644153, 0.08486017331332085, 0.007575315457035935, 0.6514771293050904, 0.34088919556661706, 0.9973306123676723, 0.9586208437614149, 0.038344833750456594, 0.17606328240369187, 0.8190770094432622, 0.9909925392334796, 0.36210274836925765, 0.11315710886539301, 0.38190524242070145, 0.06506533759760098, 0.07638104848414029, 0.9948998052872805, 0.4278100223477678, 0.09436985787083113, 0.47184928935415565, 0.8351157385310507, 0.16154697892895736, 0.047994262649911024, 0.3199617509994068, 0.28796557589946614, 0.34395888232436234, 0.9085722644891124, 0.0854213240117969, 0.9941390776003529, 0.9911593877968929, 0.3977805773747725, 0.5927710564800531, 0.1395459589096355, 0.1989272180201187, 0.11995014340317604, 0.18942621656244138, 0.28117026188813793, 0.0035628755466289913, 0.067100822794846, 0.000296906295552416, 0.041811890555430865, 0.5743218174406353, 0.25402695771412714, 0.08638494369471093, 0.036289565387732446, 0.0074945841561621365, 0.16297877205436848, 0.8230427988745608, 0.994510754116557, 0.988118805332977, 0.1445763258949172, 0.1927684345265563, 0.224896506947649, 0.43372897768475166, 0.6163432404096896, 0.3730498560374437, 0.5318763595181407, 0.0030049511837183093, 0.4627624822926196, 0.4913730002437648, 0.043058458784247425, 0.07345266498489267, 0.3900589795749473, 0.17699645036399997, 0.8178456671991723, 0.8020513684274687, 0.006122529529980677, 0.006122529529980677, 0.17755335636943964, 0.9916759706771257, 0.6096403515178761, 0.09832908895449616, 0.2949872668634885, 0.8432753093228385, 0.1439738332990212, 0.9901004276814753, 0.9935942916255331, 0.3915598929194089, 0.5988563068179196, 0.4865200133904258, 0.3121071784014052, 0.1927720807773385, 0.21258065556038144, 0.7255470200647801, 0.060077141788803454, 0.6573231661823686, 0.11009353522266273, 0.22990120590614865, 0.9934335338547334, 0.12086026570769107, 0.15485221543797917, 0.305927547572593, 0.1397446822245178, 0.2794893644490356, 0.9884531766068992, 0.3478490470519527, 0.0019324947058441816, 0.003864989411688363, 0.04444737823441618, 0.6048708429292288, 0.6191287223355566, 0.09552271716034302, 0.12736362288045736, 0.10613635240038113, 0.051299236993517544, 0.7894986890311493, 0.1994094626934346, 0.008139161742589168, 0.8392213322831065, 0.06320495389579882, 0.08778465818860946, 0.007022772655088758, 0.4499174333522791, 0.4811616995572985, 0.012497706482007752, 0.04999082592803101, 0.48141856045560116, 0.0055609404673089245, 0.11757416988024583, 0.0007944200667584178, 0.39482677317893367, 0.22599703964154616, 0.27512683086796924, 0.49129791226423075, 0.4203479547661474, 0.06273850071136527, 0.025095400284546113, 0.34506175391250904, 0.14429855163614014, 0.1153172005192652, 0.8813528896829554, 0.9940460145796065, 0.5679828567013933, 0.026791644184027984, 0.010716657673611194, 0.21433315347222387, 0.1768248516145847, 0.9960985571951636, 0.437261486872657, 0.5489027175635481, 0.37697698869491125, 0.6186289045249825, 0.3235815254997889, 0.14751510721313907, 0.3045473181174484, 0.22365193674250117, 0.4091823712936474, 0.18004024336920485, 0.4009987238677744, 0.9930174500490275, 0.1608122955592401, 0.02144163940789868, 0.03216245911184802, 0.20369557437503746, 0.5789242640132644, 0.9989616004304278, 0.9964898406411873, 0.8288121923818037, 0.11524903266847566, 0.022068963702474062, 0.03187739201468476, 0.3151594630742066, 0.009269395972770784, 0.14831033556433254, 0.1761185234826449, 0.009269395972770784, 0.34296765099251897, 0.907538035229107, 0.0797835635366248, 0.3617499395183099, 0.37161584695971833, 0.2663795009180282, 0.00932769835389542, 0.9700806288051238, 0.01865539670779084, 0.543132952276858, 0.44337383859335344, 0.8868232024288168, 0.1085905962157735, 0.9958921072867181, 0.0531926941061303, 0.9346716250077182, 0.41816189414659943, 0.5737570175499853, 0.3077835796088213, 0.024821256420066235, 0.6602454207737618, 0.31451127855532895, 0.3616879703386283, 0.31451127855532895, 0.9953150480208135, 0.9922236301892693, 0.08033376014203422, 0.2169011523834924, 0.6105365770794601, 0.08836713615623765, 0.9950901318313811, 0.9916249673739176, 0.38948329294938605, 0.17901716570344453, 0.08225113018806911, 0.20562782547017275, 0.0024191508878843855, 0.14031075149729436, 0.2589749700352593, 0.23381141019377666, 0.09226638608543652, 0.0020969633201235573, 0.11533298260679566, 0.0020969633201235573, 0.2967203097974834, 0.9892528009862462, 0.0023104138365301866, 0.2564559358548507, 0.016172896855711306, 0.3280787647872865, 0.12476234717263007, 0.272628832710562, 0.0017359453476365472, 0.0034718906952730944, 0.032982961605094396, 0.9599777772430106, 0.7244915339379353, 0.11146023599045159, 0.15922890855778798, 0.7778660187670863, 0.2151544307228111, 0.9914985383601879, 0.3836419524618312, 0.10611373153199585, 0.506080873460288, 0.5925836179506558, 0.006511907889567646, 0.3972263812636264, 0.3146853631390451, 0.6730770267140687, 0.9976281727199909, 0.4235719273282875, 0.56476256977105, 0.05671117095803413, 0.9073787353285461, 0.03240638340459093, 0.004470557865650359, 0.9924638461743797, 0.004986554408156214, 0.9923243272230867, 0.20061526682869557, 0.08693328229243476, 0.6219073271689562, 0.08693328229243476, 0.8263615645011806, 0.03756188929550821, 0.13146661253427874, 0.35522542263139456, 0.6297177946647449, 0.19321348791567042, 0.202414130197369, 0.5980417483104085, 0.0991880064212555, 0.8926920577912995, 0.2853674386023446, 0.7084984682540969, 0.15171769891684084, 0.843550405977635, 0.776125073169494, 0.14427966103791875, 0.07960257160712758, 0.30891103692467753, 0.5405943146181856, 0.14587465632554217, 0.5882830159096449, 0.1840640111128337, 0.22376409194109192, 0.4912773168785788, 0.1300724392129308, 0.04061741596240218, 0.2644967444218333, 0.050771769953002734, 0.02127578931363924, 0.0009670813324381473, 0.00048354066621907364, 0.9959312733013813, 0.020305225464919904, 0.9746508223161554, 0.8678651702687028, 0.0039093025687779405, 0.1250976822008941, 0.9979120974640412, 0.4631368950406808, 0.0031083013089978576, 0.02797471178098072, 0.0046624519634967864, 0.5019906614031541, 0.2187382420630938, 0.19686441785678443, 0.021873824206309383, 0.554136879893171, 0.9951479240013762, 0.6800709069727794, 0.3110962659556331, 0.9938456794024674, 0.004644138688796576, 0.43743785055180107, 0.11763034636687088, 0.354729013262595, 0.003675948323964715, 0.08454681145118845, 0.5952694192550471, 0.22220837532931767, 0.0617777595204353, 0.05555209383232942, 0.03831178884988236, 0.02681825219491765, 0.00047889736062352946, 0.9942201861929814, 0.9925549898506575, 0.49476796833610653, 0.06646136888096954, 0.09599975505028933, 0.3396914409471776, 0.991400490655646, 0.004765871977095997, 0.9913013712359673, 0.3566390682566754, 0.002971992235472295, 0.6360063383910711, 0.7525582206934648, 0.10854205106155743, 0.1302504612738689, 0.2746639881271087, 0.6115160490377136, 0.08809976977661976, 0.002591169699312346, 0.020729357594498767, 0.002591169699312346, 0.01879101998403203, 0.9771330391696655, 0.2845586599042424, 0.0625403648141192, 0.21576425860871126, 0.08755651073976689, 0.34709902471836157, 0.30003392853534977, 0.6102384987159657, 0.0864504539847618, 0.7275431919859411, 0.2625719790625953, 0.0054702495638040685, 0.4761557867541669, 0.19248850953891855, 0.33432214814654276, 0.3961029451638614, 0.129311958043185, 0.21098266838624918, 0.21234384689196692, 0.03539064114866115, 0.014972963562895104, 0.09410864436088472, 0.1317521021052386, 0.05108754979590885, 0.13712973892586058, 0.44634385611162464, 0.13847414813101608, 0.34397965890010324, 0.6558545496361968, 0.2607589303048084, 0.7301250048534634, 0.7327358620719627, 0.11201057764157392, 0.15401454425716415, 0.9568319000319526, 0.03968427235155564, 0.9951371993403964, 0.9415292748111399, 0.0528409286883803, 0.2827059561496369, 0.518294252941001, 0.18847063743309125, 0.16842745591996525, 0.7529698029363152, 0.06935248184939745, 0.45522947660678814, 0.1498926325412595, 0.07772210576213456, 0.31088842304853825, 0.21960151211965456, 0.7157382617233186, 0.06506711470211987, 0.004323694343165905, 0.9944496989281583, 0.2598960504014848, 0.18935283672108175, 0.21162964104120902, 0.04084080792023332, 0.3007368583217181, 0.06864058749746392, 0.920292321262294, 0.0025422439813875524, 0.007626731944162657, 0.9886779758963163, 0.08032223211236073, 0.55221534577248, 0.3514097654915782, 0.11732978188790659, 0.2598016598946503, 0.30170515342604554, 0.13828152865360419, 0.1801850221849994, 0.9950557010618666, 0.0059782175756814574, 0.9923841175631218, 0.062921723105175, 0.13932667259003037, 0.04044967913904107, 0.01348322637968036, 0.737083042089193, 0.008988817586453573, 0.36822762744332665, 0.495980069617542, 0.015029699079319454, 0.12023759263455563, 0.9076735919123532, 0.08335777884909366, 0.993271247375876, 0.3135228862073598, 0.02207907649347604, 0.6491248489081957, 0.013247445896085626, 0.8716266040760875, 0.006756795380434787, 0.12162231684782616, 0.8856655927709287, 0.11070819909636609, 0.9852556069822586, 0.34521397726305986, 0.6509749285531986, 0.42093219055377057, 0.3156991429153279, 0.2547747469141243, 0.6390572675675781, 0.08462402173269298, 0.2684624137726812, 0.0029180697149204476, 0.9864105125922391, 0.33824197645536447, 0.6589886782664859, 0.36916318630633344, 0.1249048374720677, 0.102699533032589, 0.0055513261098696755, 0.21650171828491735, 0.18041809857076446, 0.9942447202447048, 0.34931717358753384, 0.0640414818243812, 0.16883663390064135, 0.3842488909462872, 0.03493171735875338, 0.0006169462214922487, 0.20297530687094983, 0.07125728858235472, 0.20328377998169594, 0.09470124499906017, 0.39361168931205465, 0.02498632197043607, 0.008637247100891482, 0.3272614459187744, 0.670358123091683, 0.22127254030085944, 0.7706388472547173, 0.019950626576576973, 0.3632676589151724, 0.1296790727477503, 0.30424705529279883, 0.05985187972973091, 0.03408232040165233, 0.08811526737988162, 0.9884228844588285, 0.721922728211921, 0.1415534761199845, 0.13683502691598504, 0.35596569530851596, 0.11649786391915067, 0.05177682840851141, 0.2616579007072987, 0.18121889942978994, 0.03328510397690019, 0.5173421885023212, 0.056695034356418754, 0.4252127576731407, 0.27401906678343, 0.7144068526853712, 0.9921941615068227, 0.9958346258141724, 0.9913683832159624, 0.8186396259582654, 0.03825418812889091, 0.1300642396382291, 0.3537471583187156, 0.1365339909300306, 0.5088994207392049, 0.14125954988192857, 0.8534431138699851, 0.2506014205185408, 0.2506014205185408, 0.4833027395714715, 0.4656855371678061, 0.0038170945669492302, 0.09924445874067998, 0.4275145914983138, 0.7559081054627673, 0.13325303141170577, 0.004845564778607483, 0.10417964274006089, 0.989696500155575, 0.006969693663067429, 0.9961580038373151, 0.0032768355389385367, 0.38612464957504705, 0.6104943783821689, 0.31424634281673225, 0.15712317140836612, 0.5185064656476083, 0.9946263735411043, 0.9846416107817397, 0.006192714533218489, 0.3114354568527251, 0.6864975124172973, 0.9898725323317867, 0.4098101190972532, 0.5793867201030131, 0.3427114001957049, 0.5374337866705373, 0.1168334318848994, 0.010173919189992057, 0.3255654140797458, 0.6613047473494837, 0.15308239402210175, 0.5705798322641974, 0.006958290637368261, 0.2644150442199939, 0.06173183471841682, 0.9332400895666543, 0.9938953628850636, 0.21586056069510692, 0.2252458024644594, 0.1126229012322297, 0.1407786265402871, 0.3003277366192792, 0.13134914321669144, 0.007099953687388726, 0.08164946740497035, 0.7809949056127599, 0.3948554739593427, 0.014692296705463912, 0.42974967863481944, 0.14508642996645613, 0.012855759617280924, 0.005509611264548967, 0.4817743722816015, 0.5103946320211026, 0.0047700432899168465, 0.25578790738254586, 0.7343588308724703, 0.8077144909528607, 0.06912871769416376, 0.1200656675740739, 0.7515589813819797, 0.24346276861669766, 0.8374916365178506, 0.1530898690408974, 0.7020432973822025, 0.05480635407072956, 0.23749420097316143, 0.821065429931401, 0.07861264754662349, 0.0960821247792065, 0.00436736930814575, 0.6793233782130575, 0.1972724386449218, 0.11360436155427404, 0.009211164450346544, 0.4629812227020508, 0.1256663318762709, 0.41006908296467354, 0.3953210999922957, 0.0030409315384022743, 0.2706429069178024, 0.09122794615206824, 0.22806986538017057, 0.009122794615206823, 0.11216290527705775, 0.026986563675683067, 0.0016866602297301917, 0.13577614849328043, 0.10878958481759736, 0.6105710031623294, 0.004216650574325479, 0.1794195827330967, 0.32295524891957406, 0.02870713323729547, 0.13277049122249154, 0.3301320322288979, 0.003588391654661934, 0.9926067466481103, 0.8265702741739187, 0.1612820047168622, 0.994804484926202, 0.6476228906531346, 0.14468170961399815, 0.20668815659142595, 0.10317961071680763, 0.7532111582326957, 0.12897451339600954, 0.010317961071680763, 0.9590056376790316, 0.03648391012909359, 0.997283229220379, 0.5097831591340836, 0.036413082795291686, 0.44606026424232315, 0.20712470752283696, 0.7303871265278987, 0.054506501979693936, 0.0657832310398738, 0.37658516319927754, 0.060062950079884776, 0.37563178303927935, 0.12107928031976772, 0.3127945745604795, 0.0019797124972182247, 0.15045814978858507, 0.5325426617517024, 0.35054824624962355, 0.4302183022154471, 0.21776481963991767, 0.02700279741041248, 0.718274411116972, 0.2268234982474648, 0.021602237928329982, 0.5349394190602934, 0.12878171199599658, 0.331860565528145, 0.5421178120449912, 0.15357816951395634, 0.03675374996915194, 0.015751607129636545, 0.2520257140741847, 0.9888720914671397, 0.9105208424337782, 0.07975365043215575, 0.0044460502637160846, 0.9914692088086869, 0.0022230251318580423, 0.12541733278952752, 0.8719490755843341, 0.5984843225818373, 0.17197825361547048, 0.22701129477242102, 0.4232682970320915, 0.23674328478066134, 0.33000579090637644, 0.9931359006062164, 0.37948262339161193, 0.1989012370880173, 0.18058138630359466, 0.1203875908690631, 0.11777046932843128, 0.49482804198489716, 0.005655177622684539, 0.4976556307962395, 0.9923824642861434, 0.32480691362970393, 0.27428139373175, 0.137140696865875, 0.2670634623177566, 0.9974758182318382, 0.27675355023090686, 0.003008190763379422, 0.6166791064927816, 0.10227848595490036, 0.9980125073486609, 0.24954552426943694, 0.7436456623229221, 0.26285357439944673, 0.023895779490858794, 0.3265756530417368, 0.3743672120234544], \"Term\": [\"10\", \"30\", \"able\", \"able\", \"absolutely\", \"absolutely\", \"actual\", \"actual\", \"actually\", \"actually\", \"actually\", \"actually\", \"actually\", \"adult\", \"adult\", \"adult\", \"ago\", \"agree\", \"agree\", \"amazing\", \"amazing\", \"american\", \"author\", \"author\", \"author\", \"author\", \"author\", \"authors\", \"away\", \"away\", \"away\", \"bad\", \"bad\", \"based\", \"based\", \"based\", \"based\", \"basically\", \"basically\", \"beautiful\", \"bed\", \"believe\", \"believe\", \"book\", \"book\", \"book\", \"book\", \"book\", \"book\", \"book\", \"book\", \"books\", \"books\", \"books\", \"books\", \"books\", \"books\", \"boring\", \"boring\", \"buy\", \"called\", \"came\", \"came\", \"came\", \"came\", \"care\", \"care\", \"character\", \"character\", \"character\", \"characters\", \"characters\", \"characters\", \"characters\", \"children\", \"children\", \"clancy\", \"clancy\", \"clancy\", \"clancy\", \"comment\", \"completely\", \"completely\", \"completely\", \"cool\", \"cool\", \"copy\", \"couldn\", \"couple\", \"couple\", \"course\", \"course\", \"course\", \"dark\", \"dark\", \"dark\", \"day\", \"day\", \"day\", \"days\", \"definitely\", \"definitely\", \"definitely\", \"definitely\", \"definitely\", \"depressing\", \"did\", \"did\", \"did\", \"did\", \"did\", \"didn\", \"didn\", \"didn\", \"didn\", \"didn\", \"does\", \"does\", \"does\", \"doesn\", \"doesn\", \"doesn\", \"doesn\", \"doing\", \"doing\", \"doing\", \"doing\", \"don\", \"don\", \"don\", \"don\", \"don\", \"early\", \"early\", \"early\", \"end\", \"end\", \"end\", \"end\", \"end\", \"ending\", \"ending\", \"english\", \"enjoy\", \"enjoy\", \"enjoy\", \"enjoy\", \"enjoy\", \"enjoyed\", \"entire\", \"entire\", \"example\", \"example\", \"experience\", \"experience\", \"experience\", \"experience\", \"family\", \"family\", \"family\", \"fantasy\", \"far\", \"far\", \"far\", \"far\", \"far\", \"favorite\", \"favourite\", \"feel\", \"feel\", \"feel\", \"feel\", \"feeling\", \"feeling\", \"feeling\", \"feeling\", \"feeling\", \"feeling\", \"feels\", \"feels\", \"felt\", \"felt\", \"felt\", \"fiction\", \"fiction\", \"fiction\", \"fine\", \"fine\", \"finish\", \"finish\", \"finished\", \"free\", \"free\", \"friends\", \"friends\", \"fun\", \"fun\", \"fun\", \"funny\", \"funny\", \"funny\", \"game\", \"games\", \"gave\", \"gave\", \"gave\", \"gave\", \"genre\", \"god\", \"going\", \"going\", \"going\", \"going\", \"going\", \"going\", \"good\", \"good\", \"good\", \"good\", \"good\", \"good\", \"good\", \"goodreads\", \"got\", \"got\", \"got\", \"got\", \"got\", \"got\", \"great\", \"great\", \"great\", \"great\", \"guess\", \"guess\", \"guess\", \"guy\", \"guy\", \"half\", \"hard\", \"hard\", \"hard\", \"hate\", \"hate\", \"hate\", \"hated\", \"hated\", \"haven\", \"heard\", \"heard\", \"heart\", \"heart\", \"heart\", \"help\", \"help\", \"high\", \"high\", \"history\", \"history\", \"history\", \"history\", \"home\", \"home\", \"home\", \"honestly\", \"honestly\", \"hope\", \"hope\", \"hope\", \"hours\", \"hours\", \"house\", \"house\", \"human\", \"human\", \"idea\", \"idea\", \"idea\", \"instead\", \"instead\", \"instead\", \"isn\", \"isn\", \"isn\", \"just\", \"just\", \"just\", \"just\", \"just\", \"just\", \"just\", \"just\", \"kid\", \"kids\", \"kids\", \"kind\", \"kind\", \"kind\", \"king\", \"know\", \"know\", \"know\", \"know\", \"know\", \"later\", \"later\", \"later\", \"later\", \"left\", \"let\", \"let\", \"library\", \"library\", \"life\", \"life\", \"life\", \"life\", \"life\", \"like\", \"like\", \"like\", \"like\", \"like\", \"like\", \"like\", \"liked\", \"list\", \"literally\", \"literally\", \"literally\", \"literally\", \"literary\", \"literature\", \"literature\", \"little\", \"little\", \"little\", \"live\", \"live\", \"live\", \"ll\", \"ll\", \"ll\", \"ll\", \"ll\", \"ll\", \"lol\", \"lol\", \"long\", \"long\", \"long\", \"long\", \"long\", \"look\", \"look\", \"look\", \"looking\", \"looking\", \"looking\", \"lost\", \"lost\", \"lost\", \"lot\", \"lot\", \"lot\", \"lot\", \"lot\", \"lot\", \"love\", \"love\", \"love\", \"love\", \"love\", \"love\", \"loved\", \"loved\", \"main\", \"main\", \"make\", \"make\", \"make\", \"makes\", \"makes\", \"man\", \"mean\", \"mean\", \"media\", \"media\", \"media\", \"middle\", \"middle\", \"middle\", \"mind\", \"mind\", \"mind\", \"mind\", \"modern\", \"modern\", \"modern\", \"movie\", \"movie\", \"need\", \"need\", \"need\", \"need\", \"need\", \"new\", \"new\", \"new\", \"new\", \"nice\", \"night\", \"night\", \"night\", \"novel\", \"novel\", \"novel\", \"novel\", \"novel\", \"novels\", \"oh\", \"oh\", \"old\", \"old\", \"old\", \"old\", \"old\", \"old\", \"ones\", \"ones\", \"ones\", \"ones\", \"opinion\", \"opinion\", \"page\", \"pages\", \"pages\", \"pages\", \"pages\", \"people\", \"people\", \"people\", \"person\", \"person\", \"physical\", \"pick\", \"pick\", \"plot\", \"plot\", \"plot\", \"point\", \"point\", \"point\", \"point\", \"popular\", \"post\", \"post\", \"pretty\", \"pretty\", \"pretty\", \"pretty\", \"pretty\", \"pretty\", \"prince\", \"quite\", \"quite\", \"quite\", \"quite\", \"quite\", \"read\", \"read\", \"read\", \"read\", \"read\", \"read\", \"read\", \"read\", \"reader\", \"reader\", \"readers\", \"readers\", \"reading\", \"reading\", \"reading\", \"reading\", \"reading\", \"reading\", \"reading\", \"reads\", \"real\", \"real\", \"real\", \"really\", \"really\", \"really\", \"really\", \"really\", \"really\", \"reason\", \"reason\", \"reason\", \"recently\", \"recently\", \"recommend\", \"red\", \"reread\", \"reviews\", \"reviews\", \"reviews\", \"right\", \"right\", \"right\", \"romance\", \"romance\", \"sad\", \"sad\", \"sad\", \"said\", \"said\", \"said\", \"said\", \"say\", \"say\", \"say\", \"say\", \"saying\", \"saying\", \"school\", \"school\", \"second\", \"second\", \"seen\", \"seen\", \"seen\", \"self\", \"sense\", \"sense\", \"series\", \"series\", \"sex\", \"short\", \"short\", \"similar\", \"similar\", \"similar\", \"stand\", \"stand\", \"stand\", \"start\", \"start\", \"start\", \"start\", \"started\", \"started\", \"stephen\", \"stop\", \"stop\", \"stop\", \"stop\", \"stop\", \"stories\", \"stories\", \"stories\", \"stories\", \"story\", \"story\", \"story\", \"story\", \"story\", \"story\", \"stuff\", \"stuff\", \"stuff\", \"style\", \"style\", \"sure\", \"sure\", \"sure\", \"takes\", \"takes\", \"thank\", \"thank\", \"thing\", \"thing\", \"thing\", \"things\", \"things\", \"things\", \"things\", \"think\", \"think\", \"think\", \"think\", \"thinking\", \"thinking\", \"thinking\", \"thought\", \"thought\", \"thought\", \"thought\", \"thought\", \"thought\", \"time\", \"time\", \"time\", \"time\", \"time\", \"time\", \"time\", \"times\", \"times\", \"times\", \"times\", \"times\", \"times\", \"took\", \"totally\", \"totally\", \"tried\", \"true\", \"true\", \"true\", \"try\", \"try\", \"try\", \"try\", \"use\", \"use\", \"used\", \"using\", \"using\", \"using\", \"usually\", \"usually\", \"usually\", \"ve\", \"ve\", \"ve\", \"ve\", \"ve\", \"want\", \"want\", \"want\", \"want\", \"wanted\", \"wanted\", \"wanted\", \"war\", \"war\", \"war\", \"war\", \"wasn\", \"wasn\", \"wasn\", \"way\", \"way\", \"way\", \"way\", \"way\", \"woman\", \"women\", \"women\", \"work\", \"work\", \"work\", \"works\", \"works\", \"world\", \"world\", \"world\", \"worth\", \"worth\", \"worth\", \"writer\", \"writing\", \"writing\", \"writing\", \"writing\", \"writing\", \"written\", \"written\", \"written\", \"wrong\", \"wrote\", \"wrote\", \"wrote\", \"wrote\", \"yeah\", \"year\", \"year\", \"year\", \"year\", \"years\", \"yes\", \"yes\", \"young\", \"young\", \"young\", \"young\"]}, \"R\": 30, \"lambda.step\": 0.01, \"plot.opts\": {\"xlab\": \"PC1\", \"ylab\": \"PC2\"}, \"topic.order\": [8, 4, 7, 2, 6, 1, 5, 3]};\n",
       "\n",
       "function LDAvis_load_lib(url, callback){\n",
       "  var s = document.createElement('script');\n",
       "  s.src = url;\n",
       "  s.async = true;\n",
       "  s.onreadystatechange = s.onload = callback;\n",
       "  s.onerror = function(){console.warn(\"failed to load library \" + url);};\n",
       "  document.getElementsByTagName(\"head\")[0].appendChild(s);\n",
       "}\n",
       "\n",
       "if(typeof(LDAvis) !== \"undefined\"){\n",
       "   // already loaded: just create the visualization\n",
       "   !function(LDAvis){\n",
       "       new LDAvis(\"#\" + \"ldavis_el2885618589774000803309719895\", ldavis_el2885618589774000803309719895_data);\n",
       "   }(LDAvis);\n",
       "}else if(typeof define === \"function\" && define.amd){\n",
       "   // require.js is available: use it to load d3/LDAvis\n",
       "   require.config({paths: {d3: \"https://d3js.org/d3.v5\"}});\n",
       "   require([\"d3\"], function(d3){\n",
       "      window.d3 = d3;\n",
       "      LDAvis_load_lib(\"https://cdn.jsdelivr.net/gh/bmabey/pyLDAvis@3.4.0/pyLDAvis/js/ldavis.v3.0.0.js\", function(){\n",
       "        new LDAvis(\"#\" + \"ldavis_el2885618589774000803309719895\", ldavis_el2885618589774000803309719895_data);\n",
       "      });\n",
       "    });\n",
       "}else{\n",
       "    // require.js not available: dynamically load d3 & LDAvis\n",
       "    LDAvis_load_lib(\"https://d3js.org/d3.v5.js\", function(){\n",
       "         LDAvis_load_lib(\"https://cdn.jsdelivr.net/gh/bmabey/pyLDAvis@3.4.0/pyLDAvis/js/ldavis.v3.0.0.js\", function(){\n",
       "                 new LDAvis(\"#\" + \"ldavis_el2885618589774000803309719895\", ldavis_el2885618589774000803309719895_data);\n",
       "            })\n",
       "         });\n",
       "}\n",
       "</script>"
      ],
      "text/plain": [
       "PreparedData(topic_coordinates=              x         y  topics  cluster       Freq\n",
       "topic                                                \n",
       "7     -0.100713  0.019080       1        1  29.796953\n",
       "3     -0.110578 -0.043859       2        1  15.741436\n",
       "6     -0.104101  0.017118       3        1  13.865544\n",
       "1     -0.082171 -0.008646       4        1  13.466857\n",
       "5     -0.040202  0.004960       5        1  10.236964\n",
       "0     -0.097243 -0.209420       6        1   6.918451\n",
       "4      0.107701  0.364064       7        1   5.194672\n",
       "2      0.427306 -0.143297       8        1   4.779125, topic_info=        Term         Freq        Total Category  logprob  loglift\n",
       "195     read  3241.000000  3241.000000  Default  30.0000  30.0000\n",
       "248     time  1185.000000  1185.000000  Default  29.0000  29.0000\n",
       "60       don  1258.000000  1258.000000  Default  28.0000  28.0000\n",
       "28     books  2535.000000  2535.000000  Default  27.0000  27.0000\n",
       "27      book  3368.000000  3368.000000  Default  26.0000  26.0000\n",
       "..       ...          ...          ...      ...      ...      ...\n",
       "153     love   102.903570   743.821149   Topic8  -3.6026   1.0629\n",
       "198  reading   106.078181  1202.969737   Topic8  -3.5722   0.6125\n",
       "49      dark    12.892220   216.388457   Topic8  -5.6797   0.2205\n",
       "55      didn    29.124132   565.310552   Topic8  -4.8648   0.0751\n",
       "195     read    28.315921  3241.773643   Topic8  -4.8929  -1.6995\n",
       "\n",
       "[345 rows x 6 columns], token_table=      Topic      Freq        Term\n",
       "term                             \n",
       "0         2  0.991758          10\n",
       "2         2  0.989550          30\n",
       "3         1  0.845839        able\n",
       "3         3  0.149648        able\n",
       "4         5  0.060004  absolutely\n",
       "...     ...       ...         ...\n",
       "285       3  0.743646         yes\n",
       "286       1  0.262854       young\n",
       "286       2  0.023896       young\n",
       "286       3  0.326576       young\n",
       "286       4  0.374367       young\n",
       "\n",
       "[699 rows x 3 columns], R=30, lambda_step=0.01, plot_opts={'xlab': 'PC1', 'ylab': 'PC2'}, topic_order=[8, 4, 7, 2, 6, 1, 5, 3])"
      ]
     },
     "execution_count": 85,
     "metadata": {},
     "output_type": "execute_result"
    }
   ],
   "source": [
    "import pyLDAvis\n",
    "import pyLDAvis.lda_model\n",
    "pyLDAvis.enable_notebook()\n",
    "pyLDAvis.lda_model.prepare(lda, vectors, vectorizer)"
   ]
  }
 ],
 "metadata": {
  "kernelspec": {
   "display_name": "base",
   "language": "python",
   "name": "python3"
  },
  "language_info": {
   "codemirror_mode": {
    "name": "ipython",
    "version": 3
   },
   "file_extension": ".py",
   "mimetype": "text/x-python",
   "name": "python",
   "nbconvert_exporter": "python",
   "pygments_lexer": "ipython3",
   "version": "3.11.5"
  }
 },
 "nbformat": 4,
 "nbformat_minor": 2
}
