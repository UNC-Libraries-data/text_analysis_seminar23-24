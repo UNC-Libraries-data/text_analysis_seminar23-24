{
 "cells": [
  {
   "cell_type": "code",
   "execution_count": 2,
   "metadata": {},
   "outputs": [],
   "source": [
    "import pandas as pd\n",
    "import seaborn as sns\n",
    "from nltk.sentiment.vader import SentimentIntensityAnalyzer"
   ]
  },
  {
   "cell_type": "markdown",
   "metadata": {},
   "source": [
    "## Sentiment Analysis with VADER\n",
    "\n",
    "### Key Terms\n",
    "\n",
    "* Lexicon: A lexicon is a list of word mapped to a sentiment or emotion.  In the simplest case, positive vs. negative.\n",
    "    + Difficult and time consuming to create (usually by lots of human reviewers)\n",
    "    + Example: (LIWC (Linguistic Inquiry and Word Count))[https://www.liwc.app/]\n",
    "* Valence: A scoring of direction and intensity (e.g. \"wonderful\" vs \"alright\")"
   ]
  },
  {
   "cell_type": "markdown",
   "metadata": {},
   "source": [
    "### VADER\n",
    "\n",
    "[VADER paper](https://ojs.aaai.org/index.php/ICWSM/article/view/14550)\n",
    "\n",
    "VADER (Valence  Aware  Dictionary  for sEntiment Reasoning) uses a valence lexicon (derived from previous work with crowdsourced additions) with a few rule-based modifiers (see the paper for more details).  \n",
    "\n",
    "1. Punctuation, especially !\n",
    "2. Capitalization\n",
    "3. Degree modifiers (i.e. adverbs)\n",
    "4. \"But\"...\n",
    "5. Negation\n",
    "\n",
    "VADER was specifically created for social media posts and was tested against tweets, movie reviews, technical reviews, and opinion news articles.\n",
    "\n",
    "VADER is free and available as a module in NLTK."
   ]
  },
  {
   "cell_type": "code",
   "execution_count": 3,
   "metadata": {},
   "outputs": [],
   "source": [
    "#import nltk\n",
    "#nltk.download('vader_lexicon')\n",
    "sid = SentimentIntensityAnalyzer()"
   ]
  },
  {
   "cell_type": "markdown",
   "metadata": {},
   "source": [
    "#### VADER Lexicon\n",
    "\n",
    "Let's look at a few words in the VADER lexicon.\n",
    "\n",
    "Scores range from -4 (most negative) to +4 (most positive)."
   ]
  },
  {
   "cell_type": "code",
   "execution_count": 4,
   "metadata": {},
   "outputs": [
    {
     "data": {
      "text/plain": [
       "7502"
      ]
     },
     "execution_count": 4,
     "metadata": {},
     "output_type": "execute_result"
    }
   ],
   "source": [
    "len(sid.lexicon) #How many words does the lexicon cover?"
   ]
  },
  {
   "cell_type": "code",
   "execution_count": 5,
   "metadata": {},
   "outputs": [
    {
     "data": {
      "text/plain": [
       "-1.9"
      ]
     },
     "execution_count": 5,
     "metadata": {},
     "output_type": "execute_result"
    }
   ],
   "source": [
    "sid.lexicon[\":(\"]"
   ]
  },
  {
   "cell_type": "code",
   "execution_count": 6,
   "metadata": {},
   "outputs": [
    {
     "data": {
      "text/plain": [
       "2.0"
      ]
     },
     "execution_count": 6,
     "metadata": {},
     "output_type": "execute_result"
    }
   ],
   "source": [
    "sid.lexicon[\":)\"]"
   ]
  },
  {
   "cell_type": "markdown",
   "metadata": {},
   "source": [
    "#### Rule-based modifiers\n",
    "\n",
    "Here's a simple example of how the rule based modifiers can change the overall sentiment.  Let's look at the word \"good\" in the lexicon."
   ]
  },
  {
   "cell_type": "code",
   "execution_count": 7,
   "metadata": {},
   "outputs": [
    {
     "data": {
      "text/plain": [
       "1.9"
      ]
     },
     "execution_count": 7,
     "metadata": {},
     "output_type": "execute_result"
    }
   ],
   "source": [
    "sid.lexicon[\"good\"]"
   ]
  },
  {
   "cell_type": "markdown",
   "metadata": {},
   "source": [
    "The `polarity_scores` method provides four different values:\n",
    "* `neg` (negative), `neu` (neutral), and `pos` (positive) are standardized scores from 0 to 1 that add up to 1.\n",
    "* `compound` is a normalized score that places the entire text on a -1 to 1 negative to positive scale"
   ]
  },
  {
   "cell_type": "code",
   "execution_count": 8,
   "metadata": {},
   "outputs": [
    {
     "data": {
      "text/plain": [
       "{'neg': 0.0, 'neu': 0.0, 'pos': 1.0, 'compound': 0.4404}"
      ]
     },
     "execution_count": 8,
     "metadata": {},
     "output_type": "execute_result"
    }
   ],
   "source": [
    "sid.polarity_scores(\"good\")"
   ]
  },
  {
   "cell_type": "markdown",
   "metadata": {},
   "source": [
    "Adding \"that was\" increases the neutrality, but doesn't change the overall score."
   ]
  },
  {
   "cell_type": "code",
   "execution_count": 9,
   "metadata": {},
   "outputs": [
    {
     "data": {
      "text/plain": [
       "{'neg': 0.0, 'neu': 0.408, 'pos': 0.592, 'compound': 0.4404}"
      ]
     },
     "execution_count": 9,
     "metadata": {},
     "output_type": "execute_result"
    }
   ],
   "source": [
    "sid.polarity_scores(\"that was good\")"
   ]
  },
  {
   "cell_type": "markdown",
   "metadata": {},
   "source": [
    "Now let's explore the effects of some modifiers!"
   ]
  },
  {
   "cell_type": "code",
   "execution_count": 10,
   "metadata": {},
   "outputs": [
    {
     "data": {
      "text/plain": [
       "{'neg': 0.0, 'neu': 0.385, 'pos': 0.615, 'compound': 0.4926}"
      ]
     },
     "execution_count": 10,
     "metadata": {},
     "output_type": "execute_result"
    }
   ],
   "source": [
    "sid.polarity_scores(\"that was good!\")"
   ]
  },
  {
   "cell_type": "code",
   "execution_count": 11,
   "metadata": {},
   "outputs": [
    {
     "data": {
      "text/html": [
       "<div>\n",
       "<style scoped>\n",
       "    .dataframe tbody tr th:only-of-type {\n",
       "        vertical-align: middle;\n",
       "    }\n",
       "\n",
       "    .dataframe tbody tr th {\n",
       "        vertical-align: top;\n",
       "    }\n",
       "\n",
       "    .dataframe thead th {\n",
       "        text-align: right;\n",
       "    }\n",
       "</style>\n",
       "<table border=\"1\" class=\"dataframe\">\n",
       "  <thead>\n",
       "    <tr style=\"text-align: right;\">\n",
       "      <th></th>\n",
       "      <th>input</th>\n",
       "      <th>neg</th>\n",
       "      <th>neu</th>\n",
       "      <th>pos</th>\n",
       "      <th>compound</th>\n",
       "    </tr>\n",
       "  </thead>\n",
       "  <tbody>\n",
       "    <tr>\n",
       "      <th>0</th>\n",
       "      <td>that was good</td>\n",
       "      <td>0.000</td>\n",
       "      <td>0.408</td>\n",
       "      <td>0.592</td>\n",
       "      <td>0.4404</td>\n",
       "    </tr>\n",
       "    <tr>\n",
       "      <th>1</th>\n",
       "      <td>that was GOOD</td>\n",
       "      <td>0.000</td>\n",
       "      <td>0.355</td>\n",
       "      <td>0.645</td>\n",
       "      <td>0.5622</td>\n",
       "    </tr>\n",
       "    <tr>\n",
       "      <th>2</th>\n",
       "      <td>that was good!</td>\n",
       "      <td>0.000</td>\n",
       "      <td>0.385</td>\n",
       "      <td>0.615</td>\n",
       "      <td>0.4926</td>\n",
       "    </tr>\n",
       "    <tr>\n",
       "      <th>3</th>\n",
       "      <td>that was good!!</td>\n",
       "      <td>0.000</td>\n",
       "      <td>0.365</td>\n",
       "      <td>0.635</td>\n",
       "      <td>0.5399</td>\n",
       "    </tr>\n",
       "    <tr>\n",
       "      <th>4</th>\n",
       "      <td>that was good!!!</td>\n",
       "      <td>0.000</td>\n",
       "      <td>0.346</td>\n",
       "      <td>0.654</td>\n",
       "      <td>0.5826</td>\n",
       "    </tr>\n",
       "    <tr>\n",
       "      <th>5</th>\n",
       "      <td>that was extremely good</td>\n",
       "      <td>0.000</td>\n",
       "      <td>0.484</td>\n",
       "      <td>0.516</td>\n",
       "      <td>0.4927</td>\n",
       "    </tr>\n",
       "    <tr>\n",
       "      <th>6</th>\n",
       "      <td>that was good, but not great</td>\n",
       "      <td>0.427</td>\n",
       "      <td>0.385</td>\n",
       "      <td>0.188</td>\n",
       "      <td>-0.5409</td>\n",
       "    </tr>\n",
       "  </tbody>\n",
       "</table>\n",
       "</div>"
      ],
      "text/plain": [
       "                          input    neg    neu    pos  compound\n",
       "0                 that was good  0.000  0.408  0.592    0.4404\n",
       "1                 that was GOOD  0.000  0.355  0.645    0.5622\n",
       "2                that was good!  0.000  0.385  0.615    0.4926\n",
       "3               that was good!!  0.000  0.365  0.635    0.5399\n",
       "4              that was good!!!  0.000  0.346  0.654    0.5826\n",
       "5       that was extremely good  0.000  0.484  0.516    0.4927\n",
       "6  that was good, but not great  0.427  0.385  0.188   -0.5409"
      ]
     },
     "execution_count": 11,
     "metadata": {},
     "output_type": "execute_result"
    }
   ],
   "source": [
    "input_text = [\"that was good\", \"that was GOOD\" ,\"that was good!\", \"that was good!!\", \n",
    "              \"that was good!!!\", \"that was extremely good\", \"that was good, but not great\"]\n",
    "pd.DataFrame([{'input':text} | sid.polarity_scores(text) for text in input_text])"
   ]
  },
  {
   "cell_type": "markdown",
   "metadata": {},
   "source": [
    "### VADER Example: Reddit movies data\n",
    "\n",
    "The following were the top 200 posts alongside their comments from the movies subreddit on February 19, 2024.  These were pulled using the `praw` library, similarly to previous reddit data."
   ]
  },
  {
   "cell_type": "code",
   "execution_count": 12,
   "metadata": {},
   "outputs": [],
   "source": [
    "df = pd.read_csv(\"reddit_movies_021924.csv\", encoding='utf-8').drop(columns='comments')"
   ]
  },
  {
   "cell_type": "code",
   "execution_count": 13,
   "metadata": {},
   "outputs": [
    {
     "data": {
      "text/html": [
       "<div>\n",
       "<style scoped>\n",
       "    .dataframe tbody tr th:only-of-type {\n",
       "        vertical-align: middle;\n",
       "    }\n",
       "\n",
       "    .dataframe tbody tr th {\n",
       "        vertical-align: top;\n",
       "    }\n",
       "\n",
       "    .dataframe thead th {\n",
       "        text-align: right;\n",
       "    }\n",
       "</style>\n",
       "<table border=\"1\" class=\"dataframe\">\n",
       "  <thead>\n",
       "    <tr style=\"text-align: right;\">\n",
       "      <th></th>\n",
       "      <th>id</th>\n",
       "      <th>author</th>\n",
       "      <th>created</th>\n",
       "      <th>title</th>\n",
       "      <th>content</th>\n",
       "      <th>subreddit</th>\n",
       "      <th>url</th>\n",
       "      <th>num_comments</th>\n",
       "      <th>score</th>\n",
       "      <th>upvote_ratio</th>\n",
       "      <th>comments_text</th>\n",
       "      <th>comment_blob</th>\n",
       "    </tr>\n",
       "  </thead>\n",
       "  <tbody>\n",
       "    <tr>\n",
       "      <th>109</th>\n",
       "      <td>1auduye</td>\n",
       "      <td>hdksjdms-n</td>\n",
       "      <td>2024-02-19 03:53:46+00:00</td>\n",
       "      <td>need recommendations for movies like the bridg...</td>\n",
       "      <td>think the never-ending story, narnia, the brid...</td>\n",
       "      <td>movies</td>\n",
       "      <td>https://www.reddit.com/r/movies/comments/1audu...</td>\n",
       "      <td>9</td>\n",
       "      <td>0</td>\n",
       "      <td>0.44</td>\n",
       "      <td>['[Mirrormask](https://www.youtube.com/watch?v...</td>\n",
       "      <td>[Mirrormask](https://www.youtube.com/watch?v=2...</td>\n",
       "    </tr>\n",
       "    <tr>\n",
       "      <th>117</th>\n",
       "      <td>1au6nmb</td>\n",
       "      <td>NotSoSnarky</td>\n",
       "      <td>2024-02-18 22:18:33+00:00</td>\n",
       "      <td>Movies set in Italy?</td>\n",
       "      <td>I noticed that I've been lacking the Italian c...</td>\n",
       "      <td>movies</td>\n",
       "      <td>https://www.reddit.com/r/movies/comments/1au6n...</td>\n",
       "      <td>34</td>\n",
       "      <td>0</td>\n",
       "      <td>0.50</td>\n",
       "      <td>[\"Don't Look Now (1973)\\n\\nOne of the scariest...</td>\n",
       "      <td>Don't Look Now (1973)\\n\\nOne of the scariest m...</td>\n",
       "    </tr>\n",
       "    <tr>\n",
       "      <th>17</th>\n",
       "      <td>1aup0d8</td>\n",
       "      <td>Specialist_Jew101</td>\n",
       "      <td>2024-02-19 14:48:10+00:00</td>\n",
       "      <td>The Man from Earth (2007)</td>\n",
       "      <td>First time watching this and boy did I enjoyed...</td>\n",
       "      <td>movies</td>\n",
       "      <td>https://www.reddit.com/r/movies/comments/1aup0...</td>\n",
       "      <td>12</td>\n",
       "      <td>32</td>\n",
       "      <td>0.82</td>\n",
       "      <td>[\"It's a little campy in spots but I really en...</td>\n",
       "      <td>It's a little campy in spots but I really enjo...</td>\n",
       "    </tr>\n",
       "  </tbody>\n",
       "</table>\n",
       "</div>"
      ],
      "text/plain": [
       "          id             author                    created  \\\n",
       "109  1auduye         hdksjdms-n  2024-02-19 03:53:46+00:00   \n",
       "117  1au6nmb        NotSoSnarky  2024-02-18 22:18:33+00:00   \n",
       "17   1aup0d8  Specialist_Jew101  2024-02-19 14:48:10+00:00   \n",
       "\n",
       "                                                 title  \\\n",
       "109  need recommendations for movies like the bridg...   \n",
       "117                               Movies set in Italy?   \n",
       "17                           The Man from Earth (2007)   \n",
       "\n",
       "                                               content subreddit  \\\n",
       "109  think the never-ending story, narnia, the brid...    movies   \n",
       "117  I noticed that I've been lacking the Italian c...    movies   \n",
       "17   First time watching this and boy did I enjoyed...    movies   \n",
       "\n",
       "                                                   url  num_comments  score  \\\n",
       "109  https://www.reddit.com/r/movies/comments/1audu...             9      0   \n",
       "117  https://www.reddit.com/r/movies/comments/1au6n...            34      0   \n",
       "17   https://www.reddit.com/r/movies/comments/1aup0...            12     32   \n",
       "\n",
       "     upvote_ratio                                      comments_text  \\\n",
       "109          0.44  ['[Mirrormask](https://www.youtube.com/watch?v...   \n",
       "117          0.50  [\"Don't Look Now (1973)\\n\\nOne of the scariest...   \n",
       "17           0.82  [\"It's a little campy in spots but I really en...   \n",
       "\n",
       "                                          comment_blob  \n",
       "109  [Mirrormask](https://www.youtube.com/watch?v=2...  \n",
       "117  Don't Look Now (1973)\\n\\nOne of the scariest m...  \n",
       "17   It's a little campy in spots but I really enjo...  "
      ]
     },
     "execution_count": 13,
     "metadata": {},
     "output_type": "execute_result"
    }
   ],
   "source": [
    "df.sample(3)"
   ]
  },
  {
   "cell_type": "code",
   "execution_count": 14,
   "metadata": {},
   "outputs": [],
   "source": [
    "df[\"comments_list\"] = df.comments_text.apply(ast.literal_eval)\n",
    "exploded = df.explode(\"comments_list\", ignore_index=True).drop(columns = ['comment_blob', 'comments_text'])\n",
    "exploded.rename(columns= {'comments_list':'comment'}, inplace=True)"
   ]
  },
  {
   "cell_type": "code",
   "execution_count": 15,
   "metadata": {},
   "outputs": [
    {
     "data": {
      "text/html": [
       "<div>\n",
       "<style scoped>\n",
       "    .dataframe tbody tr th:only-of-type {\n",
       "        vertical-align: middle;\n",
       "    }\n",
       "\n",
       "    .dataframe tbody tr th {\n",
       "        vertical-align: top;\n",
       "    }\n",
       "\n",
       "    .dataframe thead th {\n",
       "        text-align: right;\n",
       "    }\n",
       "</style>\n",
       "<table border=\"1\" class=\"dataframe\">\n",
       "  <thead>\n",
       "    <tr style=\"text-align: right;\">\n",
       "      <th></th>\n",
       "      <th>id</th>\n",
       "      <th>author</th>\n",
       "      <th>created</th>\n",
       "      <th>title</th>\n",
       "      <th>content</th>\n",
       "      <th>subreddit</th>\n",
       "      <th>url</th>\n",
       "      <th>num_comments</th>\n",
       "      <th>score</th>\n",
       "      <th>upvote_ratio</th>\n",
       "      <th>comment</th>\n",
       "    </tr>\n",
       "  </thead>\n",
       "  <tbody>\n",
       "    <tr>\n",
       "      <th>5739</th>\n",
       "      <td>1atxxn3</td>\n",
       "      <td>Either-Account-1924</td>\n",
       "      <td>2024-02-18 16:25:53+00:00</td>\n",
       "      <td>Do you think movies will be structured differe...</td>\n",
       "      <td>I ask because I went on a field trip with midd...</td>\n",
       "      <td>movies</td>\n",
       "      <td>https://www.reddit.com/r/movies/comments/1atxx...</td>\n",
       "      <td>288</td>\n",
       "      <td>275</td>\n",
       "      <td>0.81</td>\n",
       "      <td>That may be. I just see it with younger genera...</td>\n",
       "    </tr>\n",
       "    <tr>\n",
       "      <th>15691</th>\n",
       "      <td>1asp10e</td>\n",
       "      <td>Electrical_Stop_4144</td>\n",
       "      <td>2024-02-17 00:57:52+00:00</td>\n",
       "      <td>Perfect movies; what are yours?</td>\n",
       "      <td>There are some films that are just weirdly bri...</td>\n",
       "      <td>movies</td>\n",
       "      <td>https://www.reddit.com/r/movies/comments/1asp1...</td>\n",
       "      <td>1488</td>\n",
       "      <td>449</td>\n",
       "      <td>0.83</td>\n",
       "      <td>The Thing\\n\\nNothing else.</td>\n",
       "    </tr>\n",
       "    <tr>\n",
       "      <th>2967</th>\n",
       "      <td>1auaw1a</td>\n",
       "      <td>HipJiveGuy</td>\n",
       "      <td>2024-02-19 01:23:05+00:00</td>\n",
       "      <td>Are there any Matrix likes movies before the M...</td>\n",
       "      <td>It feels like the idea of the Matrix is old, a...</td>\n",
       "      <td>movies</td>\n",
       "      <td>https://www.reddit.com/r/movies/comments/1auaw...</td>\n",
       "      <td>678</td>\n",
       "      <td>458</td>\n",
       "      <td>0.83</td>\n",
       "      <td>Ah, a man of culture I see.  \\n\\n\\nOh yeah, by...</td>\n",
       "    </tr>\n",
       "  </tbody>\n",
       "</table>\n",
       "</div>"
      ],
      "text/plain": [
       "            id                author                    created  \\\n",
       "5739   1atxxn3   Either-Account-1924  2024-02-18 16:25:53+00:00   \n",
       "15691  1asp10e  Electrical_Stop_4144  2024-02-17 00:57:52+00:00   \n",
       "2967   1auaw1a            HipJiveGuy  2024-02-19 01:23:05+00:00   \n",
       "\n",
       "                                                   title  \\\n",
       "5739   Do you think movies will be structured differe...   \n",
       "15691                    Perfect movies; what are yours?   \n",
       "2967   Are there any Matrix likes movies before the M...   \n",
       "\n",
       "                                                 content subreddit  \\\n",
       "5739   I ask because I went on a field trip with midd...    movies   \n",
       "15691  There are some films that are just weirdly bri...    movies   \n",
       "2967   It feels like the idea of the Matrix is old, a...    movies   \n",
       "\n",
       "                                                     url  num_comments  score  \\\n",
       "5739   https://www.reddit.com/r/movies/comments/1atxx...           288    275   \n",
       "15691  https://www.reddit.com/r/movies/comments/1asp1...          1488    449   \n",
       "2967   https://www.reddit.com/r/movies/comments/1auaw...           678    458   \n",
       "\n",
       "       upvote_ratio                                            comment  \n",
       "5739           0.81  That may be. I just see it with younger genera...  \n",
       "15691          0.83                         The Thing\\n\\nNothing else.  \n",
       "2967           0.83  Ah, a man of culture I see.  \\n\\n\\nOh yeah, by...  "
      ]
     },
     "execution_count": 15,
     "metadata": {},
     "output_type": "execute_result"
    }
   ],
   "source": [
    "exploded.sample(3)"
   ]
  },
  {
   "cell_type": "code",
   "execution_count": 16,
   "metadata": {},
   "outputs": [],
   "source": [
    "def vader_scores(text):\n",
    "    try:\n",
    "        return sid.polarity_scores(text)\n",
    "    except:\n",
    "        return dict()\n",
    "\n",
    "\n",
    "comments_vader = exploded.comment.apply(vader_scores).apply(pd.Series)\n",
    "comment_scores = pd.concat([exploded, comments_vader], axis =1)"
   ]
  },
  {
   "cell_type": "code",
   "execution_count": 17,
   "metadata": {},
   "outputs": [
    {
     "data": {
      "text/html": [
       "<div>\n",
       "<style scoped>\n",
       "    .dataframe tbody tr th:only-of-type {\n",
       "        vertical-align: middle;\n",
       "    }\n",
       "\n",
       "    .dataframe tbody tr th {\n",
       "        vertical-align: top;\n",
       "    }\n",
       "\n",
       "    .dataframe thead th {\n",
       "        text-align: right;\n",
       "    }\n",
       "</style>\n",
       "<table border=\"1\" class=\"dataframe\">\n",
       "  <thead>\n",
       "    <tr style=\"text-align: right;\">\n",
       "      <th></th>\n",
       "      <th>id</th>\n",
       "      <th>author</th>\n",
       "      <th>created</th>\n",
       "      <th>title</th>\n",
       "      <th>content</th>\n",
       "      <th>subreddit</th>\n",
       "      <th>url</th>\n",
       "      <th>num_comments</th>\n",
       "      <th>score</th>\n",
       "      <th>upvote_ratio</th>\n",
       "      <th>comment</th>\n",
       "      <th>neg</th>\n",
       "      <th>neu</th>\n",
       "      <th>pos</th>\n",
       "      <th>compound</th>\n",
       "    </tr>\n",
       "  </thead>\n",
       "  <tbody>\n",
       "    <tr>\n",
       "      <th>14597</th>\n",
       "      <td>1astqh3</td>\n",
       "      <td>lariato_mark</td>\n",
       "      <td>2024-02-17 04:54:02+00:00</td>\n",
       "      <td>Dodgeball Is Awesome</td>\n",
       "      <td>I just rewatched Dodgeball for the first time ...</td>\n",
       "      <td>movies</td>\n",
       "      <td>https://www.reddit.com/r/movies/comments/1astq...</td>\n",
       "      <td>140</td>\n",
       "      <td>358</td>\n",
       "      <td>0.85</td>\n",
       "      <td>I have never in my life heard my dad laugh as ...</td>\n",
       "      <td>0.048</td>\n",
       "      <td>0.828</td>\n",
       "      <td>0.124</td>\n",
       "      <td>0.4939</td>\n",
       "    </tr>\n",
       "    <tr>\n",
       "      <th>13154</th>\n",
       "      <td>1asspsx</td>\n",
       "      <td>benja327</td>\n",
       "      <td>2024-02-17 03:58:52+00:00</td>\n",
       "      <td>What’s the best “you don’t know who you’re mes...</td>\n",
       "      <td>Loved Sisu, law abiding citizen, on deadly gro...</td>\n",
       "      <td>movies</td>\n",
       "      <td>https://www.reddit.com/r/movies/comments/1assp...</td>\n",
       "      <td>2460</td>\n",
       "      <td>2064</td>\n",
       "      <td>0.90</td>\n",
       "      <td>Theon Greyjoy makes yet another poor decision.</td>\n",
       "      <td>0.341</td>\n",
       "      <td>0.659</td>\n",
       "      <td>0.000</td>\n",
       "      <td>-0.4767</td>\n",
       "    </tr>\n",
       "    <tr>\n",
       "      <th>2305</th>\n",
       "      <td>1aue27n</td>\n",
       "      <td>RagingPenguin4</td>\n",
       "      <td>2024-02-19 04:04:10+00:00</td>\n",
       "      <td>I'm Going to Attempt to Watch Every Nic Cage Film</td>\n",
       "      <td>I can't imagine I'll actually succeed but I wa...</td>\n",
       "      <td>movies</td>\n",
       "      <td>https://www.reddit.com/r/movies/comments/1aue2...</td>\n",
       "      <td>290</td>\n",
       "      <td>312</td>\n",
       "      <td>0.80</td>\n",
       "      <td>I've seen 26/50 nick cage movies on my list an...</td>\n",
       "      <td>0.000</td>\n",
       "      <td>0.782</td>\n",
       "      <td>0.218</td>\n",
       "      <td>0.5994</td>\n",
       "    </tr>\n",
       "  </tbody>\n",
       "</table>\n",
       "</div>"
      ],
      "text/plain": [
       "            id          author                    created  \\\n",
       "14597  1astqh3    lariato_mark  2024-02-17 04:54:02+00:00   \n",
       "13154  1asspsx        benja327  2024-02-17 03:58:52+00:00   \n",
       "2305   1aue27n  RagingPenguin4  2024-02-19 04:04:10+00:00   \n",
       "\n",
       "                                                   title  \\\n",
       "14597                               Dodgeball Is Awesome   \n",
       "13154  What’s the best “you don’t know who you’re mes...   \n",
       "2305   I'm Going to Attempt to Watch Every Nic Cage Film   \n",
       "\n",
       "                                                 content subreddit  \\\n",
       "14597  I just rewatched Dodgeball for the first time ...    movies   \n",
       "13154  Loved Sisu, law abiding citizen, on deadly gro...    movies   \n",
       "2305   I can't imagine I'll actually succeed but I wa...    movies   \n",
       "\n",
       "                                                     url  num_comments  score  \\\n",
       "14597  https://www.reddit.com/r/movies/comments/1astq...           140    358   \n",
       "13154  https://www.reddit.com/r/movies/comments/1assp...          2460   2064   \n",
       "2305   https://www.reddit.com/r/movies/comments/1aue2...           290    312   \n",
       "\n",
       "       upvote_ratio                                            comment    neg  \\\n",
       "14597          0.85  I have never in my life heard my dad laugh as ...  0.048   \n",
       "13154          0.90     Theon Greyjoy makes yet another poor decision.  0.341   \n",
       "2305           0.80  I've seen 26/50 nick cage movies on my list an...  0.000   \n",
       "\n",
       "         neu    pos  compound  \n",
       "14597  0.828  0.124    0.4939  \n",
       "13154  0.659  0.000   -0.4767  \n",
       "2305   0.782  0.218    0.5994  "
      ]
     },
     "execution_count": 17,
     "metadata": {},
     "output_type": "execute_result"
    }
   ],
   "source": [
    "comment_scores.sample(3)"
   ]
  },
  {
   "cell_type": "markdown",
   "metadata": {},
   "source": [
    "Let's look at some examples of short (100 characters or less) positive and negative comments as measured by the compound score."
   ]
  },
  {
   "cell_type": "code",
   "execution_count": 18,
   "metadata": {},
   "outputs": [
    {
     "data": {
      "text/plain": [
       "'I haven’t seen it mentioned yet but Leap of Faith is really good - I don’t think it’s my favorite (it’s impossible for me to pick a favorite, there are so many) but it’s definitely worth watching! I love My Blue Heaven, Mixed Nuts, LA Story, Parenthood…pretty much anything I’ve ever seen him in'"
      ]
     },
     "execution_count": 18,
     "metadata": {},
     "output_type": "execute_result"
    }
   ],
   "source": [
    "bestlist = comment_scores.sort_values(\"compound\", ascending=False).comment.tolist()\n",
    "[comment for comment in bestlist if len(str(comment))<=300][0]"
   ]
  },
  {
   "cell_type": "code",
   "execution_count": 19,
   "metadata": {},
   "outputs": [
    {
     "data": {
      "text/plain": [
       "\"Yeah, but Brazil sucks.\\n\\nI saw it and hated it. I loved Terry Gilliam so much that I gave it a second chance. I hated it even more.\\n\\nI got suckered into seeing it a third time and realized to my horror that my phone's battery was nearly dead.\""
      ]
     },
     "execution_count": 19,
     "metadata": {},
     "output_type": "execute_result"
    }
   ],
   "source": [
    "worstlist = comment_scores.sort_values(\"compound\", ascending=True).comment.tolist()\n",
    "[comment for comment in worstlist if len(str(comment))<=300][0]"
   ]
  },
  {
   "cell_type": "markdown",
   "metadata": {},
   "source": [
    "Let's pull polarity scores for both the post content and the comments (all together in a blob) by returning to our original data format."
   ]
  },
  {
   "cell_type": "code",
   "execution_count": 20,
   "metadata": {},
   "outputs": [],
   "source": [
    "comments_vader = df.comment_blob.apply(vader_scores).apply(pd.Series).add_prefix(\"comm_\")\n",
    "post_vader = df.content.apply(vader_scores).apply(pd.Series).add_prefix(\"post_\")\n",
    "scores = pd.concat([df, post_vader,comments_vader], axis = 1)"
   ]
  },
  {
   "cell_type": "code",
   "execution_count": 21,
   "metadata": {},
   "outputs": [
    {
     "data": {
      "text/html": [
       "<div>\n",
       "<style scoped>\n",
       "    .dataframe tbody tr th:only-of-type {\n",
       "        vertical-align: middle;\n",
       "    }\n",
       "\n",
       "    .dataframe tbody tr th {\n",
       "        vertical-align: top;\n",
       "    }\n",
       "\n",
       "    .dataframe thead th {\n",
       "        text-align: right;\n",
       "    }\n",
       "</style>\n",
       "<table border=\"1\" class=\"dataframe\">\n",
       "  <thead>\n",
       "    <tr style=\"text-align: right;\">\n",
       "      <th></th>\n",
       "      <th>id</th>\n",
       "      <th>author</th>\n",
       "      <th>created</th>\n",
       "      <th>title</th>\n",
       "      <th>content</th>\n",
       "      <th>subreddit</th>\n",
       "      <th>url</th>\n",
       "      <th>num_comments</th>\n",
       "      <th>score</th>\n",
       "      <th>upvote_ratio</th>\n",
       "      <th>...</th>\n",
       "      <th>comment_blob</th>\n",
       "      <th>comments_list</th>\n",
       "      <th>post_neg</th>\n",
       "      <th>post_neu</th>\n",
       "      <th>post_pos</th>\n",
       "      <th>post_compound</th>\n",
       "      <th>comm_neg</th>\n",
       "      <th>comm_neu</th>\n",
       "      <th>comm_pos</th>\n",
       "      <th>comm_compound</th>\n",
       "    </tr>\n",
       "  </thead>\n",
       "  <tbody>\n",
       "    <tr>\n",
       "      <th>43</th>\n",
       "      <td>1auft3r</td>\n",
       "      <td>Chlodio</td>\n",
       "      <td>2024-02-19 05:41:31+00:00</td>\n",
       "      <td>How do \"write-offs\" make sense?</td>\n",
       "      <td>It keeps happening again... Unreleased project...</td>\n",
       "      <td>movies</td>\n",
       "      <td>https://www.reddit.com/r/movies/comments/1auft...</td>\n",
       "      <td>47</td>\n",
       "      <td>14</td>\n",
       "      <td>0.57</td>\n",
       "      <td>...</td>\n",
       "      <td>So I don’t think anyone has yet answered your ...</td>\n",
       "      <td>[So I don’t think anyone has yet answered your...</td>\n",
       "      <td>0.044</td>\n",
       "      <td>0.860</td>\n",
       "      <td>0.097</td>\n",
       "      <td>0.5787</td>\n",
       "      <td>0.128</td>\n",
       "      <td>0.756</td>\n",
       "      <td>0.116</td>\n",
       "      <td>-0.9873</td>\n",
       "    </tr>\n",
       "    <tr>\n",
       "      <th>136</th>\n",
       "      <td>1au2tz8</td>\n",
       "      <td>teodoru-</td>\n",
       "      <td>2024-02-18 19:44:42+00:00</td>\n",
       "      <td>Any advice on Venice Film Fest?</td>\n",
       "      <td>Hi, as the title suggests, I want to attend th...</td>\n",
       "      <td>movies</td>\n",
       "      <td>https://www.reddit.com/r/movies/comments/1au2t...</td>\n",
       "      <td>0</td>\n",
       "      <td>1</td>\n",
       "      <td>0.54</td>\n",
       "      <td>...</td>\n",
       "      <td>NaN</td>\n",
       "      <td>[]</td>\n",
       "      <td>0.000</td>\n",
       "      <td>0.917</td>\n",
       "      <td>0.083</td>\n",
       "      <td>0.7278</td>\n",
       "      <td>NaN</td>\n",
       "      <td>NaN</td>\n",
       "      <td>NaN</td>\n",
       "      <td>NaN</td>\n",
       "    </tr>\n",
       "    <tr>\n",
       "      <th>3</th>\n",
       "      <td>1auor7x</td>\n",
       "      <td>bflaminio</td>\n",
       "      <td>2024-02-19 14:36:49+00:00</td>\n",
       "      <td>It's Presidents Day in the US. What is your fa...</td>\n",
       "      <td>Here are my top three:\\n\\n* William Daniels as...</td>\n",
       "      <td>movies</td>\n",
       "      <td>https://www.reddit.com/r/movies/comments/1auor...</td>\n",
       "      <td>354</td>\n",
       "      <td>248</td>\n",
       "      <td>0.88</td>\n",
       "      <td>...</td>\n",
       "      <td>Dr. Strangelove, Sellers as President Muffley....</td>\n",
       "      <td>[Dr. Strangelove, Sellers as President Muffley...</td>\n",
       "      <td>0.053</td>\n",
       "      <td>0.724</td>\n",
       "      <td>0.223</td>\n",
       "      <td>0.9685</td>\n",
       "      <td>0.077</td>\n",
       "      <td>0.755</td>\n",
       "      <td>0.168</td>\n",
       "      <td>1.0000</td>\n",
       "    </tr>\n",
       "  </tbody>\n",
       "</table>\n",
       "<p>3 rows × 21 columns</p>\n",
       "</div>"
      ],
      "text/plain": [
       "          id     author                    created  \\\n",
       "43   1auft3r    Chlodio  2024-02-19 05:41:31+00:00   \n",
       "136  1au2tz8   teodoru-  2024-02-18 19:44:42+00:00   \n",
       "3    1auor7x  bflaminio  2024-02-19 14:36:49+00:00   \n",
       "\n",
       "                                                 title  \\\n",
       "43                     How do \"write-offs\" make sense?   \n",
       "136                    Any advice on Venice Film Fest?   \n",
       "3    It's Presidents Day in the US. What is your fa...   \n",
       "\n",
       "                                               content subreddit  \\\n",
       "43   It keeps happening again... Unreleased project...    movies   \n",
       "136  Hi, as the title suggests, I want to attend th...    movies   \n",
       "3    Here are my top three:\\n\\n* William Daniels as...    movies   \n",
       "\n",
       "                                                   url  num_comments  score  \\\n",
       "43   https://www.reddit.com/r/movies/comments/1auft...            47     14   \n",
       "136  https://www.reddit.com/r/movies/comments/1au2t...             0      1   \n",
       "3    https://www.reddit.com/r/movies/comments/1auor...           354    248   \n",
       "\n",
       "     upvote_ratio  ...                                       comment_blob  \\\n",
       "43           0.57  ...  So I don’t think anyone has yet answered your ...   \n",
       "136          0.54  ...                                                NaN   \n",
       "3            0.88  ...  Dr. Strangelove, Sellers as President Muffley....   \n",
       "\n",
       "                                         comments_list post_neg  post_neu  \\\n",
       "43   [So I don’t think anyone has yet answered your...    0.044     0.860   \n",
       "136                                                 []    0.000     0.917   \n",
       "3    [Dr. Strangelove, Sellers as President Muffley...    0.053     0.724   \n",
       "\n",
       "     post_pos  post_compound  comm_neg  comm_neu  comm_pos  comm_compound  \n",
       "43      0.097         0.5787     0.128     0.756     0.116        -0.9873  \n",
       "136     0.083         0.7278       NaN       NaN       NaN            NaN  \n",
       "3       0.223         0.9685     0.077     0.755     0.168         1.0000  \n",
       "\n",
       "[3 rows x 21 columns]"
      ]
     },
     "execution_count": 21,
     "metadata": {},
     "output_type": "execute_result"
    }
   ],
   "source": [
    "scores.sample(3)"
   ]
  },
  {
   "cell_type": "markdown",
   "metadata": {},
   "source": [
    "What post has the most positive sentiment?"
   ]
  },
  {
   "cell_type": "code",
   "execution_count": 22,
   "metadata": {},
   "outputs": [
    {
     "data": {
      "text/plain": [
       "'https://www.reddit.com/r/movies/comments/1aujffa/warner_bros_its_potential_and_future_slate/'"
      ]
     },
     "execution_count": 22,
     "metadata": {},
     "output_type": "execute_result"
    }
   ],
   "source": [
    "scores.sort_values(\"post_compound\", ascending=False).url.tolist()[0]"
   ]
  },
  {
   "cell_type": "markdown",
   "metadata": {},
   "source": [
    "The most neutral content?"
   ]
  },
  {
   "cell_type": "code",
   "execution_count": 23,
   "metadata": {},
   "outputs": [
    {
     "data": {
      "text/plain": [
       "'[Madame Web](https://old.reddit.com/r/movies/comments/1ar5kem/official_discussion_madame_web_spoilers/?)\\n\\n[Bob Marley: One Love](https://old.reddit.com/r/movies/comments/1ar5kgf/official_discussion_bob_marley_one_love_spoilers/?)'"
      ]
     },
     "execution_count": 23,
     "metadata": {},
     "output_type": "execute_result"
    }
   ],
   "source": [
    "scores.sort_values(\"post_neu\", ascending=False, ignore_index=True).content[0]"
   ]
  },
  {
   "cell_type": "markdown",
   "metadata": {},
   "source": [
    "How does the post's positive sentiment relate to the sentiment of its comments?"
   ]
  },
  {
   "cell_type": "code",
   "execution_count": 24,
   "metadata": {},
   "outputs": [
    {
     "data": {
      "text/plain": [
       "<Axes: xlabel='post_compound', ylabel='comm_compound'>"
      ]
     },
     "execution_count": 24,
     "metadata": {},
     "output_type": "execute_result"
    },
    {
     "data": {
      "image/png": "[encoded data removed]",
      "text/plain": [
       "<Figure size 640x480 with 1 Axes>"
      ]
     },
     "metadata": {},
     "output_type": "display_data"
    }
   ],
   "source": [
    "sns.regplot(data = scores, x=\"post_compound\", y = \"comm_compound\", scatter_kws = {\"alpha\":0.5})"
   ]
  },
  {
   "cell_type": "code",
   "execution_count": 25,
   "metadata": {},
   "outputs": [
    {
     "data": {
      "text/plain": [
       "<Axes: xlabel='post_compound', ylabel='upvote_ratio'>"
      ]
     },
     "execution_count": 25,
     "metadata": {},
     "output_type": "execute_result"
    },
    {
     "data": {
      "image/png": "[encoded data removed]",
      "text/plain": [
       "<Figure size 640x480 with 1 Axes>"
      ]
     },
     "metadata": {},
     "output_type": "display_data"
    }
   ],
   "source": [
    "sns.regplot(data = scores, x=\"post_compound\", y = \"upvote_ratio\", scatter_kws = {\"alpha\":0.5})"
   ]
  },
  {
   "cell_type": "code",
   "execution_count": 26,
   "metadata": {},
   "outputs": [
    {
     "data": {
      "text/plain": [
       "<Axes: xlabel='post_neu', ylabel='upvote_ratio'>"
      ]
     },
     "execution_count": 26,
     "metadata": {},
     "output_type": "execute_result"
    },
    {
     "data": {
      "image/png": "[encoded data removed]",
      "text/plain": [
       "<Figure size 640x480 with 1 Axes>"
      ]
     },
     "metadata": {},
     "output_type": "display_data"
    }
   ],
   "source": [
    "sns.regplot(data = scores, x=\"post_neu\", y = \"upvote_ratio\", scatter_kws = {\"alpha\":0.5})"
   ]
  },
  {
   "cell_type": "markdown",
   "metadata": {},
   "source": [
    "## Topic Modeling\n",
    "\n",
    "Topic modeling, specifically the Latent Dirichlet Allocation, is a method to split a corpus into several topics that are not mutually exclusive at the document level.  Each document is essentially a mix of different topics, reflecting the complexity of natural language.\n",
    "\n",
    "One of the most important choices when fitting a topic model is how many topics to fit! There are indices to help with this decision, but there's often not just one \"correct\" answer - lots of topics might get a more subtle patterns where as a smaller list of topics will give a sense of the \"big picture\" patterns in the corpus."
   ]
  },
  {
   "cell_type": "code",
   "execution_count": 27,
   "metadata": {},
   "outputs": [],
   "source": [
    "from sklearn.decomposition import LatentDirichletAllocation\n",
    "from sklearn.feature_extraction.text import CountVectorizer, TfidfVectorizer"
   ]
  },
  {
   "cell_type": "markdown",
   "metadata": {},
   "source": [
    "First, we'll create a dataframe of all of our text, both posts and comments, together to get a bigger universe for our models."
   ]
  },
  {
   "cell_type": "code",
   "execution_count": 28,
   "metadata": {},
   "outputs": [],
   "source": [
    "import ast\n",
    "df[\"comments_list\"] = df.comments_text.apply(ast.literal_eval)\n",
    "exploded = df[[\"comments_list\"]].explode(\"comments_list\", ignore_index=True)\n",
    "exploded[\"type\"] = \"comment\"\n",
    "exploded.rename(columns = {\"comments_list\":\"text\"}, inplace=True)\n",
    "posts_df = df[[\"content\"]].copy()\n",
    "posts_df[\"type\"] = \"post\"\n",
    "posts_df.rename(columns = {\"content\":\"text\"}, inplace=True)\n",
    "main = pd.concat([posts_df, exploded], axis = 0).reset_index()\n",
    "main = main.loc[main.text.notnull(),:]"
   ]
  },
  {
   "cell_type": "markdown",
   "metadata": {},
   "source": [
    "Just like in previous weeks, we'll use a vectorizer from scikit-learn to split our text into tokens, remove stopwords and very frequent / infrequent terms.  We'll start with a simple CountVectorizer and the default stop words list from scikit-learn."
   ]
  },
  {
   "cell_type": "code",
   "execution_count": 29,
   "metadata": {},
   "outputs": [],
   "source": [
    "vectorizer = CountVectorizer(min_df = 0.01, max_df = 0.5, stop_words = 'english')\n",
    "\n",
    "vectors = vectorizer.fit_transform(main.text)"
   ]
  },
  {
   "cell_type": "code",
   "execution_count": 41,
   "metadata": {},
   "outputs": [],
   "source": [
    "num_topics = 3\n",
    "\n",
    "lda = LatentDirichletAllocation(\n",
    "    n_components=num_topics,\n",
    "    learning_method = \"online\",\n",
    "    random_state = 2342,\n",
    "    n_jobs = 4\n",
    ")\n",
    "lda_results = lda.fit_transform(vectors) "
   ]
  },
  {
   "cell_type": "code",
   "execution_count": 42,
   "metadata": {},
   "outputs": [
    {
     "name": "stdout",
     "output_type": "stream",
     "text": [
      "Topic 1:  ['also', 'love', 'get', 'man', 'still', 'movies', 'https', 'best', 'pretty', 'going']\n",
      "Topic 2:  ['one', 'good', 'time', 'scene', 'people', 'see', 'first', 'really', 'made', 'make']\n",
      "Topic 3:  ['like', 'great', 'would', 'well', 'know', 'much', 'story', 'got', 'never', 'yeah']\n"
     ]
    }
   ],
   "source": [
    "terms = vectorizer.get_feature_names_out()\n",
    "\n",
    "for index, component in enumerate(lda.components_):\n",
    "    zipped = zip(terms, component)\n",
    "    top_terms_key=sorted(zipped, key = lambda t: t[1], reverse=True)[:10]\n",
    "    top_terms_list=list(dict(top_terms_key).keys())\n",
    "    print(\"Topic \"+str(index+1)+\": \",top_terms_list)"
   ]
  },
  {
   "cell_type": "code",
   "execution_count": 32,
   "metadata": {},
   "outputs": [],
   "source": [
    "num_topics = 7\n",
    "\n",
    "lda = LatentDirichletAllocation(\n",
    "    n_components=num_topics,\n",
    "    learning_method = \"online\",\n",
    "    random_state = 2342,\n",
    "    n_jobs = 4\n",
    ")\n",
    "lda_results = lda.fit_transform(vectors) "
   ]
  },
  {
   "cell_type": "code",
   "execution_count": 33,
   "metadata": {},
   "outputs": [
    {
     "name": "stdout",
     "output_type": "stream",
     "text": [
      "Topic 1:  ['film', 'scene', 'good', 'films', 'movie', 'bad', 'new', 'old', 'look', 'action']\n",
      "Topic 2:  ['time', 'movie', 'years', 'thought', 'just', 'day', 'actually', 'll', 'know', 'remember']\n",
      "Topic 3:  ['movie', 've', 'love', 'great', 'got', 'man', 'seen', 'different', 'best', 'role']\n",
      "Topic 4:  ['movies', 'people', 'really', 'like', 'lot', 'just', 'say', 'did', 'right', 'said']\n",
      "Topic 5:  ['didn', 'going', 'big', 'way', 'wasn', 'make', 'just', 'kind', 'work', 'isn']\n",
      "Topic 6:  ['watch', 'https', 'yeah', 'sure', 'guy', 'com', 'lol', 'shit', 'true', 'based']\n",
      "Topic 7:  ['like', 'think', 'don', 'just', 'movie', 'story', 'pretty', 'better', 'character', 'life']\n"
     ]
    }
   ],
   "source": [
    "terms = vectorizer.get_feature_names_out()\n",
    "\n",
    "for index, component in enumerate(lda.components_):\n",
    "    zipped = zip(terms, component)\n",
    "    top_terms_key=sorted(zipped, key = lambda t: t[1], reverse=True)[:10]\n",
    "    top_terms_list=list(dict(top_terms_key).keys())\n",
    "    print(\"Topic \"+str(index+1)+\": \",top_terms_list)"
   ]
  },
  {
   "cell_type": "markdown",
   "metadata": {},
   "source": [
    "Let's try using the nltk stopwords list (the scikit-learn stopwords list isn't the best), and explore changing it!"
   ]
  },
  {
   "cell_type": "code",
   "execution_count": 34,
   "metadata": {},
   "outputs": [],
   "source": [
    "from nltk.corpus import stopwords\n",
    "nltk_stopwords = stopwords.words('english')\n",
    "custom_stopwords = nltk_stopwords+ ['seen','watch','movie','film']"
   ]
  },
  {
   "cell_type": "code",
   "execution_count": 36,
   "metadata": {},
   "outputs": [
    {
     "name": "stdout",
     "output_type": "stream",
     "text": [
      "Topic 1:  ['good', 'great', 'pretty', 'one', 'sure', 'favorite', 'get', 'saw', 'fun', 'part']\n",
      "Topic 2:  ['people', 'think', 'made', 'like', 'actually', 'make', 'many', 'always', 'different', 'movies']\n",
      "Topic 3:  ['like', 'story', 'really', 'know', 'would', 'much', 'yeah', 'scene', 'something', 'feel']\n",
      "Topic 4:  ['time', 'way', 'back', 'first', 'got', 'every', 'want', 'role', 'go', 'day']\n",
      "Topic 5:  ['also', 'one', 'man', 'love', 'big', 'life', 'guy', 'real', 'world', 'came']\n",
      "Topic 6:  ['never', 'https', 'though', 'com', 'probably', 'even', 'best', 'still', 'things', 'absolutely']\n",
      "Topic 7:  ['movies', 'years', 'bad', 'one', 'watched', 'like', 'show', 'last', 'ever', 'old']\n"
     ]
    }
   ],
   "source": [
    "vectorizer = CountVectorizer(min_df = 0.01, max_df = 0.5, stop_words = custom_stopwords)\n",
    "\n",
    "vectors = vectorizer.fit_transform(main.text)\n",
    "\n",
    "num_topics = 7\n",
    "\n",
    "lda = LatentDirichletAllocation(\n",
    "    n_components=num_topics,\n",
    "    learning_method = \"online\",\n",
    "    random_state = 2342,\n",
    "    n_jobs = 4\n",
    ")\n",
    "lda_results = lda.fit_transform(vectors) \n",
    "\n",
    "terms = vectorizer.get_feature_names_out()\n",
    "\n",
    "for index, component in enumerate(lda.components_):\n",
    "    zipped = zip(terms, component)\n",
    "    top_terms_key=sorted(zipped, key = lambda t: t[1], reverse=True)[:10]\n",
    "    top_terms_list=list(dict(top_terms_key).keys())\n",
    "    print(\"Topic \"+str(index+1)+\": \",top_terms_list)"
   ]
  },
  {
   "cell_type": "markdown",
   "metadata": {},
   "source": [
    "How about using TF-IDF instead?"
   ]
  },
  {
   "cell_type": "code",
   "execution_count": 40,
   "metadata": {},
   "outputs": [
    {
     "name": "stdout",
     "output_type": "stream",
     "text": [
      "Topic 1:  ['good', 'pretty', 'sure', 'going', 'definitely', 'want', 'though', 'fun', 'things', 'list']\n",
      "Topic 2:  ['scene', 'back', 'always', 'character', 'see', 'guy', 'look', 'shit', 'end', 'whole']\n",
      "Topic 3:  ['like', 'story', 'know', 'thought', 'actually', 'even', 'bad', 'something', 'true', 'people']\n",
      "Topic 4:  ['great', 'one', 'never', 'first', 'time', 'day', 'old', 'yes', 'big', 'watched']\n",
      "Topic 5:  ['get', 'movies', 'yeah', 'think', 'better', 'lol', 'much', 'could', 'role', 'make']\n",
      "Topic 6:  ['love', 'man', 'https', 'also', 'best', 'ever', 'oh', 'com', 'made', 'one']\n",
      "Topic 7:  ['got', 'well', 'show', 'little', 'take', 'two', 'need', 'different', 'last', 'perfect']\n"
     ]
    }
   ],
   "source": [
    "vectorizer = TfidfVectorizer(min_df = 0.01, max_df = 0.5, stop_words = custom_stopwords)\n",
    "\n",
    "vectors = vectorizer.fit_transform(main.text)\n",
    "\n",
    "num_topics = 7\n",
    "\n",
    "lda = LatentDirichletAllocation(\n",
    "    n_components=num_topics,\n",
    "    learning_method = \"online\",\n",
    "    random_state = 2342,\n",
    "    n_jobs = 4\n",
    ")\n",
    "lda_results = lda.fit_transform(vectors) \n",
    "\n",
    "terms = vectorizer.get_feature_names_out()\n",
    "\n",
    "for index, component in enumerate(lda.components_):\n",
    "    zipped = zip(terms, component)\n",
    "    top_terms_key=sorted(zipped, key = lambda t: t[1], reverse=True)[:10]\n",
    "    top_terms_list=list(dict(top_terms_key).keys())\n",
    "    print(\"Topic \"+str(index+1)+\": \",top_terms_list)"
   ]
  },
  {
   "cell_type": "markdown",
   "metadata": {},
   "source": [
    "Let's explore if any topics were disproprotionately more common in the comments or the posts?"
   ]
  },
  {
   "cell_type": "code",
   "execution_count": 38,
   "metadata": {},
   "outputs": [
    {
     "data": {
      "text/html": [
       "<div>\n",
       "<style scoped>\n",
       "    .dataframe tbody tr th:only-of-type {\n",
       "        vertical-align: middle;\n",
       "    }\n",
       "\n",
       "    .dataframe tbody tr th {\n",
       "        vertical-align: top;\n",
       "    }\n",
       "\n",
       "    .dataframe thead th {\n",
       "        text-align: right;\n",
       "    }\n",
       "</style>\n",
       "<table border=\"1\" class=\"dataframe\">\n",
       "  <thead>\n",
       "    <tr style=\"text-align: right;\">\n",
       "      <th>MainTopic</th>\n",
       "      <th>Topic_1</th>\n",
       "      <th>Topic_2</th>\n",
       "      <th>Topic_3</th>\n",
       "      <th>Topic_4</th>\n",
       "      <th>Topic_5</th>\n",
       "    </tr>\n",
       "    <tr>\n",
       "      <th>type</th>\n",
       "      <th></th>\n",
       "      <th></th>\n",
       "      <th></th>\n",
       "      <th></th>\n",
       "      <th></th>\n",
       "    </tr>\n",
       "  </thead>\n",
       "  <tbody>\n",
       "    <tr>\n",
       "      <th>comment</th>\n",
       "      <td>0.309137</td>\n",
       "      <td>0.258255</td>\n",
       "      <td>0.102739</td>\n",
       "      <td>0.179496</td>\n",
       "      <td>0.150373</td>\n",
       "    </tr>\n",
       "    <tr>\n",
       "      <th>post</th>\n",
       "      <td>0.106250</td>\n",
       "      <td>0.343750</td>\n",
       "      <td>0.043750</td>\n",
       "      <td>0.268750</td>\n",
       "      <td>0.237500</td>\n",
       "    </tr>\n",
       "  </tbody>\n",
       "</table>\n",
       "</div>"
      ],
      "text/plain": [
       "MainTopic   Topic_1   Topic_2   Topic_3   Topic_4   Topic_5\n",
       "type                                                       \n",
       "comment    0.309137  0.258255  0.102739  0.179496  0.150373\n",
       "post       0.106250  0.343750  0.043750  0.268750  0.237500"
      ]
     },
     "execution_count": 38,
     "metadata": {},
     "output_type": "execute_result"
    }
   ],
   "source": [
    "lda_res_df = pd.DataFrame(lda_results, columns = [\"Topic_\"+str(k) for k in range(1,(num_topics+1))])\n",
    "lda_res_df[\"MainTopic\"] = lda_res_df.idxmax(axis = 1)\n",
    "lda_df = pd.concat([main, lda_res_df], axis = 1)\n",
    "pd.crosstab(lda_df.type, lda_df.MainTopic, normalize = \"index\")"
   ]
  },
  {
   "cell_type": "markdown",
   "metadata": {},
   "source": [
    "#### Visualizing Topics with pyLDAvis\n",
    "\n",
    "The [`pyLDAvis`](https://github.com/bmabey/pyLDAvis/) package is a nice visual way to explore how our topics appear in the dataset.\n"
   ]
  },
  {
   "cell_type": "code",
   "execution_count": 39,
   "metadata": {},
   "outputs": [
    {
     "data": {
      "text/html": [
       "\n",
       "<link rel=\"stylesheet\" type=\"text/css\" href=\"https://cdn.jsdelivr.net/gh/bmabey/pyLDAvis@3.4.0/pyLDAvis/js/ldavis.v1.0.0.css\">\n",
       "\n",
       "\n",
       "<div id=\"ldavis_el482423450618407363338564353\" style=\"background-color:white;\"></div>\n",
       "<script type=\"text/javascript\">\n",
       "\n",
       "var ldavis_el482423450618407363338564353_data = {\"mdsDat\": {\"x\": [0.017439052619033467, -0.007472494482945898, 0.049796898929796746, -0.361158740876984, 0.3013952838110998], \"y\": [-0.03611314550262208, -0.20742866316133005, -0.20593622939635065, 0.19037814433714836, 0.2590998937231547], \"topics\": [1, 2, 3, 4, 5], \"cluster\": [1, 1, 1, 1, 1], \"Freq\": [27.754818667056202, 21.612997560421952, 19.474561883365077, 15.688843172056952, 15.468778717099815]}, \"tinfo\": {\"Term\": [\"scene\", \"love\", \"one\", \"https\", \"yeah\", \"pretty\", \"story\", \"well\", \"also\", \"great\", \"man\", \"say\", \"people\", \"though\", \"like\", \"day\", \"sure\", \"best\", \"big\", \"right\", \"movies\", \"look\", \"films\", \"take\", \"first\", \"role\", \"get\", \"ever\", \"time\", \"would\", \"could\", \"bad\", \"go\", \"lol\", \"better\", \"yes\", \"want\", \"end\", \"different\", \"feel\", \"shit\", \"whole\", \"people\", \"makes\", \"us\", \"kid\", \"everyone\", \"believe\", \"read\", \"find\", \"anything\", \"making\", \"weird\", \"trying\", \"sense\", \"reason\", \"basically\", \"felt\", \"way\", \"without\", \"make\", \"even\", \"still\", \"good\", \"lot\", \"thing\", \"remember\", \"like\", \"would\", \"get\", \"think\", \"actually\", \"really\", \"movies\", \"watched\", \"life\", \"old\", \"show\", \"came\", \"perfect\", \"long\", \"second\", \"might\", \"since\", \"already\", \"series\", \"getting\", \"actor\", \"tv\", \"away\", \"come\", \"looking\", \"interesting\", \"next\", \"anyone\", \"got\", \"first\", \"wanted\", \"great\", \"saw\", \"part\", \"every\", \"need\", \"time\", \"years\", \"would\", \"see\", \"always\", \"character\", \"many\", \"one\", \"like\", \"love\", \"films\", \"ever\", \"oh\", \"little\", \"two\", \"definitely\", \"year\", \"top\", \"world\", \"another\", \"original\", \"list\", \"times\", \"10\", \"action\", \"war\", \"mind\", \"horror\", \"best\", \"maybe\", \"work\", \"last\", \"kind\", \"one\", \"least\", \"went\", \"movies\", \"bit\", \"enough\", \"made\", \"like\", \"man\", \"really\", \"scene\", \"https\", \"yeah\", \"say\", \"look\", \"take\", \"true\", \"point\", \"com\", \"funny\", \"around\", \"line\", \"scenes\", \"based\", \"youtube\", \"big\", \"story\", \"let\", \"well\", \"nothing\", \"something\", \"know\", \"really\", \"never\", \"like\", \"characters\", \"actually\", \"guy\", \"made\", \"think\", \"pretty\", \"day\", \"sure\", \"right\", \"role\", \"real\", \"mean\", \"favorite\", \"fun\", \"fucking\", \"amazing\", \"absolutely\", \"loved\", \"far\", \"ending\", \"agree\", \"though\", \"man\", \"thought\", \"everything\", \"also\", \"back\", \"going\", \"get\", \"watching\", \"much\", \"probably\", \"think\", \"bit\", \"still\", \"good\"], \"Freq\": [387.0, 343.0, 644.0, 274.0, 260.0, 247.0, 280.0, 315.0, 418.0, 375.0, 292.0, 203.0, 298.0, 200.0, 745.0, 193.0, 190.0, 224.0, 199.0, 183.0, 457.0, 169.0, 192.0, 168.0, 287.0, 166.0, 340.0, 186.0, 394.0, 358.0, 207.6821417847859, 179.56759435749555, 164.87450403730588, 148.9047153376822, 168.14354404480457, 137.79933827187102, 139.70714462771727, 134.7051652250402, 132.57376168807366, 133.91424602464724, 123.9948725463474, 121.78453767778961, 296.4040975151356, 112.0899437946635, 109.97933511707066, 100.02335493469353, 96.96148032007675, 92.36370320088032, 89.32639147160697, 92.13644647784504, 116.96380819183709, 84.41191652859327, 80.8599457629994, 79.10855764928381, 74.8498747437392, 74.85085413198833, 70.82902809567433, 76.51800492274032, 222.2199060707109, 66.13316105028393, 166.48525118260397, 193.939790327748, 177.50352564766436, 249.1640774557328, 134.5801950741034, 129.41420339589897, 108.9606345488955, 230.5647509987937, 140.63196758653285, 136.67706168552579, 143.88732965220436, 113.81612722882099, 115.08878774802373, 110.79707336976675, 169.4941867228827, 160.68407901999544, 152.15362108842498, 146.67936732913049, 126.75508730905507, 121.29996086422477, 117.69451254546267, 104.65085237834244, 104.94316837668231, 103.07124286878565, 97.60447919462476, 96.79765169424927, 95.85448962834688, 89.51776134757273, 87.61097830929644, 84.80394631817873, 84.70820547358488, 84.74453747455011, 83.8341056525233, 81.89273708819968, 74.666276065121, 203.96625811681372, 244.44295008556398, 72.19702725882011, 303.74467728383337, 109.6844172615262, 111.94097627196676, 131.6439686525906, 94.27273473382962, 278.80463825427853, 138.0135222809659, 217.51146208745368, 178.43890434572535, 114.94455245740288, 119.88510094831683, 107.81314761948933, 142.63336602779836, 97.22958082716833, 342.8438030316122, 191.17037520182149, 185.64581889740072, 153.32424689128325, 152.35885128013413, 152.0885372524146, 141.54813858149757, 132.46991414883144, 124.17924842252299, 122.76701161462348, 120.39191599275465, 114.66803121443296, 111.23838104904979, 108.79450523806659, 103.5152182470017, 101.12298599448225, 95.72968751295421, 92.0337417776444, 89.76939699857556, 221.52279077455555, 125.11646272872024, 93.52105105647139, 118.05798856912239, 80.29142556466553, 444.52148023372604, 68.26121960185183, 60.19150640902962, 277.2137367142515, 64.84420409105508, 66.05521901216412, 120.33137378490281, 94.30429599764025, 75.51655860954786, 74.31633042115483, 386.882697788674, 273.4188675020332, 259.2774827991612, 203.1589246763143, 168.30339156940448, 167.97444937913477, 153.31717760833163, 146.2628156035012, 143.77570839807848, 129.2505402998714, 125.67605742238712, 116.34878820657511, 107.31548963869376, 101.30960180504984, 98.7015564290893, 194.7774007859271, 246.48911128199927, 78.86394678344809, 236.53243967269412, 58.99823770761815, 101.5379110765765, 155.2532010119996, 178.43950024129316, 120.4425005350762, 323.3789519217209, 32.75105692082914, 45.29340903412396, 34.20316095393379, 24.85981788800361, 38.62361946562211, 246.23971027718247, 192.4158646843639, 189.99131511627021, 182.9553272772569, 165.95181839542875, 153.7380255103704, 146.18249965907205, 145.0096679243911, 139.0263123936628, 138.4336265488239, 124.69730935671946, 122.79022255398108, 122.70290090326118, 114.3345141140695, 111.75676798240072, 94.78565482053727, 197.38871483609705, 216.5082615116161, 136.76246845641606, 82.88969954991597, 277.10291625821213, 146.33029910233782, 119.47748061554799, 185.4371734281066, 81.59136598573605, 131.2080802198604, 63.27567810836772, 123.62201188281979, 24.74710610152935, 53.61327282422486, 70.50895506613782], \"Total\": [387.0, 343.0, 644.0, 274.0, 260.0, 247.0, 280.0, 315.0, 418.0, 375.0, 292.0, 203.0, 298.0, 200.0, 745.0, 193.0, 190.0, 224.0, 199.0, 183.0, 457.0, 169.0, 192.0, 168.0, 287.0, 166.0, 340.0, 186.0, 394.0, 358.0, 208.53648282410919, 180.41892845919884, 165.7248329776034, 149.7526115272294, 169.10897284211742, 138.64800066507226, 140.58448349634736, 135.55856326751635, 133.4253533891429, 134.7957159478614, 124.84274648828217, 122.63795804722048, 298.52899258448366, 112.94082531541784, 110.82904548118705, 100.87636630410485, 97.81113123933888, 93.2161733892907, 90.17790487044499, 93.01766456101845, 118.12047568418748, 85.29196520761401, 81.71132912790281, 79.95806730266509, 75.69720332664798, 75.70078897615167, 71.67931570434884, 77.68736474099619, 234.63451272645221, 74.56603216633467, 192.9114722555639, 286.11904500193344, 254.19413349499013, 429.36842609598193, 179.9581922536548, 169.94741205019213, 133.78643770633886, 745.7103660627436, 358.827638276438, 340.3517699412399, 421.9393577858511, 197.54624113872703, 368.4557984983472, 457.7012245699084, 170.33267865076598, 161.52810780292714, 152.99433969155223, 147.5248413181861, 127.59242076696826, 122.13733432551446, 118.53317676079126, 105.4871735727051, 105.78380251966183, 103.91050533017412, 98.44235688044435, 97.63613234055062, 96.6954849840297, 90.35701479179502, 88.44628865574123, 85.64264305995646, 85.54644941061775, 85.5845460626141, 84.67371487307513, 82.72821369731388, 75.50535650847998, 238.973345558826, 287.99919831887064, 85.26646360132393, 375.1765788494154, 143.3055773289906, 151.1595792405573, 179.5765213728282, 128.83167609652665, 394.78635566867194, 196.69023148753425, 358.827638276438, 301.6304882906557, 168.426022524075, 198.11534168889105, 163.75929390806752, 644.6041649397828, 745.7103660627436, 343.6860159457297, 192.00108380172583, 186.47543287363172, 154.15162536439615, 153.1889859921888, 152.9183408846808, 142.37734748604217, 133.29781420514425, 125.0055871692256, 123.59722536759334, 121.22347501835594, 115.49672732427688, 112.06395577823214, 109.6269221419793, 104.34211682715775, 101.95327390789018, 96.5593512141893, 92.86159447888504, 90.59577026686524, 224.4484551094158, 141.2999068473355, 119.08321205493895, 157.67917287756535, 112.34163920635339, 644.6041649397828, 99.53983623722146, 88.8110669399239, 457.7012245699084, 108.2845292424686, 112.49857329514063, 238.37515031614745, 745.7103660627436, 292.6273135203862, 368.4557984983472, 387.7038569960645, 274.2197533601166, 260.08502801653367, 203.97089477497022, 169.11212531677728, 168.78552219551605, 154.12200026560146, 147.07368991030657, 144.5763179506104, 130.05832522378748, 126.48740882822835, 117.15522260427325, 108.12357849751604, 102.11571646650984, 99.50403244504578, 199.77798776757723, 280.8545479614612, 103.26811836450267, 315.4928915075986, 99.53547136880667, 186.08151057030534, 296.6571523678927, 368.4557984983472, 249.17196481013843, 745.7103660627436, 97.83482766633928, 197.54624113872703, 155.65183675241124, 238.37515031614745, 421.9393577858511, 247.04380769309125, 193.2216071842541, 190.79534225525603, 183.76091639312548, 166.75541021039137, 154.54539125271302, 146.98670023265154, 145.81409102153754, 139.83075790898118, 139.23549846078976, 125.4989605591537, 123.59411200528872, 123.50723362199577, 115.14016328878041, 112.56047739762997, 95.59155753914544, 200.50243371052966, 292.6273135203862, 200.03912666587317, 123.95048743630642, 418.8542513727708, 233.3020791431187, 201.2460740785075, 340.3517699412399, 163.9147202484462, 282.51305701345325, 139.9298890293338, 421.9393577858511, 108.2845292424686, 254.19413349499013, 429.36842609598193], \"Category\": [\"Default\", \"Default\", \"Default\", \"Default\", \"Default\", \"Default\", \"Default\", \"Default\", \"Default\", \"Default\", \"Default\", \"Default\", \"Default\", \"Default\", \"Default\", \"Default\", \"Default\", \"Default\", \"Default\", \"Default\", \"Default\", \"Default\", \"Default\", \"Default\", \"Default\", \"Default\", \"Default\", \"Default\", \"Default\", \"Default\", \"Topic1\", \"Topic1\", \"Topic1\", \"Topic1\", \"Topic1\", \"Topic1\", \"Topic1\", \"Topic1\", \"Topic1\", \"Topic1\", \"Topic1\", \"Topic1\", \"Topic1\", \"Topic1\", \"Topic1\", \"Topic1\", \"Topic1\", \"Topic1\", \"Topic1\", \"Topic1\", \"Topic1\", \"Topic1\", \"Topic1\", \"Topic1\", \"Topic1\", \"Topic1\", \"Topic1\", \"Topic1\", \"Topic1\", \"Topic1\", \"Topic1\", \"Topic1\", \"Topic1\", \"Topic1\", \"Topic1\", \"Topic1\", \"Topic1\", \"Topic1\", \"Topic1\", \"Topic1\", \"Topic1\", \"Topic1\", \"Topic1\", \"Topic1\", \"Topic2\", \"Topic2\", \"Topic2\", \"Topic2\", \"Topic2\", \"Topic2\", \"Topic2\", \"Topic2\", \"Topic2\", \"Topic2\", \"Topic2\", \"Topic2\", \"Topic2\", \"Topic2\", \"Topic2\", \"Topic2\", \"Topic2\", \"Topic2\", \"Topic2\", \"Topic2\", \"Topic2\", \"Topic2\", \"Topic2\", \"Topic2\", \"Topic2\", \"Topic2\", \"Topic2\", \"Topic2\", \"Topic2\", \"Topic2\", \"Topic2\", \"Topic2\", \"Topic2\", \"Topic2\", \"Topic2\", \"Topic2\", \"Topic2\", \"Topic2\", \"Topic3\", \"Topic3\", \"Topic3\", \"Topic3\", \"Topic3\", \"Topic3\", \"Topic3\", \"Topic3\", \"Topic3\", \"Topic3\", \"Topic3\", \"Topic3\", \"Topic3\", \"Topic3\", \"Topic3\", \"Topic3\", \"Topic3\", \"Topic3\", \"Topic3\", \"Topic3\", \"Topic3\", \"Topic3\", \"Topic3\", \"Topic3\", \"Topic3\", \"Topic3\", \"Topic3\", \"Topic3\", \"Topic3\", \"Topic3\", \"Topic3\", \"Topic3\", \"Topic3\", \"Topic3\", \"Topic4\", \"Topic4\", \"Topic4\", \"Topic4\", \"Topic4\", \"Topic4\", \"Topic4\", \"Topic4\", \"Topic4\", \"Topic4\", \"Topic4\", \"Topic4\", \"Topic4\", \"Topic4\", \"Topic4\", \"Topic4\", \"Topic4\", \"Topic4\", \"Topic4\", \"Topic4\", \"Topic4\", \"Topic4\", \"Topic4\", \"Topic4\", \"Topic4\", \"Topic4\", \"Topic4\", \"Topic4\", \"Topic4\", \"Topic4\", \"Topic5\", \"Topic5\", \"Topic5\", \"Topic5\", \"Topic5\", \"Topic5\", \"Topic5\", \"Topic5\", \"Topic5\", \"Topic5\", \"Topic5\", \"Topic5\", \"Topic5\", \"Topic5\", \"Topic5\", \"Topic5\", \"Topic5\", \"Topic5\", \"Topic5\", \"Topic5\", \"Topic5\", \"Topic5\", \"Topic5\", \"Topic5\", \"Topic5\", \"Topic5\", \"Topic5\", \"Topic5\", \"Topic5\", \"Topic5\", \"Topic5\"], \"logprob\": [30.0, 29.0, 28.0, 27.0, 26.0, 25.0, 24.0, 23.0, 22.0, 21.0, 20.0, 19.0, 18.0, 17.0, 16.0, 15.0, 14.0, 13.0, 12.0, 11.0, 10.0, 9.0, 8.0, 7.0, 6.0, 5.0, 4.0, 3.0, 2.0, 1.0, -3.6433, -3.7887, -3.8741, -3.976, -3.8545, -4.0535, -4.0397, -4.0762, -4.0921, -4.0821, -4.159, -4.177, -3.2876, -4.26, -4.279, -4.3739, -4.405, -4.4536, -4.487, -4.456, -4.2174, -4.5436, -4.5866, -4.6085, -4.6638, -4.6638, -4.719, -4.6418, -3.5756, -4.7876, -3.8644, -3.7117, -3.8003, -3.4612, -4.0771, -4.1163, -4.2883, -3.5388, -4.0331, -4.0617, -4.0103, -4.2447, -4.2336, -4.2716, -3.5964, -3.6497, -3.7043, -3.7409, -3.8869, -3.9309, -3.9611, -4.0785, -4.0758, -4.0938, -4.1482, -4.1565, -4.1663, -4.2347, -4.2563, -4.2888, -4.29, -4.2895, -4.3003, -4.3238, -4.4161, -3.4112, -3.2302, -4.4498, -3.013, -4.0316, -4.0112, -3.8491, -4.183, -3.0987, -3.8018, -3.3469, -3.5449, -3.9847, -3.9426, -4.0488, -3.7689, -4.1521, -2.7877, -3.3718, -3.4011, -3.5924, -3.5987, -3.6005, -3.6723, -3.7386, -3.8033, -3.8147, -3.8342, -3.8829, -3.9133, -3.9355, -3.9853, -4.0086, -4.0635, -4.1028, -4.1277, -3.2245, -3.7957, -4.0868, -3.8538, -4.2393, -2.528, -4.4016, -4.5275, -3.0002, -4.453, -4.4345, -3.8347, -4.0785, -4.3006, -4.3167, -2.4507, -2.7978, -2.8509, -3.0948, -3.2831, -3.285, -3.3763, -3.4234, -3.4406, -3.5471, -3.5751, -3.6522, -3.7331, -3.7906, -3.8167, -3.137, -2.9015, -4.0411, -2.9427, -4.3313, -3.7884, -3.3638, -3.2246, -3.6177, -2.63, -4.9199, -4.5957, -4.8765, -5.1956, -4.755, -2.8884, -3.135, -3.1477, -3.1855, -3.283, -3.3595, -3.4098, -3.4179, -3.46, -3.4643, -3.5688, -3.5842, -3.5849, -3.6556, -3.6784, -3.8431, -3.1095, -3.0171, -3.4765, -3.9772, -2.7703, -3.4088, -3.6116, -3.172, -3.993, -3.5179, -4.2472, -3.5775, -5.186, -4.4129, -4.139], \"loglift\": [30.0, 29.0, 28.0, 27.0, 26.0, 25.0, 24.0, 23.0, 22.0, 21.0, 20.0, 19.0, 18.0, 17.0, 16.0, 15.0, 14.0, 13.0, 12.0, 11.0, 10.0, 9.0, 8.0, 7.0, 6.0, 5.0, 4.0, 3.0, 2.0, 1.0, 1.2777, 1.277, 1.2766, 1.2761, 1.276, 1.2756, 1.2755, 1.2754, 1.2754, 1.2752, 1.2749, 1.2748, 1.2746, 1.2742, 1.2741, 1.2733, 1.273, 1.2726, 1.2723, 1.2722, 1.2719, 1.2714, 1.2713, 1.2711, 1.2705, 1.2705, 1.2698, 1.2666, 1.2274, 1.1617, 1.1344, 0.8929, 0.9227, 0.7376, 0.9912, 1.0093, 1.0765, 0.108, 0.3451, 0.3694, 0.2059, 0.7304, 0.1181, -0.1368, 1.5269, 1.5266, 1.5264, 1.5261, 1.5253, 1.525, 1.5248, 1.5239, 1.5239, 1.5238, 1.5233, 1.5233, 1.5231, 1.5225, 1.5224, 1.522, 1.522, 1.522, 1.5219, 1.5217, 1.5207, 1.3735, 1.3679, 1.3655, 1.3207, 1.2645, 1.2315, 1.2214, 1.2196, 1.184, 1.1776, 1.0313, 1.0069, 1.1498, 1.0296, 1.1139, 0.0235, -0.5054, 1.6336, 1.6317, 1.6316, 1.6307, 1.6306, 1.6306, 1.6302, 1.6298, 1.6294, 1.6293, 1.6292, 1.6289, 1.6287, 1.6284, 1.6281, 1.6279, 1.6274, 1.6271, 1.6269, 1.6229, 1.5144, 1.3944, 1.3467, 1.3002, 1.2644, 1.2588, 1.2471, 1.1346, 1.1233, 1.1036, 0.9525, -0.4317, 0.2815, 0.0351, 1.8501, 1.8493, 1.8491, 1.8482, 1.8474, 1.8474, 1.847, 1.8467, 1.8467, 1.846, 1.8458, 1.8453, 1.8447, 1.8443, 1.8441, 1.8269, 1.7217, 1.5826, 1.5642, 1.3292, 1.2465, 1.2047, 1.1271, 1.1252, 1.0167, 0.7579, 0.3794, 0.3369, -0.4084, -0.5388, 1.8631, 1.8622, 1.8621, 1.862, 1.8615, 1.8611, 1.8609, 1.8608, 1.8606, 1.8606, 1.8599, 1.8598, 1.8598, 1.8593, 1.8592, 1.8579, 1.8507, 1.5651, 1.4861, 1.464, 1.4532, 1.3999, 1.3449, 1.2591, 1.1687, 1.0994, 1.0727, 0.6387, 0.3903, 0.31, 0.0598]}, \"token.table\": {\"Topic\": [3, 5, 3, 2, 1, 3, 4, 5, 2, 1, 2, 3, 5, 1, 2, 5, 3, 2, 1, 4, 2, 1, 2, 5, 1, 4, 1, 1, 2, 3, 1, 2, 4, 1, 3, 5, 2, 1, 2, 1, 3, 4, 4, 2, 1, 5, 3, 1, 1, 5, 1, 3, 1, 2, 5, 3, 1, 2, 3, 5, 1, 1, 5, 5, 5, 1, 1, 4, 3, 1, 1, 2, 3, 5, 5, 5, 4, 1, 2, 3, 5, 2, 1, 1, 5, 1, 2, 3, 5, 1, 2, 3, 2, 3, 5, 1, 2, 4, 3, 4, 2, 1, 1, 3, 1, 2, 4, 2, 3, 1, 3, 1, 4, 2, 1, 2, 3, 4, 4, 3, 3, 1, 2, 4, 2, 1, 2, 3, 3, 5, 1, 3, 4, 1, 3, 1, 1, 3, 5, 2, 3, 3, 5, 5, 2, 3, 1, 2, 3, 1, 3, 5, 1, 2, 1, 2, 3, 4, 2, 1, 4, 3, 2, 1, 2, 3, 4, 5, 3, 1, 2, 1, 2, 3, 2, 4, 5, 1, 3, 5, 1, 5, 1, 3, 4, 1, 1, 3, 5, 5, 1, 2, 5, 4, 4, 4, 2, 1, 2, 3, 4, 1, 2, 1, 2, 2, 1, 2, 4, 1, 3, 5, 2, 4, 5, 4, 1, 2, 1, 2, 3, 4, 5, 1, 5, 1, 5, 1, 2, 3, 5, 3, 3, 4, 1, 2, 3, 1, 1, 2, 3, 3, 2, 1, 2, 5, 1, 2, 1, 2, 3, 4, 2, 3, 1, 1, 2, 2, 3, 3, 1, 2, 4, 3, 2, 3, 1, 4], \"Freq\": [0.9967212010110503, 0.9951930395740591, 0.9906498941000029, 0.9960488425539769, 0.5770800767600706, 0.1923600255866902, 0.22779476714213312, 0.9938116131343169, 0.9955064375289026, 0.08356128625957479, 0.16951003784085172, 0.08594875158127693, 0.661327894111492, 0.3146782142434322, 0.6827923516602773, 0.9960241857228888, 0.9899072764728888, 0.9933070111598874, 0.9905141282432418, 0.9961465822349933, 0.99249622574695, 0.09001205680262109, 0.2786087472462081, 0.6257981091991751, 0.9976780237928662, 0.9890739985467786, 0.9905228489184974, 0.9869531933668667, 0.008910731860573624, 0.9890912365236723, 0.9934422590151217, 0.020022225895345493, 0.9760835123980928, 0.16622873208133687, 0.6002704214048276, 0.23087323900185677, 0.9953569282296929, 0.3937100445380283, 0.6057077608277359, 0.4088523581440545, 0.25553272384003406, 0.33730319546884496, 0.996013745827949, 0.9936122490835964, 0.9974273910404364, 0.9936776885253356, 0.9973496662727253, 0.99681204974663, 0.9958795427300741, 0.9950206554681709, 0.40889407441033715, 0.5866741067626576, 0.678039450322816, 0.20970292278025238, 0.1118415588161346, 0.9974504262234163, 0.027843283530474668, 0.7350626852045312, 0.1837656713011328, 0.055686567060949335, 0.9917071684064865, 0.3227095014092181, 0.6696222154241276, 0.9900976057683643, 0.9944169248950206, 0.9940968750952799, 0.9911521681384379, 0.012872106079719971, 0.9947860512977124, 0.9890594483765944, 0.003472231887579101, 0.8472245805693006, 0.14583373927832224, 0.003472231887579101, 0.9911265555519401, 0.9940588328247356, 0.991862687590614, 0.4025247173641917, 0.02350509298477032, 0.029381366230962897, 0.5435552752728137, 0.9928074719916388, 0.9956262862687492, 0.4024923237429285, 0.5913158830297344, 0.5799215425876192, 0.09781809152080323, 0.15604314599747182, 0.1653591547137388, 0.06276850652495711, 0.8536516887394167, 0.07950677493161235, 0.8102851220945123, 0.1839133994227676, 0.005330823171674423, 0.2891067714901404, 0.48826921407223717, 0.2184362273481061, 0.9934238622276702, 0.995551912853941, 0.9920434000789381, 0.9913124715311123, 0.2759439885246647, 0.7121135187733282, 0.3067514107569818, 0.16854473118515484, 0.5224886666739801, 0.24733767490195235, 0.7483550163700097, 0.3114331022819988, 0.6831435791992231, 0.2324047380749967, 0.7649989294968642, 0.9967305516661443, 0.3097717431764437, 0.13007731206976206, 0.12605430241811993, 0.43314403916013555, 0.9901393844969647, 0.9905058163363638, 0.9922384368269829, 0.9949743011520534, 0.9955018774037647, 0.9934237399317519, 0.9931699577843593, 0.7501742394128671, 0.07779584705022326, 0.17226223275406577, 0.998003945712362, 0.9958930857155445, 0.39014133762121517, 0.5034081775757615, 0.10487670366161699, 0.8604983314838202, 0.13477684709987545, 0.991669749952771, 0.9848524394476178, 0.2597160158622902, 0.7415575716068024, 0.6595045534370091, 0.33585880036143984, 0.8846431875928524, 0.11323432801188511, 0.9932871461765603, 0.9925905242485857, 0.9907217350324418, 0.24251628363962588, 0.1507533655057134, 0.6051982934069943, 0.3822832160102853, 0.1522053545226136, 0.4636953823828461, 0.2639102511910629, 0.7296342238811738, 0.2729038961177433, 0.21270450726824108, 0.02809304812976769, 0.4815951107960175, 0.991197516968295, 0.4018667862815342, 0.592753509765263, 0.9925292687529318, 0.9935008073268796, 0.08377234113131202, 0.22184157003291885, 0.6903461445080342, 0.0015513396505798522, 0.0031026793011597045, 0.9956992086634435, 0.2580054813326445, 0.740938818186056, 0.9915284858512764, 0.003349758398146204, 0.003349758398146204, 0.9906880698535364, 0.9926996466127873, 0.9957748072990034, 0.2572716969171129, 0.29300387704448966, 0.4502254696049475, 0.9869379880566393, 0.9964709963312902, 0.3121134216605791, 0.20083820176419873, 0.48309729613550506, 0.9907426463365865, 0.8147313125957873, 0.17939038075503574, 0.9958592044050454, 0.9954699508133602, 0.03489047735051763, 0.7675905017113879, 0.20236476863300226, 0.9952400327701589, 0.9981845499255076, 0.9896083859493991, 0.995381679533111, 0.26522517817532687, 0.5901260214401023, 0.135927903814855, 0.009945944181574757, 0.9907895761533037, 0.9934846626417788, 0.9932495358201585, 0.9964423529386884, 0.9912376007865519, 0.4460410910553143, 0.005373989048859208, 0.5481468829836393, 0.7002521952518159, 0.09048202522916723, 0.212436059233697, 0.12105910424731833, 0.8758982248482444, 0.9958314377811593, 0.9953460333250258, 0.7590583371866896, 0.2353669262594386, 0.34128127026511, 0.1540505733835566, 0.1208704498855598, 0.09243034403013396, 0.2938810938394003, 0.009974941266236447, 0.98253171472429, 0.31493838755469755, 0.6848660173808503, 0.12918379591315515, 0.7067113541131429, 0.16211299879297902, 0.0025330156061402972, 0.9942813122020577, 0.9919556622068076, 0.9927200512342956, 0.9880178781830917, 0.9949541279512777, 0.9939945667774847, 0.9925196009982078, 0.9958424750597562, 0.8444117060682467, 0.14073528434470778, 0.9942071771697332, 0.9921760248161283, 0.28673446734229796, 0.21352566716979635, 0.5002601345120943, 0.9461523687217229, 0.05114337128225529, 0.9912946082814371, 0.24406255124180973, 0.006339287045241811, 0.7512055148611546, 0.3152760231890982, 0.6755914782623532, 0.994798037594732, 0.8851215236017066, 0.10728745740626747, 0.20993723270133383, 0.7893639949570151, 0.9951679710785002, 0.3929463200696227, 0.6075340267743102, 0.9958281796349128, 0.9902637998013462, 0.7016108474545474, 0.2948799213939402, 0.9953262891497612, 0.9949345525737949], \"Term\": [\"10\", \"absolutely\", \"action\", \"actor\", \"actually\", \"actually\", \"actually\", \"agree\", \"already\", \"also\", \"also\", \"also\", \"also\", \"always\", \"always\", \"amazing\", \"another\", \"anyone\", \"anything\", \"around\", \"away\", \"back\", \"back\", \"back\", \"bad\", \"based\", \"basically\", \"believe\", \"best\", \"best\", \"better\", \"big\", \"big\", \"bit\", \"bit\", \"bit\", \"came\", \"character\", \"character\", \"characters\", \"characters\", \"characters\", \"com\", \"come\", \"could\", \"day\", \"definitely\", \"different\", \"end\", \"ending\", \"enough\", \"enough\", \"even\", \"even\", \"even\", \"ever\", \"every\", \"every\", \"every\", \"every\", \"everyone\", \"everything\", \"everything\", \"far\", \"favorite\", \"feel\", \"felt\", \"felt\", \"films\", \"find\", \"first\", \"first\", \"first\", \"first\", \"fucking\", \"fun\", \"funny\", \"get\", \"get\", \"get\", \"get\", \"getting\", \"go\", \"going\", \"going\", \"good\", \"good\", \"good\", \"good\", \"got\", \"got\", \"got\", \"great\", \"great\", \"great\", \"guy\", \"guy\", \"guy\", \"horror\", \"https\", \"interesting\", \"kid\", \"kind\", \"kind\", \"know\", \"know\", \"know\", \"last\", \"last\", \"least\", \"least\", \"let\", \"let\", \"life\", \"like\", \"like\", \"like\", \"like\", \"line\", \"list\", \"little\", \"lol\", \"long\", \"look\", \"looking\", \"lot\", \"lot\", \"lot\", \"love\", \"loved\", \"made\", \"made\", \"made\", \"make\", \"make\", \"makes\", \"making\", \"man\", \"man\", \"many\", \"many\", \"maybe\", \"maybe\", \"mean\", \"might\", \"mind\", \"movies\", \"movies\", \"movies\", \"much\", \"much\", \"much\", \"need\", \"need\", \"never\", \"never\", \"never\", \"never\", \"next\", \"nothing\", \"nothing\", \"oh\", \"old\", \"one\", \"one\", \"one\", \"one\", \"one\", \"original\", \"part\", \"part\", \"people\", \"people\", \"people\", \"perfect\", \"point\", \"pretty\", \"probably\", \"probably\", \"probably\", \"read\", \"real\", \"really\", \"really\", \"really\", \"reason\", \"remember\", \"remember\", \"right\", \"role\", \"saw\", \"saw\", \"saw\", \"say\", \"scene\", \"scenes\", \"second\", \"see\", \"see\", \"see\", \"see\", \"sense\", \"series\", \"shit\", \"show\", \"since\", \"something\", \"something\", \"something\", \"still\", \"still\", \"still\", \"story\", \"story\", \"sure\", \"take\", \"thing\", \"thing\", \"think\", \"think\", \"think\", \"think\", \"think\", \"though\", \"though\", \"thought\", \"thought\", \"time\", \"time\", \"time\", \"time\", \"times\", \"top\", \"true\", \"trying\", \"tv\", \"two\", \"us\", \"want\", \"wanted\", \"wanted\", \"war\", \"watched\", \"watching\", \"watching\", \"watching\", \"way\", \"way\", \"weird\", \"well\", \"well\", \"well\", \"went\", \"went\", \"whole\", \"without\", \"without\", \"work\", \"work\", \"world\", \"would\", \"would\", \"yeah\", \"year\", \"years\", \"years\", \"yes\", \"youtube\"]}, \"R\": 30, \"lambda.step\": 0.01, \"plot.opts\": {\"xlab\": \"PC1\", \"ylab\": \"PC2\"}, \"topic.order\": [2, 4, 5, 3, 1]};\n",
       "\n",
       "function LDAvis_load_lib(url, callback){\n",
       "  var s = document.createElement('script');\n",
       "  s.src = url;\n",
       "  s.async = true;\n",
       "  s.onreadystatechange = s.onload = callback;\n",
       "  s.onerror = function(){console.warn(\"failed to load library \" + url);};\n",
       "  document.getElementsByTagName(\"head\")[0].appendChild(s);\n",
       "}\n",
       "\n",
       "if(typeof(LDAvis) !== \"undefined\"){\n",
       "   // already loaded: just create the visualization\n",
       "   !function(LDAvis){\n",
       "       new LDAvis(\"#\" + \"ldavis_el482423450618407363338564353\", ldavis_el482423450618407363338564353_data);\n",
       "   }(LDAvis);\n",
       "}else if(typeof define === \"function\" && define.amd){\n",
       "   // require.js is available: use it to load d3/LDAvis\n",
       "   require.config({paths: {d3: \"https://d3js.org/d3.v5\"}});\n",
       "   require([\"d3\"], function(d3){\n",
       "      window.d3 = d3;\n",
       "      LDAvis_load_lib(\"https://cdn.jsdelivr.net/gh/bmabey/pyLDAvis@3.4.0/pyLDAvis/js/ldavis.v3.0.0.js\", function(){\n",
       "        new LDAvis(\"#\" + \"ldavis_el482423450618407363338564353\", ldavis_el482423450618407363338564353_data);\n",
       "      });\n",
       "    });\n",
       "}else{\n",
       "    // require.js not available: dynamically load d3 & LDAvis\n",
       "    LDAvis_load_lib(\"https://d3js.org/d3.v5.js\", function(){\n",
       "         LDAvis_load_lib(\"https://cdn.jsdelivr.net/gh/bmabey/pyLDAvis@3.4.0/pyLDAvis/js/ldavis.v3.0.0.js\", function(){\n",
       "                 new LDAvis(\"#\" + \"ldavis_el482423450618407363338564353\", ldavis_el482423450618407363338564353_data);\n",
       "            })\n",
       "         });\n",
       "}\n",
       "</script>"
      ],
      "text/plain": [
       "PreparedData(topic_coordinates=              x         y  topics  cluster       Freq\n",
       "topic                                                \n",
       "1      0.017439 -0.036113       1        1  27.754819\n",
       "3     -0.007472 -0.207429       2        1  21.612998\n",
       "4      0.049797 -0.205936       3        1  19.474562\n",
       "2     -0.361159  0.190378       4        1  15.688843\n",
       "0      0.301395  0.259100       5        1  15.468779, topic_info=         Term        Freq       Total Category  logprob  loglift\n",
       "122     scene  387.000000  387.000000  Default  30.0000  30.0000\n",
       "83       love  343.000000  343.000000  Default  29.0000  29.0000\n",
       "104       one  644.000000  644.000000  Default  28.0000  28.0000\n",
       "65      https  274.000000  274.000000  Default  27.0000  27.0000\n",
       "165      yeah  260.000000  260.000000  Default  26.0000  26.0000\n",
       "..        ...         ...         ...      ...      ...      ...\n",
       "111  probably   63.275678  139.929889   Topic5  -4.2472   1.0727\n",
       "140     think  123.622012  421.939358   Topic5  -3.5775   0.6387\n",
       "24        bit   24.747106  108.284529   Topic5  -5.1860   0.3903\n",
       "133     still   53.613273  254.194133   Topic5  -4.4129   0.3100\n",
       "59       good   70.508955  429.368426   Topic5  -4.1390   0.0598\n",
       "\n",
       "[207 rows x 6 columns], token_table=      Topic      Freq        Term\n",
       "term                             \n",
       "0         3  0.996721          10\n",
       "1         5  0.995193  absolutely\n",
       "2         3  0.990650      action\n",
       "3         2  0.996049       actor\n",
       "4         1  0.577080    actually\n",
       "...     ...       ...         ...\n",
       "166       3  0.990264        year\n",
       "167       2  0.701611       years\n",
       "167       3  0.294880       years\n",
       "168       1  0.995326         yes\n",
       "169       4  0.994935     youtube\n",
       "\n",
       "[268 rows x 3 columns], R=30, lambda_step=0.01, plot_opts={'xlab': 'PC1', 'ylab': 'PC2'}, topic_order=[2, 4, 5, 3, 1])"
      ]
     },
     "execution_count": 39,
     "metadata": {},
     "output_type": "execute_result"
    }
   ],
   "source": [
    "import pyLDAvis\n",
    "import pyLDAvis.lda_model\n",
    "pyLDAvis.enable_notebook()\n",
    "pyLDAvis.lda_model.prepare(lda, vectors, vectorizer)"
   ]
  }
 ],
 "metadata": {
  "kernelspec": {
   "display_name": "base",
   "language": "python",
   "name": "python3"
  },
  "language_info": {
   "codemirror_mode": {
    "name": "ipython",
    "version": 3
   },
   "file_extension": ".py",
   "mimetype": "text/x-python",
   "name": "python",
   "nbconvert_exporter": "python",
   "pygments_lexer": "ipython3",
   "version": "3.11.5"
  }
 },
 "nbformat": 4,
 "nbformat_minor": 2
}
