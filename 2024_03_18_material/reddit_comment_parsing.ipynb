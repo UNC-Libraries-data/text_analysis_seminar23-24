{
 "cells": [
  {
   "cell_type": "code",
   "execution_count": 1,
   "metadata": {},
   "outputs": [],
   "source": [
    "import praw\n",
    "import pandas as pd\n",
    "import re"
   ]
  },
  {
   "cell_type": "code",
   "execution_count": 2,
   "metadata": {},
   "outputs": [],
   "source": [
    "reddit = praw.Reddit(\n",
    "    client_id=\"RhDpBePlYmQA1rwdSCFv5g\", # replace with app's id\n",
    "    client_secret=\"xLQTanFwQf1h_AURkdgJr85GVk9gGA\", # replace with app's secret id\n",
    "    user_agent= \"Reddit data by u/kierkeggard\", # replace <reddit_username> with your Reddit username\n",
    "    username=\"kierkeggard\", # replace <reddit_username> with your reddit username (do not include u/)\n",
    "    password=\"Sidekick1!\",# replace with your reddit password\n",
    "    redirect_uri=\"https://localhost:8080\" # do not change\n",
    ")"
   ]
  },
  {
   "cell_type": "code",
   "execution_count": 3,
   "metadata": {},
   "outputs": [
    {
     "name": "stdout",
     "output_type": "stream",
     "text": [
      "kierkeggard\n"
     ]
    }
   ],
   "source": [
    "print(reddit.user.me())"
   ]
  },
  {
   "cell_type": "markdown",
   "metadata": {},
   "source": [
    "Following steps from [PRAW's documentation](https://praw.readthedocs.io/en/stable/tutorials/comments.html)"
   ]
  },
  {
   "cell_type": "code",
   "execution_count": 37,
   "metadata": {},
   "outputs": [],
   "source": [
    "# Reddit post: https://www.reddit.com/r/politics/comments/1bhtrdh\n",
    "submission = reddit.submission('1bhtrdh')"
   ]
  },
  {
   "cell_type": "code",
   "execution_count": 38,
   "metadata": {},
   "outputs": [
    {
     "name": "stdout",
     "output_type": "stream",
     "text": [
      "Comment ID: kvfu724\n",
      "Comment Body: \n",
      "As a reminder, this subreddit [is for civil discussion.](/r/politics/wiki/index#wiki_be_civil)\n",
      "\n",
      "In general, be courteous to others. Debate/discuss/argue the merits of ideas, don't attack people. Personal insults, shill or troll accusations, hate speech, any suggestion or support of harm, violence, or death, and other rule violations can result in a permanent ban. \n",
      "\n",
      "If you see comments in violation of our rules, please report them.\n",
      "\n",
      " For those who have questions regarding any media outlets being posted on this subreddit, please click [here](https://www.reddit.com/r/politics/wiki/approveddomainslist) to review our details as to our approved domains list and outlet criteria.\n",
      " \n",
      " We are actively looking for new moderators.  If you have any interest in helping to make this subreddit a place for quality discussion, please fill out [this form](https://docs.google.com/forms/d/1y2swHD0KXFhStGFjW6k54r9iuMjzcFqDIVwuvdLBjSA).\n",
      " \n",
      "\n",
      "***\n",
      "\n",
      "\n",
      "*I am a bot, and this action was performed automatically. Please [contact the moderators of this subreddit](/message/compose/?to=/r/politics) if you have any questions or concerns.*\n",
      "\n",
      "\n",
      "Comment ID: kvfuizf\n",
      "Comment Body: Can't pay $454 million bond, straight to jail.\n",
      "\n",
      "\n",
      "Comment ID: kvfvq63\n",
      "Comment Body: Trump is a security risk.  He will sell the US to anyone who will post the money the needs.\n",
      "\n",
      "\n",
      "Comment ID: kvfut0r\n",
      "Comment Body: So...he lied under oath about having '\"nearly 400 million in liquid assets\"? Or do we think he's shopping around for another sovereign wealth fund and insurance company to foot the bill?\n",
      "\n",
      "\n",
      "Comment ID: kvfvcds\n",
      "Comment Body: To the surprise of no one, it turns out nobody wants to be on the hook for half a billion from Trump.\n",
      "\n",
      "\n"
     ]
    }
   ],
   "source": [
    "for top_level_comment in submission.comments[:5]:\n",
    "    print(f'Comment ID: {top_level_comment}')\n",
    "    print(f'Comment Body: {top_level_comment.body}')\n",
    "    print(f'\\n')"
   ]
  },
  {
   "cell_type": "code",
   "execution_count": 88,
   "metadata": {},
   "outputs": [],
   "source": [
    "comments = []"
   ]
  },
  {
   "cell_type": "code",
   "execution_count": 40,
   "metadata": {},
   "outputs": [
    {
     "data": {
      "text/plain": [
       "[]"
      ]
     },
     "execution_count": 40,
     "metadata": {},
     "output_type": "execute_result"
    }
   ],
   "source": [
    "submission.comments.replace_more(limit=None)"
   ]
  },
  {
   "cell_type": "code",
   "execution_count": 89,
   "metadata": {},
   "outputs": [],
   "source": [
    "# PRAW documentation for comment attributes: \n",
    "# https://praw.readthedocs.io/en/stable/code_overview/models/comment.html\n",
    "\n",
    "# this code returns top-level comments then second-level comments then third...etc\n",
    "for idx, comment in enumerate(submission.comments.list()):\n",
    "    comment_data = {}\n",
    "    comment_data['id'] = idx\n",
    "    comment_data['comment_id'] = comment.id\n",
    "    comment_data['body'] = comment.body\n",
    "    comment_data['parent_id'] = comment.parent_id\n",
    "    comment_data['submission_id'] = comment.link_id\n",
    "    comment_data['author'] = comment.author.name\n",
    "    comments.append(comment_data)"
   ]
  },
  {
   "cell_type": "code",
   "execution_count": 90,
   "metadata": {},
   "outputs": [
    {
     "data": {
      "text/plain": [
       "[{'id': 0,\n",
       "  'comment_id': 'kvfu724',\n",
       "  'body': \"\\nAs a reminder, this subreddit [is for civil discussion.](/r/politics/wiki/index#wiki_be_civil)\\n\\nIn general, be courteous to others. Debate/discuss/argue the merits of ideas, don't attack people. Personal insults, shill or troll accusations, hate speech, any suggestion or support of harm, violence, or death, and other rule violations can result in a permanent ban. \\n\\nIf you see comments in violation of our rules, please report them.\\n\\n For those who have questions regarding any media outlets being posted on this subreddit, please click [here](https://www.reddit.com/r/politics/wiki/approveddomainslist) to review our details as to our approved domains list and outlet criteria.\\n \\n We are actively looking for new moderators.  If you have any interest in helping to make this subreddit a place for quality discussion, please fill out [this form](https://docs.google.com/forms/d/1y2swHD0KXFhStGFjW6k54r9iuMjzcFqDIVwuvdLBjSA).\\n \\n\\n***\\n\\n\\n*I am a bot, and this action was performed automatically. Please [contact the moderators of this subreddit](/message/compose/?to=/r/politics) if you have any questions or concerns.*\",\n",
       "  'parent_id': 't3_1bhtrdh',\n",
       "  'submission_id': 't3_1bhtrdh',\n",
       "  'author': 'AutoModerator'},\n",
       " {'id': 1,\n",
       "  'comment_id': 'kvfuizf',\n",
       "  'body': \"Can't pay $454 million bond, straight to jail.\",\n",
       "  'parent_id': 't3_1bhtrdh',\n",
       "  'submission_id': 't3_1bhtrdh',\n",
       "  'author': 'sugarlessdeathbear'},\n",
       " {'id': 2,\n",
       "  'comment_id': 'kvfvq63',\n",
       "  'body': 'Trump is a security risk.  He will sell the US to anyone who will post the money the needs.',\n",
       "  'parent_id': 't3_1bhtrdh',\n",
       "  'submission_id': 't3_1bhtrdh',\n",
       "  'author': 'TintedApostle'},\n",
       " {'id': 3,\n",
       "  'comment_id': 'kvfut0r',\n",
       "  'body': 'So...he lied under oath about having \\'\"nearly 400 million in liquid assets\"? Or do we think he\\'s shopping around for another sovereign wealth fund and insurance company to foot the bill?',\n",
       "  'parent_id': 't3_1bhtrdh',\n",
       "  'submission_id': 't3_1bhtrdh',\n",
       "  'author': 'Phynx88'},\n",
       " {'id': 4,\n",
       "  'comment_id': 'kvfvcds',\n",
       "  'body': 'To the surprise of no one, it turns out nobody wants to be on the hook for half a billion from Trump.',\n",
       "  'parent_id': 't3_1bhtrdh',\n",
       "  'submission_id': 't3_1bhtrdh',\n",
       "  'author': 'JimothyRecard'},\n",
       " {'id': 5,\n",
       "  'comment_id': 'kvfvtg6',\n",
       "  'body': 'The bill always comes due.\\n\\n\\\\--Mordo, \"Dr Strange\"',\n",
       "  'parent_id': 't3_1bhtrdh',\n",
       "  'submission_id': 't3_1bhtrdh',\n",
       "  'author': 'lodestar72'},\n",
       " {'id': 6,\n",
       "  'comment_id': 'kvfx1zk',\n",
       "  'body': 'He’s a self professed billionaire. If any of us had to pay $5 million in a penalty and had scores of properties, homes, or investments, the courts would tell us to sell what isn’t essential. Like, you know, golf courses, jets, extra automobiles, and hotels.',\n",
       "  'parent_id': 't3_1bhtrdh',\n",
       "  'submission_id': 't3_1bhtrdh',\n",
       "  'author': 'Cine_Wolf'},\n",
       " {'id': 7,\n",
       "  'comment_id': 'kvfweuh',\n",
       "  'body': 'Cool, then take away his toys. Maybe start with the plane?',\n",
       "  'parent_id': 't3_1bhtrdh',\n",
       "  'submission_id': 't3_1bhtrdh',\n",
       "  'author': 'gradientz'},\n",
       " {'id': 8,\n",
       "  'comment_id': 'kvfwn9l',\n",
       "  'body': 'But he’s a billionaire…',\n",
       "  'parent_id': 't3_1bhtrdh',\n",
       "  'submission_id': 't3_1bhtrdh',\n",
       "  'author': 'LinkAdams'},\n",
       " {'id': 9,\n",
       "  'comment_id': 'kvfzv5j',\n",
       "  'body': \"Big Smelly is just trying to get the appeal court to lower the bond amount without having to pay for anything. That would be accepting accountability. He is UNABLE to do so. \\n\\nTrump is a narsassiatic sociopath. That isn't hyperbole. He is literally a textbook example. Biden certainly needs to shine a light on Trumps mental health.\",\n",
       "  'parent_id': 't3_1bhtrdh',\n",
       "  'submission_id': 't3_1bhtrdh',\n",
       "  'author': 'BeautysBeast'},\n",
       " {'id': 10,\n",
       "  'comment_id': 'kvg02jt',\n",
       "  'body': \"It doesn't mean he doesn't have 454 million in liquid assets, it means he can't secure a bond because nobody believes they could sell everything he owns and make back their 450 mil.\",\n",
       "  'parent_id': 't3_1bhtrdh',\n",
       "  'submission_id': 't3_1bhtrdh',\n",
       "  'author': 'NolanSyKinsley'},\n",
       " {'id': 11,\n",
       "  'comment_id': 'kvfwgvu',\n",
       "  'body': \"You mean the GoFundMe ~~scam~~ campaign didn't help at all???\",\n",
       "  'parent_id': 't3_1bhtrdh',\n",
       "  'submission_id': 't3_1bhtrdh',\n",
       "  'author': 'Oscarfan'},\n",
       " {'id': 12,\n",
       "  'comment_id': 'kvfwrax',\n",
       "  'body': 'I offer to buy MAGAlago for $1',\n",
       "  'parent_id': 't3_1bhtrdh',\n",
       "  'submission_id': 't3_1bhtrdh',\n",
       "  'author': 'ThatGuyFromTheM0vie'},\n",
       " {'id': 13,\n",
       "  'comment_id': 'kvfx3x8',\n",
       "  'body': 'Haha',\n",
       "  'parent_id': 't3_1bhtrdh',\n",
       "  'submission_id': 't3_1bhtrdh',\n",
       "  'author': 'boxer_dogs_dance'},\n",
       " {'id': 14,\n",
       "  'comment_id': 'kvg0503',\n",
       "  'body': 'So he’s admitting in a court of law that he’s nowhere close to a billionaire.',\n",
       "  'parent_id': 't3_1bhtrdh',\n",
       "  'submission_id': 't3_1bhtrdh',\n",
       "  'author': 'CommunicationHot7822'},\n",
       " {'id': 15,\n",
       "  'comment_id': 'kvg0913',\n",
       "  'body': 'Little Seizures',\n",
       "  'parent_id': 't3_1bhtrdh',\n",
       "  'submission_id': 't3_1bhtrdh',\n",
       "  'author': 'Kip27'},\n",
       " {'id': 16,\n",
       "  'comment_id': 'kvfx1w9',\n",
       "  'body': 'When you owe so much I think it’s a state problem more than Trump problem',\n",
       "  'parent_id': 't3_1bhtrdh',\n",
       "  'submission_id': 't3_1bhtrdh',\n",
       "  'author': 'TTVControlWarrior'},\n",
       " {'id': 17,\n",
       "  'comment_id': 'kvfw81e',\n",
       "  'body': 'Not jail. But straight to seizing assets.',\n",
       "  'parent_id': 't1_kvfuizf',\n",
       "  'submission_id': 't3_1bhtrdh',\n",
       "  'author': 'Quiet_Dimensions'},\n",
       " {'id': 18,\n",
       "  'comment_id': 'kvfuy1m',\n",
       "  'body': 'He’s just waiting for Lara Trump to get the keys to the RNC treasury',\n",
       "  'parent_id': 't1_kvfut0r',\n",
       "  'submission_id': 't3_1bhtrdh',\n",
       "  'author': 'tophman2'},\n",
       " {'id': 19,\n",
       "  'comment_id': 'kvg0atn',\n",
       "  'body': \"It means he can't even secure a bond because nobody believes they could sell everything he owns and make back their 454 mil.\",\n",
       "  'parent_id': 't1_kvfut0r',\n",
       "  'submission_id': 't3_1bhtrdh',\n",
       "  'author': 'NolanSyKinsley'},\n",
       " {'id': 20,\n",
       "  'comment_id': 'kvg2kwf',\n",
       "  'body': \"You're wrong, the only problem the State has is deciding who to auction Trump tower off to.\",\n",
       "  'parent_id': 't1_kvfx1w9',\n",
       "  'submission_id': 't3_1bhtrdh',\n",
       "  'author': 'zach_doesnt_care'},\n",
       " {'id': 21,\n",
       "  'comment_id': 'kvfvq5r',\n",
       "  'body': 'They will not find half a billion dollars in there, nor is the RNC gonna raise that much cash just to temporarily enable a Trump Hail Mary. \\xa0',\n",
       "  'parent_id': 't1_kvfuy1m',\n",
       "  'submission_id': 't3_1bhtrdh',\n",
       "  'author': 'BeowulfShaeffer'}]"
      ]
     },
     "execution_count": 90,
     "metadata": {},
     "output_type": "execute_result"
    }
   ],
   "source": [
    "comments"
   ]
  }
 ],
 "metadata": {
  "kernelspec": {
   "display_name": "base",
   "language": "python",
   "name": "python3"
  },
  "language_info": {
   "codemirror_mode": {
    "name": "ipython",
    "version": 3
   },
   "file_extension": ".py",
   "mimetype": "text/x-python",
   "name": "python",
   "nbconvert_exporter": "python",
   "pygments_lexer": "ipython3",
   "version": "3.9.13"
  }
 },
 "nbformat": 4,
 "nbformat_minor": 2
}
